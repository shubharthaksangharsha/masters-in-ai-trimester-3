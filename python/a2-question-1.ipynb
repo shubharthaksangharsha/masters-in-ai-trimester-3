{
 "cells": [
  {
   "attachments": {},
   "cell_type": "markdown",
   "id": "e235f7e0-9183-42d5-b67f-9c36c3af65ff",
   "metadata": {},
   "source": [
    "# <mark style=\"background: #1059e1; color: #ffffff;\" >&nbsp;A2&nbsp;</mark> Question 1\n",
    "\n",
    "1. You may freely modify the notebook - adding/changing cells as required.\n",
    "1. You are encouraged **not** to clear the output of your executed code before submitting in order to demonstrate testing of your solution."
   ]
  },
  {
   "cell_type": "markdown",
   "id": "ef13a37f-1760-4d25-b2fa-2637a15bcb81",
   "metadata": {},
   "source": [
    "# Shubharthak Sangharasha \n",
    "# StudentID: `a1944839`"
   ]
  },
  {
   "cell_type": "markdown",
   "id": "a899ff47-1ad5-48cb-abba-eed9c2f58d2c",
   "metadata": {},
   "source": [
    "## Question:- \n",
    "\n",
    "Q1 Lists, Set & For Loops\n",
    "30 Points\n",
    "Grading comment:\n",
    "General Notice:\n",
    "\n",
    "Regardless of the number of questions and the content of the questions, refer to gradescope. (You may find that gradescope does not match the ipynb files extracted from the zip file; if there are missing files, you can also create a new ipynb file yourself.)\n",
    "You may find that the results produced by your code are different from those provided in the question. Don't worry, we are just providing an example, trust your own code.\n",
    "In this question, we are seeking a demonstration of your mastery of iteration using for loops and lists. You must rely on iteration to answer the following question in the notebook a2-question-1.ipynb:\n",
    "\n",
    "Find the intersection part of two lists.\n",
    "1. If you use set or Dictionary, you can only get 15 marks at most.\n",
    "2. If you don't rely on Set and Dictionary here, you will get 30 marks at most.\n",
    "\n",
    "Test Case 1:\n",
    "\n",
    "`nums1 = [4,9,5], nums2 = [9,4,9,8,4]`\n",
    "\n",
    "`assert (Intersection == [4,9] or Intersection == [9,4])`\n",
    "\n",
    "Test Case 2:\n",
    "\n",
    "`nums1 = [3,2,5,5,5,6], nums2 = [9,4,9,8,4,4,9,8,4]`\n",
    "\n",
    "`assert Intersection == []`\n",
    "\n",
    "You must test you program by the two cases. Your code must not rely on hard-coded programs and external packages."
   ]
  },
  {
   "cell_type": "code",
   "execution_count": 4,
   "id": "5200c071-de48-48af-b64a-8bc0e9f22b6c",
   "metadata": {},
   "outputs": [
    {
     "name": "stdin",
     "output_type": "stream",
     "text": [
      "Please enter total number of elements present in list1:  3\n",
      "Please enter the 1 element:  4\n",
      "Please enter the 2 element:  9\n",
      "Please enter the 3 element:  5\n",
      "Please enter total number of elements present in list2:  5\n",
      "Please enter the 1 element:  9\n",
      "Please enter the 2 element:  4\n",
      "Please enter the 3 element:  9\n",
      "Please enter the 4 element:  8\n",
      "Please enter the 5 element:  4\n"
     ]
    },
    {
     "name": "stdout",
     "output_type": "stream",
     "text": [
      "The intersection of ['4', '9', '5'] and ['9', '4', '9', '8', '4'] is ['4', '9']\n"
     ]
    },
    {
     "name": "stdin",
     "output_type": "stream",
     "text": [
      "Please enter total number of elements present in list1:  6\n",
      "Please enter the 1 element:  3\n",
      "Please enter the 2 element:  2\n",
      "Please enter the 3 element:  5\n",
      "Please enter the 4 element:  5\n",
      "Please enter the 5 element:  5\n",
      "Please enter the 6 element:  6\n",
      "Please enter total number of elements present in list2:  9\n",
      "Please enter the 1 element:  9\n",
      "Please enter the 2 element:  4\n",
      "Please enter the 3 element:  9\n",
      "Please enter the 4 element:  8\n",
      "Please enter the 5 element:  4\n",
      "Please enter the 6 element:  4\n",
      "Please enter the 7 element:  9\n",
      "Please enter the 8 element:  8\n",
      "Please enter the 9 element:  4\n"
     ]
    },
    {
     "name": "stdout",
     "output_type": "stream",
     "text": [
      "The intersection of ['3', '2', '5', '5', '5', '6'] and ['9', '4', '9', '8', '4', '4', '9', '8', '4'] is []\n"
     ]
    }
   ],
   "source": [
    "# nums1, nums2 = [4, 9, 5], [9, 4, 9, 8, 4] \n",
    "\n",
    "#first create user input 2 list \n",
    "def answer() -> None:\n",
    "    n1 = int(input('Please enter total number of elements present in list1: '))\n",
    "    nums1 = [] \n",
    "    for i in range(n1):\n",
    "        nums1.append(input(f'Please enter the {i+1} element: ')) \n",
    "    \n",
    "    n2 = int(input('Please enter total number of elements present in list2: '))\n",
    "    nums2 = [] \n",
    "    for i in range(n2):\n",
    "        nums2.append(input(f'Please enter the {i+1} element: '))\n",
    "        #NOTE: I am not counting the unique values, in case we want to find unique values, we will remove that element from the list2 so that it's occurence will not be counted again\n",
    "        #if we want to count unique too we will simple do: nums2.remove(i) \n",
    "        \n",
    "    #to find intersection, I will use for loop and check what common in it \n",
    "    #but first i also initialize the intersection_list as empty list \n",
    "    intersection_list = [] \n",
    "    \n",
    "    \n",
    "    for i in nums1: \n",
    "        if i in nums2: #check current element of nums1 is in nums2 or not \n",
    "            intersection_list.append(i) #if yes, then append the answer in the intersection_list \n",
    "    \n",
    "    print(f\"The intersection of {nums1} and {nums2} is {intersection_list}\") #print the answer\n",
    "\n",
    "    \n",
    "answer()\n",
    "answer()"
   ]
  },
  {
   "cell_type": "code",
   "execution_count": null,
   "id": "cd411994-4ee7-4cd9-9c0e-1e230377b235",
   "metadata": {},
   "outputs": [],
   "source": []
  }
 ],
 "metadata": {
  "kernelspec": {
   "display_name": "Python 3 (ipykernel)",
   "language": "python",
   "name": "python3"
  },
  "language_info": {
   "codemirror_mode": {
    "name": "ipython",
    "version": 3
   },
   "file_extension": ".py",
   "mimetype": "text/x-python",
   "name": "python",
   "nbconvert_exporter": "python",
   "pygments_lexer": "ipython3",
   "version": "3.11.7"
  }
 },
 "nbformat": 4,
 "nbformat_minor": 5
}
