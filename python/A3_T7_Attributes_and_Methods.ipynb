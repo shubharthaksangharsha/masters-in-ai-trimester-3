{
 "cells": [
  {
   "cell_type": "markdown",
   "metadata": {},
   "source": [
    "### Instructions:\n",
    "\n",
    "- You can attempt any number of questions and in any order.  \n",
    "  See the assignment page for a description of the hurdle requirement for this assessment.\n",
    "- You may submit your practical for autograding as many times as you like to check on progress, however you will save time by checking and testing your own code before submitting.\n",
    "- Develop and check your answers in the spaces provided.\n",
    "- **Replace** the code `raise NotImplementedError()` with your solution to the question.\n",
    "- Do **NOT** remove any variables other provided markings already provided in the answer spaces.\n",
    "- Do **NOT** make any changes to this notebook outside of the spaces indicated.  \n",
    "  (If you do this, the submission system might not accept your work)\n",
    "\n",
    "### Submitting:\n",
    "\n",
    "1. Before you turn this problem in, make sure everything runs as expected by resetting this notebook.    \n",
    "   (You can do this from the menubar above by selecting `Kernel`&#8594;`Restart Kernel and Run All Cells...`)\n",
    "1. Don't forget to save your notebook after this step.\n",
    "1. Submit your .ipynb file to Gradescope via file upload or GitHub repository.\n",
    "1. You can submit as many times as needed.\n",
    "1. You **must** give your submitted file the **identical** filename to that which you downloaded without changing **any** aspects - spaces, underscores, capitalisation etc. If your operating system has changed the filename because you downloaded the file twice or more you **must** also fix this.  \n",
    "\n"
   ]
  },
  {
   "cell_type": "markdown",
   "metadata": {},
   "source": [
    "---"
   ]
  },
  {
   "cell_type": "markdown",
   "metadata": {},
   "source": [
    "# [Shubharthak Sangharasha](https://shubharthaksangharsha.github.io)\n",
    "# StudentID: `a1944839`"
   ]
  },
  {
   "cell_type": "markdown",
   "metadata": {},
   "source": [
    "# <mark style=\"background: #917fa9; color: #ffffff;\" >&nbsp;A3&nbsp;</mark> Topic 7: Attributes & Methods "
   ]
  },
  {
   "cell_type": "markdown",
   "metadata": {
    "tags": []
   },
   "source": [
    "#### Question 1&nbsp;&nbsp;&nbsp;&nbsp;&nbsp;&nbsp;(7 Points)\n",
    "\n",
    "Write a Python program to create a `Q1Health` class with a constructor that accepts `height` (in meters) and `weight` (in kg) as instance attributes. Create an object of the class as `q1_o` and set `height` as 1.6 and `weight` as 72.\n",
    "\n",
    "You should be able to create an object of the class like:\n",
    "```python\n",
    "q1_o = Q1Health(1.6, 72)\n",
    "```"
   ]
  },
  {
   "cell_type": "code",
   "execution_count": 2,
   "metadata": {
    "deletable": false,
    "nbgrader": {
     "cell_type": "code",
     "checksum": "b683b17a3168e0e2568e1655d3914e98",
     "grade": false,
     "grade_id": "A1",
     "locked": false,
     "schema_version": 3,
     "solution": true,
     "task": false
    }
   },
   "outputs": [
    {
     "name": "stdout",
     "output_type": "stream",
     "text": [
      "<__main__.Q1Health object at 0x7b2367583ad0> 1.6 72\n"
     ]
    }
   ],
   "source": [
    "# Write your solution here\n",
    "class Q1Health:\n",
    "    def __init__(self, height, weight):\n",
    "        self.height = height\n",
    "        self.weight = weight\n",
    "\n",
    "\n",
    "\n",
    "# YOUR CODE HERE\n",
    "q1_o = Q1Health(1.6, 72)\n",
    "print(q1_o, q1_o.height, q1_o.weight)"
   ]
  },
  {
   "cell_type": "code",
   "execution_count": null,
   "metadata": {
    "deletable": false,
    "editable": false,
    "nbgrader": {
     "cell_type": "code",
     "checksum": "ba94a5c4b7895ab5b255706e6ce0aa25",
     "grade": true,
     "grade_id": "test_A1-constructor",
     "locked": true,
     "points": 7,
     "schema_version": 3,
     "solution": false,
     "task": false
    }
   },
   "outputs": [],
   "source": [
    "# Testing Cell (DO NOT MODIFY THIS CELL)"
   ]
  },
  {
   "cell_type": "markdown",
   "metadata": {},
   "source": [
    "#### Question 2&nbsp;&nbsp;&nbsp;&nbsp;&nbsp;&nbsp;(7 Points)\n",
    "\n",
    "Create a `Q2Health` class with the same attributes and constructor as the `Q1Health` class and add a method:\n",
    "```python\n",
    "def bmi(self):\n",
    "```    \n",
    "that calculates and returns a body mass index (BMI) using formula:<br /><br />\n",
    "&nbsp;&nbsp;&nbsp;`BMI = weight(kg) / height(m)^2` <br /><br />\n",
    "The BMI value should be rounded to two decimal places.\n",
    "\n",
    "Create an object `q2_o` of the `Q2Health` class using weight 72 and height 1.6:\n",
    "```python\n",
    "q2_o = Q2Health_(1.6, 72)\n",
    "```"
   ]
  },
  {
   "cell_type": "code",
   "execution_count": 3,
   "metadata": {
    "deletable": false,
    "nbgrader": {
     "cell_type": "code",
     "checksum": "df9f898c558b312abb63cc8d26fd83e7",
     "grade": false,
     "grade_id": "A2",
     "locked": false,
     "schema_version": 3,
     "solution": true,
     "task": false
    }
   },
   "outputs": [
    {
     "name": "stdout",
     "output_type": "stream",
     "text": [
      "<__main__.Q2Health object at 0x7b2367581ac0>\n"
     ]
    }
   ],
   "source": [
    "# Write your solution here\n",
    "class Q2Health:\n",
    "    def __init__(self, height, weight):\n",
    "        self.height = height\n",
    "        self.weight = weight\n",
    "    \n",
    "    def bmi(self):\n",
    "        return round(self.weight / (self.height ** 2), 2)\n",
    "\n",
    "\n",
    "# YOUR CODE HERE\n",
    "q2_o = Q2Health(1.6, 72)\n",
    "print(q2_o)"
   ]
  },
  {
   "cell_type": "code",
   "execution_count": null,
   "metadata": {
    "deletable": false,
    "editable": false,
    "nbgrader": {
     "cell_type": "code",
     "checksum": "ff43b369fe36661d9125fb5243cf1ff2",
     "grade": true,
     "grade_id": "test_A2-Method",
     "locked": true,
     "points": 7,
     "schema_version": 3,
     "solution": false,
     "task": false
    }
   },
   "outputs": [],
   "source": [
    "# Testing Cell (DO NOT MODIFY THIS CELL)"
   ]
  },
  {
   "cell_type": "markdown",
   "metadata": {},
   "source": [
    "#### Question 3&nbsp;&nbsp;&nbsp;&nbsp;&nbsp;&nbsp;(7 Points)\n",
    "Create a new class `Q3Health` and add `set_height`/`get_height` and `set_weight`/`get_weight` methods to set and get values of height and weight. Create object `q3_o` and set values 1.6 for height and 72 for weight using the two methods, `set_height` and `set_weight`.\n",
    "\n",
    "\n",
    "---\n",
    "<details>\n",
    "  <summary><span style=\"color:blue\">Reading ahead: Inheritance</span></summary>\n",
    "   You may choose to read ahead in the course material (Topic 8 of Section A3) where you will find the mechanism of inheritance described. You are welcome to use inheritance to create subclasses of Q1Health.\n",
    "</details>"
   ]
  },
  {
   "cell_type": "code",
   "execution_count": 4,
   "metadata": {
    "deletable": false,
    "nbgrader": {
     "cell_type": "code",
     "checksum": "d2f404b7adcf3e7148bf7976f69eaa00",
     "grade": false,
     "grade_id": "A3",
     "locked": false,
     "schema_version": 3,
     "solution": true,
     "task": false
    }
   },
   "outputs": [
    {
     "name": "stdout",
     "output_type": "stream",
     "text": [
      "1.6 72\n"
     ]
    }
   ],
   "source": [
    "# Write your solution here\n",
    "class Q3Health:\n",
    "    def __init__(self):\n",
    "        self.height = 0\n",
    "        self.weight = 0\n",
    "    \n",
    "    def set_height(self, height):\n",
    "        self.height = height\n",
    "    \n",
    "    def get_height(self):\n",
    "        return self.height\n",
    "    \n",
    "    def set_weight(self, weight):\n",
    "        self.weight = weight\n",
    "    \n",
    "    def get_weight(self):\n",
    "        return self.weight\n",
    "\n",
    "\n",
    "# YOUR CODE HERE\n",
    "q3_o = Q3Health()\n",
    "q3_o.set_height(1.6)\n",
    "q3_o.set_weight(72)\n",
    "print(q3_o.height, q3_o.weight)"
   ]
  },
  {
   "cell_type": "code",
   "execution_count": null,
   "metadata": {
    "deletable": false,
    "editable": false,
    "nbgrader": {
     "cell_type": "code",
     "checksum": "11c682de924f6e5c6839dfe81db564c6",
     "grade": true,
     "grade_id": "test_A3-getValues",
     "locked": true,
     "points": 7,
     "schema_version": 3,
     "solution": false,
     "task": false
    }
   },
   "outputs": [],
   "source": [
    "# Testing Cell (DO NOT MODIFY THIS CELL)"
   ]
  },
  {
   "cell_type": "markdown",
   "metadata": {},
   "source": [
    "#### Question 4&nbsp;&nbsp;&nbsp;&nbsp;&nbsp;&nbsp;(7 Points)\n",
    "Create a class `Q4DefaultHealth` with height and weight as instance variables. Give the height attribute of `Q4DefaultHealth` a default value of 2, and the weight attribue a default value of 101. That is, when an object is created like:\n",
    "```python\n",
    "    q4_o = Q4DefaultHealth()    \n",
    "```\n",
    "the object `q4_0` will have height initialised internally to 2 (meters) and the weight will be set to 101 (kilograms).\n",
    "Create the following methods in `Q4DefaultHealth`:\n",
    "\n",
    "```python\n",
    "    def set_height(self,height)\n",
    "    def get_height(self)\n",
    "    def set_weight(self,weight)\n",
    "    def get_weight(self)\n",
    "    def bmi(self)\n",
    "```\n",
    "Create an object `q4_o` and set the weight value as 72, height must be default."
   ]
  },
  {
   "cell_type": "code",
   "execution_count": 5,
   "metadata": {
    "deletable": false,
    "nbgrader": {
     "cell_type": "code",
     "checksum": "d82e740d0c6a82c04f5b73a2a8b57cd4",
     "grade": false,
     "grade_id": "A4",
     "locked": false,
     "schema_version": 3,
     "solution": true,
     "task": false
    }
   },
   "outputs": [
    {
     "name": "stdout",
     "output_type": "stream",
     "text": [
      "72\n"
     ]
    }
   ],
   "source": [
    "# Write your solution here\n",
    "class Q4DefaultHealth:\n",
    "    def __init__(self):\n",
    "        self.height = 2\n",
    "        self.weight = 101\n",
    "    \n",
    "    def set_height(self, height):\n",
    "        self.height = height\n",
    "    \n",
    "    def get_height(self):\n",
    "        return self.height\n",
    "    \n",
    "    def set_weight(self, weight):\n",
    "        self.weight = weight\n",
    "    \n",
    "    def get_weight(self):\n",
    "        return self.weight\n",
    "    \n",
    "    def bmi(self):\n",
    "        return round(self.weight / (self.height ** 2), 2)\n",
    "\n",
    "    \n",
    "# YOUR CODE HERE\n",
    "q4_o = Q4DefaultHealth()\n",
    "q4_o.set_weight(72)\n",
    "print(q4_o.weight)"
   ]
  },
  {
   "cell_type": "code",
   "execution_count": null,
   "metadata": {
    "deletable": false,
    "editable": false,
    "nbgrader": {
     "cell_type": "code",
     "checksum": "86930867dbbc60607368a187fdb8f2fc",
     "grade": true,
     "grade_id": "test_A4-setGet",
     "locked": true,
     "points": 7,
     "schema_version": 3,
     "solution": false,
     "task": false
    }
   },
   "outputs": [],
   "source": [
    "# Testing Cell (DO NOT MODIFY THIS CELL)\n"
   ]
  },
  {
   "cell_type": "markdown",
   "metadata": {},
   "source": [
    "#### Question 5&nbsp;&nbsp;&nbsp;&nbsp;&nbsp;&nbsp;(7 Points)\n",
    "Create a class `Q5DefaultHealth` that has the same attributes and methods as `Q2Health`. Add a method `yes_no` in the `Q5DefaultHealth` class to check if the BMI is greater than 18. If yes, then the function should return `True`. Otherwise, `False`. \n",
    "\n",
    "Create an instance of `Q5DefaultHealth` named `q5_o` and set the value of height as 1.3 and weight as 40 in the constructor. The method `yes_no` should return `True` for this object."
   ]
  },
  {
   "cell_type": "code",
   "execution_count": 6,
   "metadata": {
    "deletable": false,
    "nbgrader": {
     "cell_type": "code",
     "checksum": "d3aabab2e6ed4dbe982becb28a849a8d",
     "grade": false,
     "grade_id": "A5",
     "locked": false,
     "schema_version": 3,
     "solution": true,
     "task": false
    }
   },
   "outputs": [
    {
     "name": "stdout",
     "output_type": "stream",
     "text": [
      "1.3 40\n"
     ]
    }
   ],
   "source": [
    "# Write your solution here\n",
    "class Q5DefaultHealth:\n",
    "    def __init__(self, height, weight):\n",
    "        self.height = height\n",
    "        self.weight = weight\n",
    "    \n",
    "    def bmi(self):\n",
    "        return round(self.weight / (self.height ** 2), 2)\n",
    "    \n",
    "    def yes_no(self):\n",
    "        return self.bmi() > 18\n",
    "\n",
    "\n",
    "# YOUR CODE HERE\n",
    "q5_o = Q5DefaultHealth(1.3, 40)\n",
    "print(q5_o.height,q5_o.weight )"
   ]
  },
  {
   "cell_type": "code",
   "execution_count": null,
   "metadata": {
    "deletable": false,
    "editable": false,
    "nbgrader": {
     "cell_type": "code",
     "checksum": "2d7b1857aa3f2f07a087755ad84cca66",
     "grade": true,
     "grade_id": "test_A5-defaultHealth",
     "locked": true,
     "points": 7,
     "schema_version": 3,
     "solution": false,
     "task": false
    }
   },
   "outputs": [],
   "source": [
    "# Testing Cell (DO NOT MODIFY THIS CELL)"
   ]
  },
  {
   "cell_type": "markdown",
   "metadata": {},
   "source": [
    "#### Question 6&nbsp;&nbsp;&nbsp;&nbsp;&nbsp;&nbsp;(7 Points)\n",
    "Suppose you want to model a bank account with a class named `Q6BankAccount`. It has one attribute, `balance`, with an initial value of `1000` (dollars). It provides two methods (operations) `deposit` and `withdraw`. \n",
    "\n",
    "Whenever a withdrawl is made, the bank charges `2%` of the withdrawal amount as a fee (deducting that from the balance). When a deposit is made, the bank adds a bonus of `0.005%` of the deposited amount to the balance. \n",
    "\n",
    "Create this class from the following stub:\n",
    "```python\n",
    "class Q6BankAccount:\n",
    "    def __init__(self):\n",
    "        ''' Creates an account with default balance of $1000. After all \n",
    "            operations (withdraw and deposit), the balance is\n",
    "            rounded to two decimal places.'''\n",
    "        ...\n",
    "        \n",
    "    def withdraw(self, amount):\n",
    "        ''' Withdraws 'amount' from the balance (subtracting an additional\n",
    "            fee of 2% and rounding the balance) and returns the balance of\n",
    "            the account.'''\n",
    "        ...\n",
    "\n",
    "    def deposit(self, amount):\n",
    "        ''' Adds the listed 'amount' to the balance with a bonus of .005% of  \n",
    "            the deposited amount and returns the balance of the amount after\n",
    "            rounding.\n",
    "        ...\n",
    "```\n",
    "- Create an instance of the class `q6_o`.\n",
    "- Deposit `$120` and store the returned value in `output6_i`.\n",
    "- Withdraw `$10` and store the returned value in `output6_ii`."
   ]
  },
  {
   "cell_type": "code",
   "execution_count": 7,
   "metadata": {
    "deletable": false,
    "nbgrader": {
     "cell_type": "code",
     "checksum": "29f3b447662101cecbee510ae16a0061",
     "grade": false,
     "grade_id": "A6",
     "locked": false,
     "schema_version": 3,
     "solution": true,
     "task": false
    }
   },
   "outputs": [
    {
     "name": "stdout",
     "output_type": "stream",
     "text": [
      "1120.01 1109.81\n"
     ]
    }
   ],
   "source": [
    "# Write your solution here\n",
    "class Q6BankAccount:\n",
    "    def __init__(self):\n",
    "        self.balance = 1000\n",
    "        \n",
    "    def withdraw(self, amount):\n",
    "        fee = amount * 0.02\n",
    "        self.balance -= (amount + fee)\n",
    "        self.balance = round(self.balance, 2)\n",
    "        return self.balance\n",
    "\n",
    "    def deposit(self, amount):\n",
    "        bonus = amount * 0.00005\n",
    "        self.balance += (amount + bonus)\n",
    "        self.balance = round(self.balance, 2)\n",
    "        return self.balance\n",
    "\n",
    "\n",
    "# YOUR CODE HERE\n",
    "q6_o = Q6BankAccount()\n",
    "output6_i = q6_o.deposit(120)\n",
    "output6_ii = q6_o.withdraw(10)\n",
    "print(output6_i, output6_ii)"
   ]
  },
  {
   "cell_type": "code",
   "execution_count": null,
   "metadata": {
    "deletable": false,
    "editable": false,
    "nbgrader": {
     "cell_type": "code",
     "checksum": "1c00b93a591a52622c0c1f1a5fc17311",
     "grade": true,
     "grade_id": "test_A7-BankAccount",
     "locked": true,
     "points": 7,
     "schema_version": 3,
     "solution": false,
     "task": false
    }
   },
   "outputs": [],
   "source": [
    "# Testing Cell (DO NOT MODIFY THIS CELL)"
   ]
  },
  {
   "cell_type": "markdown",
   "metadata": {},
   "source": [
    "#### Question 7&nbsp;&nbsp;&nbsp;&nbsp;&nbsp;&nbsp;(7 Points) \n",
    "Create a class `Q7MinimumBalanceAccount` with two attributes: `balance` and `minimum_balance`. The intent of this account is that withdrawl will not be allowed if the balance would be reduced below `minimum_balance`. The class should be completed from the following stub:\n",
    "\n",
    "```python\n",
    "class Q7MinimumBalanceAccount():\n",
    "    def __init__(self, minimum_balance):\n",
    "        ...\n",
    "        \n",
    "    def check_balance(self):\n",
    "        ''' Deducts a fee of $0.25 from the balance (possibly reducing the \n",
    "            balance below the minimum value) and return the resulting balance.\n",
    "            For example, with a balance of $1.25, a call to check balance with\n",
    "            deduct 25 cents and return $1.00.'''\n",
    "        ...\n",
    "        \n",
    "    def withdraw(self, amount):\n",
    "        ''' Returns 'False' when a withdrawl would reduce the balance below\n",
    "            the minimum_balance. Otherwise, withdraws the the stated amount\n",
    "            and returns the balance. No fees are applied.'''\n",
    "        ...\n",
    "```\n",
    "- Create object `q7_o` of class `Q7MinimumBalanceAccount` with `minimum_balance` as `$120`.\n",
    "- Set the balance as `$1000`. \n",
    "- Check balance and then withdraw `$120`. \n",
    "- Check balance again and assign it to the variable `output7`."
   ]
  },
  {
   "cell_type": "code",
   "execution_count": 8,
   "metadata": {
    "deletable": false,
    "nbgrader": {
     "cell_type": "code",
     "checksum": "6c982ae16fa4067368385fa2bb9fb2fe",
     "grade": false,
     "grade_id": "A7",
     "locked": false,
     "schema_version": 3,
     "solution": true,
     "task": false
    },
    "tags": []
   },
   "outputs": [
    {
     "name": "stdout",
     "output_type": "stream",
     "text": [
      "879.5\n"
     ]
    }
   ],
   "source": [
    "# Write your solution here\n",
    "class Q7MinimumBalanceAccount:\n",
    "    def __init__(self, minimum_balance):\n",
    "        self.balance = 0\n",
    "        self.minimum_balance = minimum_balance\n",
    "        \n",
    "    def check_balance(self):\n",
    "        self.balance -= 0.25\n",
    "        return self.balance\n",
    "        \n",
    "    def withdraw(self, amount):\n",
    "        if self.balance - amount >= self.minimum_balance:\n",
    "            self.balance -= amount\n",
    "            return self.balance\n",
    "        return False\n",
    "# YOUR CODE HERE\n",
    "q7_o = Q7MinimumBalanceAccount(120)\n",
    "q7_o.balance = 1000\n",
    "q7_o.check_balance()\n",
    "q7_o.withdraw(120)\n",
    "output7 = q7_o.check_balance()\n",
    "print(output7)"
   ]
  },
  {
   "cell_type": "code",
   "execution_count": null,
   "metadata": {
    "deletable": false,
    "editable": false,
    "nbgrader": {
     "cell_type": "code",
     "checksum": "a83a53ca995f83770a5ebada876b21b1",
     "grade": true,
     "grade_id": "test_A7-MinBalance",
     "locked": true,
     "points": 7,
     "schema_version": 3,
     "solution": false,
     "task": false
    }
   },
   "outputs": [],
   "source": [
    "# Testing Cell (DO NOT MODIFY THIS CELL)"
   ]
  },
  {
   "cell_type": "markdown",
   "metadata": {},
   "source": [
    "#### Question 8&nbsp;&nbsp;&nbsp;&nbsp;&nbsp;&nbsp;(7 Points) \n",
    "Create the class `Q8InterestRate` which is identical in attributes and methods to `Q6BankAccount`. The constructor for this class should accept a value for `time` being the number of months of interest that will be applied to the balance of this account.\n",
    "\n",
    "Add two methods:\n",
    "```python\n",
    "class Q8InterestRate():\n",
    "    def __init__(self, time):\n",
    "        ...\n",
    "        \n",
    "    def simple_interest(self):\n",
    "        ''' Returns 'False' if the balance is less than $1000. Otherwise,\n",
    "            returns the simple interest on the account rounded to two decimal\n",
    "            places according to the formula:\n",
    "                interest = balance (P) * rate (r_simple) * time (t)\n",
    "            where r_simple = 20%.    \n",
    "        '''\n",
    "        ...\n",
    "        \n",
    "    def compound_interest(self):\n",
    "        ''' Returns 'False' if the balance is less than $1000. Otherwise,\n",
    "            returns the complex interest on the account rounded to two decimal\n",
    "            places according to the formula:\n",
    "                interest = balance (P) * (1 + r_complex/100)^(t))\n",
    "            where r_complex = 0.05%.    \n",
    "      \n",
    "        '''\n",
    "        ...\n",
    "```\n",
    "- Create the object `q8_o` with value of `time` as `10`,\n",
    "- Set the balance to `$1000`,\n",
    "- Deposit `$500` (balance will be `~$1500.03` after rounding), and\n",
    "- Check the `simple_interest` and `compound interest`. "
   ]
  },
  {
   "cell_type": "code",
   "execution_count": 9,
   "metadata": {
    "deletable": false,
    "nbgrader": {
     "cell_type": "code",
     "checksum": "00effc46552ba19d164720dc6c7b25cb",
     "grade": false,
     "grade_id": "A8",
     "locked": false,
     "schema_version": 3,
     "solution": true,
     "task": false
    }
   },
   "outputs": [
    {
     "name": "stdout",
     "output_type": "stream",
     "text": [
      "1500.03\n"
     ]
    }
   ],
   "source": [
    "# Write your solution here\n",
    "class Q8InterestRate:\n",
    "    def __init__(self, time):\n",
    "        self.balance = 1000\n",
    "        self.time = time\n",
    "        \n",
    "    def withdraw(self, amount):\n",
    "        fee = amount * 0.02\n",
    "        self.balance -= (amount + fee)\n",
    "        self.balance = round(self.balance, 2)\n",
    "        return self.balance\n",
    "\n",
    "    def deposit(self, amount):\n",
    "        bonus = amount * 0.00005\n",
    "        self.balance += (amount + bonus)\n",
    "        self.balance = round(self.balance, 2)\n",
    "        return self.balance\n",
    "        \n",
    "    def simple_interest(self):\n",
    "        if self.balance < 1000:\n",
    "            return False\n",
    "        return round(self.balance * 0.2 * self.time, 2)\n",
    "        \n",
    "    def compound_interest(self):\n",
    "        if self.balance < 1000:\n",
    "            return False\n",
    "        return round(self.balance * (1 + 0.0005) ** self.time, 2)\n",
    "\n",
    "# YOUR CODE HERE\n",
    "q8_o = Q8InterestRate(10)\n",
    "q8_o.balance = 1000\n",
    "q8_o.deposit(500)\n",
    "print(q8_o.balance)"
   ]
  },
  {
   "cell_type": "code",
   "execution_count": null,
   "metadata": {
    "deletable": false,
    "editable": false,
    "nbgrader": {
     "cell_type": "code",
     "checksum": "7a24c0cc1b4764ee8814a204037d0785",
     "grade": true,
     "grade_id": "test_A8-interestRate",
     "locked": true,
     "points": 7,
     "schema_version": 3,
     "solution": false,
     "task": false
    }
   },
   "outputs": [],
   "source": [
    "# Testing Cell (DO NOT MODIFY THIS CELL)"
   ]
  },
  {
   "cell_type": "markdown",
   "metadata": {},
   "source": [
    "#### Question 9&nbsp;&nbsp;&nbsp;&nbsp;&nbsp;&nbsp;(7 Points)\n",
    "Create a class `Q9Inflation` with an attribute `balance` that accepts time (in years) and an annual inflation rate in the constuctor. Add the method `calculate_inflation` to calculate the effect of inflation upon the balance using the formula:\n",
    "    inflation affected value = balance * ((100/(100+rate))^time). \n",
    "Here the returned value reflects the decrease in purchasing power over time.\n",
    "\n",
    "Create an object `q9_o` and assign `time` as 10.0 and `rate` as 4.0 to calculate inflation (round to two decimal points). Consider default amount as `$1000`.\n",
    "\n",
    "Use the following stub:\n",
    "```python\n",
    "class Q9Inflation():\n",
    "    def __init__(self, time, rate):\n",
    "        self.balance = 1000\n",
    "        ...\n",
    "        \n",
    "    def calculate_inflation(self):\n",
    "        ''' Returns an inflation effect (decreased purchasing power of the balance)\n",
    "            calculated using the formula above (rounded to two decimal places).'''\n",
    "        ...\n",
    "```"
   ]
  },
  {
   "cell_type": "code",
   "execution_count": 12,
   "metadata": {
    "deletable": false,
    "nbgrader": {
     "cell_type": "code",
     "checksum": "54dd4675a0a533a8ca6a03575bcff9c8",
     "grade": false,
     "grade_id": "A9",
     "locked": false,
     "schema_version": 3,
     "solution": true,
     "task": false
    }
   },
   "outputs": [
    {
     "name": "stdout",
     "output_type": "stream",
     "text": [
      "675.56\n"
     ]
    }
   ],
   "source": [
    "# Write your solution here\n",
    "class Q9Inflation:\n",
    "    def __init__(self, time, rate):\n",
    "        self.balance = 1000\n",
    "        self.time = time\n",
    "        self.rate = rate\n",
    "        \n",
    "    def calculate_inflation(self):\n",
    "        return round(self.balance * ((100/(100+self.rate))**self.time), 2)\n",
    "\n",
    "\n",
    "# YOUR CODE HERE\n",
    "q9_o = Q9Inflation(10.0, 4.0)\n",
    "print(q9_o.calculate_inflation())"
   ]
  },
  {
   "cell_type": "code",
   "execution_count": null,
   "metadata": {
    "deletable": false,
    "editable": false,
    "nbgrader": {
     "cell_type": "code",
     "checksum": "e010baf1d76e592834af798aa1e46448",
     "grade": true,
     "grade_id": "test_A9-inflation",
     "locked": true,
     "points": 7,
     "schema_version": 3,
     "solution": false,
     "task": false
    }
   },
   "outputs": [],
   "source": [
    "# Testing Cell (DO NOT MODIFY THIS CELL)"
   ]
  },
  {
   "cell_type": "markdown",
   "metadata": {},
   "source": [
    "#### Question 10&nbsp;&nbsp;&nbsp;&nbsp;&nbsp;&nbsp;(7 Points)\n",
    "The EMI (Equated Monthly Instalment) is dependent on various factors like the principal borrowed, rate of interest, tenure of loan, etc. Let us look at the implementation of the calculation of monthly EMI. EMIs are adjusted in such a way that the borrower is able to pay back the amount per month without any delay or problem.\n",
    "\n",
    "Create a class `Q10EMI` that takes loan amount (p), interest rate (r) and time (n) and gives the `emi` using the following formula: \n",
    "<br />\n",
    "r_mon=  r/(12 * 100)\n",
    "<br />\n",
    "emi = p * r_mon * ((1+r_mon)^n)/((1+r_mon)^n - 1)\n",
    "\n",
    "Use the following stub:\n",
    "```python\n",
    "class Q10EMI():\n",
    "    def __init__(self, amount, time, rate):\n",
    "        ...\n",
    "        \n",
    "    def emi(self):\n",
    "        ''' Returns the calculated EMI rounded to two decimal\n",
    "            points based on the formula above.'''\n",
    "        ...\n",
    "```\n",
    "Create an object `q10_o` with $50,0000 for amount, time = 24 and rate = 8."
   ]
  },
  {
   "cell_type": "code",
   "execution_count": 14,
   "metadata": {
    "deletable": false,
    "nbgrader": {
     "cell_type": "code",
     "checksum": "5463cb570ca810ee1c85be8139eca650",
     "grade": false,
     "grade_id": "A10",
     "locked": false,
     "schema_version": 3,
     "solution": true,
     "task": false
    }
   },
   "outputs": [
    {
     "name": "stdout",
     "output_type": "stream",
     "text": [
      "22613.65\n"
     ]
    }
   ],
   "source": [
    "# Write your solution here\n",
    "class Q10EMI:\n",
    "    def __init__(self, amount, time, rate):\n",
    "        self.amount = amount\n",
    "        self.time = time\n",
    "        self.rate = rate\n",
    "        \n",
    "    def emi(self):\n",
    "        r_mon = self.rate/(12 * 100)\n",
    "        num = self.amount * r_mon * ((1+r_mon)**self.time)\n",
    "        den = ((1+r_mon)**self.time - 1)\n",
    "        return round(num/den, 2)\n",
    "\n",
    "\n",
    "# YOUR CODE HERE\n",
    "q10_o = Q10EMI(500000, 24, 8)\n",
    "print(q10_o.emi())"
   ]
  },
  {
   "cell_type": "code",
   "execution_count": null,
   "metadata": {
    "deletable": false,
    "editable": false,
    "nbgrader": {
     "cell_type": "code",
     "checksum": "4f6add37b3aacbe44eaf979364196a42",
     "grade": true,
     "grade_id": "test_A10-emi",
     "locked": true,
     "points": 7,
     "schema_version": 3,
     "solution": false,
     "task": false
    }
   },
   "outputs": [],
   "source": [
    "# Testing Cell (DO NOT MODIFY THIS CELL)"
   ]
  },
  {
   "cell_type": "markdown",
   "metadata": {},
   "source": [
    "#### Question 11&nbsp;&nbsp;&nbsp;&nbsp;&nbsp;&nbsp;(7 Points)\n",
    "Create a class `Q11Employee` with the following attributes:\n",
    "- `name`,\n",
    "- `age`,\n",
    "- `account`, and\n",
    "- `salary`.\n",
    "For **each** of these attributes create a pair of 'getters' and 'setters' - methods like `get_name()` and `set_name()`. Use the following stub: <br /> <br />\n",
    "```python\n",
    "class Q11Employee:\n",
    "    def __init__(self):\n",
    "        ...\n",
    "    def set_name(self, name):\n",
    "        ...\n",
    "    def set_age(self, age):\n",
    "        ...\n",
    "    def get_name(self):\n",
    "        ...\n",
    "    def get_age(self):\n",
    "        ...\n",
    "```\n",
    "Now create an additional `wages` method on the class, which returns:<br />\n",
    "&nbsp;&nbsp;&nbsp;salary * months worked <br />\n",
    "like: <br /> <br />\n",
    "```python\n",
    "    def wages (self, months):\n",
    "        ...\n",
    "``` \n",
    "Create an object `q11_o` of the class and: \n",
    "- set the name as 'John' using `set_name` function, \n",
    "- set age as 19 using `set_age`, \n",
    "- `set_account` using value 1234, and\n",
    "- `set_salary` as 1000. "
   ]
  },
  {
   "cell_type": "code",
   "execution_count": 15,
   "metadata": {
    "deletable": false,
    "nbgrader": {
     "cell_type": "code",
     "checksum": "34bd10ab714e375fef4523449e6fdec3",
     "grade": false,
     "grade_id": "A11",
     "locked": false,
     "schema_version": 3,
     "solution": true,
     "task": false
    }
   },
   "outputs": [
    {
     "name": "stdout",
     "output_type": "stream",
     "text": [
      "John 1234 19 1000\n"
     ]
    }
   ],
   "source": [
    "# Write your solution here\n",
    "class Q11Employee:\n",
    "    def __init__(self):\n",
    "        self.name = \"\"\n",
    "        self.age = 0\n",
    "        self.account = 0\n",
    "        self.salary = 0\n",
    "    \n",
    "    def set_name(self, name):\n",
    "        self.name = name\n",
    "    \n",
    "    def set_age(self, age):\n",
    "        self.age = age\n",
    "        \n",
    "    def set_account(self, account):\n",
    "        self.account = account\n",
    "        \n",
    "    def set_salary(self, salary):\n",
    "        self.salary = salary\n",
    "    \n",
    "    def get_name(self):\n",
    "        return self.name\n",
    "    \n",
    "    def get_age(self):\n",
    "        return self.age\n",
    "        \n",
    "    def get_account(self):\n",
    "        return self.account\n",
    "        \n",
    "    def get_salary(self):\n",
    "        return self.salary\n",
    "        \n",
    "    def wages(self, months):\n",
    "        return self.salary * months\n",
    "    \n",
    "# YOUR CODE HERE\n",
    "q11_o = Q11Employee()\n",
    "q11_o.set_name('John')\n",
    "q11_o.set_age(19)\n",
    "q11_o.set_account(1234)\n",
    "q11_o.set_salary(1000)\n",
    "print(q11_o.get_name(), q11_o.get_account(), q11_o.get_age(), q11_o.get_salary())"
   ]
  },
  {
   "cell_type": "code",
   "execution_count": null,
   "metadata": {
    "deletable": false,
    "editable": false,
    "nbgrader": {
     "cell_type": "code",
     "checksum": "b2b1e9499abbd55a98609a056709be57",
     "grade": true,
     "grade_id": "test_A11-employee",
     "locked": true,
     "points": 7,
     "schema_version": 3,
     "solution": false,
     "task": false
    }
   },
   "outputs": [],
   "source": [
    "# Testing Cell (DO NOT MODIFY THIS CELL)"
   ]
  },
  {
   "cell_type": "markdown",
   "metadata": {},
   "source": [
    "#### Question 12&nbsp;&nbsp;&nbsp;&nbsp;&nbsp;&nbsp;(7 Points)\n",
    "Create a class `Q12Animal` with attributes `name` and `age` set in the constructor and a single method `display` that returns the name and age of the animal in the following format:<br /> &nbsp;&nbsp;'My name is `name` and I am `age` years old'.\n",
    "\n",
    "Create the class `Q12Dog` and set `name` and `age` and add a `display` method again to print \"I am a Dog. My name is `name` and I am `age` years old\".\n",
    "\n",
    "Use the following stub:\n",
    "```python\n",
    "class Q12Animal():\n",
    "    def __init__(self, name, age):\n",
    "        ...\n",
    "        \n",
    "    def display(self):\n",
    "        ...\n",
    "        \n",
    "class Q12Dog():\n",
    "    def __init__(self, name, age):\n",
    "        ...\n",
    "    def display(self):\n",
    "        ...    \n",
    "```\n",
    "\n",
    "Create the following objects:\n",
    "```python\n",
    "q12_o1 = Q12Animal ('Tim', 9)  \n",
    "# The display function returns: 'My name is Tim and I am 9 years old'.\n",
    "\n",
    "q12_o2 = Q12Dog ('Tom', 10)  \n",
    "# The display function returns: 'I am a Dog. My name is Tom and I am 10 years old'.\n",
    "```"
   ]
  },
  {
   "cell_type": "code",
   "execution_count": 16,
   "metadata": {
    "deletable": false,
    "nbgrader": {
     "cell_type": "code",
     "checksum": "007729089994ea5de2aa818cd1b47967",
     "grade": false,
     "grade_id": "A12",
     "locked": false,
     "schema_version": 3,
     "solution": true,
     "task": false
    }
   },
   "outputs": [
    {
     "name": "stdout",
     "output_type": "stream",
     "text": [
      "My name is Tim and I am 9 years old\n",
      "I am a Dog. My name is Tom and I am 10 years old\n"
     ]
    }
   ],
   "source": [
    "# Write your solution here\n",
    "class Q12Animal:\n",
    "    def __init__(self, name, age):\n",
    "        self.name = name\n",
    "        self.age = age\n",
    "        \n",
    "    def display(self):\n",
    "        return f'My name is {self.name} and I am {self.age} years old'\n",
    "        \n",
    "class Q12Dog:\n",
    "    def __init__(self, name, age):\n",
    "        self.name = name\n",
    "        self.age = age\n",
    "    \n",
    "    def display(self):\n",
    "        return f'I am a Dog. My name is {self.name} and I am {self.age} years old'\n",
    "\n",
    "# YOUR CODE HERE\n",
    "q12_o1 = Q12Animal('Tim', 9)\n",
    "q12_o2 = Q12Dog('Tom', 10)\n",
    "print(q12_o1.display())\n",
    "print(q12_o2.display())"
   ]
  },
  {
   "cell_type": "code",
   "execution_count": null,
   "metadata": {
    "deletable": false,
    "editable": false,
    "nbgrader": {
     "cell_type": "code",
     "checksum": "34c44bf043a7a741e5c3d182268645d6",
     "grade": true,
     "grade_id": "test_A12-Animal",
     "locked": true,
     "points": 7,
     "schema_version": 3,
     "solution": false,
     "task": false
    }
   },
   "outputs": [],
   "source": [
    "# Testing Cell (DO NOT MODIFY THIS CELL)"
   ]
  },
  {
   "cell_type": "markdown",
   "metadata": {},
   "source": [
    "#### Question 13&nbsp;&nbsp;&nbsp;&nbsp;&nbsp;&nbsp;(8 Points)\n",
    "In this question, we will create a coordinate game using a class `Q13Point` in which we set the value of `x` and `y` as attributes. \n",
    "\n",
    "Add a `move` method in which we multiply the old value of `x` and `y` with values `x_multiple` and `y_multiple` and update `x` and `y`.<br /> \n",
    "For example:\n",
    "```python\n",
    "q = Q13Point (10, 10)\n",
    "\n",
    "# stores the new position (50, 60) and returns the new position as a tuple \n",
    "assert q.move (5, 6) == (50, 60)\n",
    "```\n",
    "Include a method `__eq__` to check equality between two objects of the `Q13Point` class. This is a 'dunder' (double underscore) or 'magic' method. The method returns `True` if both the x and y values of the two objects are equal. \n",
    "\n",
    "Use the following stub:\n",
    "```python\n",
    "class Q13Point():\n",
    "    def __init__(self, x, y):\n",
    "        ...\n",
    "        \n",
    "    def move(self, x_multiple, y_multiple):\n",
    "        '''\n",
    "        Multiplies x by x_multiple and y by y_multiple, \n",
    "        updates and stores the new (self.x, self.y) and returns the\n",
    "        new position as a tuple. \n",
    "        '''\n",
    "        ...\n",
    "        \n",
    "    def __eq__(self, other):\n",
    "        ''' \n",
    "        Returns True when self.x == other.x and the same for y.\n",
    "        '''\n",
    "        ...\n",
    "```"
   ]
  },
  {
   "cell_type": "code",
   "execution_count": 20,
   "metadata": {
    "deletable": false,
    "nbgrader": {
     "cell_type": "code",
     "checksum": "b52ca32ac02e66e7718b457c4059593a",
     "grade": false,
     "grade_id": "A13",
     "locked": false,
     "schema_version": 3,
     "solution": true,
     "task": false
    }
   },
   "outputs": [
    {
     "name": "stdout",
     "output_type": "stream",
     "text": [
      "False\n",
      "True\n"
     ]
    }
   ],
   "source": [
    "# Write your solution here\n",
    "class Q13Point:\n",
    "    def __init__(self, x, y):\n",
    "        self.x = x\n",
    "        self.y = y\n",
    "        \n",
    "    def move(self, x_multiple, y_multiple):\n",
    "        self.x *= x_multiple\n",
    "        self.y *= y_multiple\n",
    "        return (self.x, self.y)\n",
    "        \n",
    "    def __eq__(self, other):\n",
    "        return self.x == other.x and self.y == other.y\n",
    "# YOUR CODE HERE\n",
    "q13_o = Q13Point(2, 3)\n",
    "q13_o.move(0.2, 0.3)\n",
    "print(q13_o.__eq__(Q13Point(2, 3)))\n",
    "q13_o2 = Q13Point(2, 3)\n",
    "q13_o2.move(0.2, 0.3)\n",
    "print(q13_o.__eq__(q13_o2))"
   ]
  },
  {
   "cell_type": "code",
   "execution_count": null,
   "metadata": {
    "deletable": false,
    "editable": false,
    "nbgrader": {
     "cell_type": "code",
     "checksum": "fa967e0503dfac880748369af3fddf17",
     "grade": true,
     "grade_id": "test_A13-point",
     "locked": true,
     "points": 8,
     "schema_version": 3,
     "solution": false,
     "task": false
    }
   },
   "outputs": [],
   "source": [
    "# Testing Cell (DO NOT MODIFY THIS CELL)"
   ]
  },
  {
   "cell_type": "markdown",
   "metadata": {},
   "source": [
    "#### Question 14&nbsp;&nbsp;&nbsp;&nbsp;&nbsp;&nbsp;(8 Points)\n",
    "Create a class `Q14Dog` with attributes `name`, `age` and a `__str__` method that returns:<br /><br />\n",
    "&nbsp;&nbsp;&nbsp;&nbsp;\"`name` is `age` years old\" (e.g., \"Sam is 2 years old\") <br /><br />\n",
    "and a `sound` method that take a parameter `s` and returns:<br /><br />\n",
    "&nbsp;&nbsp;&nbsp;&nbsp;\"`name` says `s`\" (e.g., \"Sam says bark\"). \n",
    "```python\n",
    "class Q14Dog:\n",
    "    def __init__(self, name, age):\n",
    "        ...\n",
    "\n",
    "    def __str__(self):\n",
    "        ...\n",
    "        \n",
    "    def sound(self, s):\n",
    "        ...\n",
    "```"
   ]
  },
  {
   "cell_type": "code",
   "execution_count": 23,
   "metadata": {
    "deletable": false,
    "nbgrader": {
     "cell_type": "code",
     "checksum": "a2c0e0bbaa032ddce85636ace2ebb415",
     "grade": false,
     "grade_id": "A14",
     "locked": false,
     "schema_version": 3,
     "solution": true,
     "task": false
    }
   },
   "outputs": [
    {
     "name": "stdout",
     "output_type": "stream",
     "text": [
      "Sam says bark\n"
     ]
    }
   ],
   "source": [
    "# Write your solution here\n",
    "class Q14Dog:\n",
    "    def __init__(self, name, age):\n",
    "        self.name = name\n",
    "        self.age = age\n",
    "\n",
    "    def __str__(self):\n",
    "        return f\"{self.name} is {self.age} years old\"\n",
    "        \n",
    "    def sound(self, s):\n",
    "        return f\"{self.name} says {s}\"\n",
    "    \n",
    "# YOUR CODE HERE\n",
    "q14_o = Q14Dog('Sam', '2')\n",
    "print(q14_o.sound('bark'))"
   ]
  },
  {
   "cell_type": "code",
   "execution_count": null,
   "metadata": {
    "deletable": false,
    "editable": false,
    "nbgrader": {
     "cell_type": "code",
     "checksum": "bf44f7a2a25d2f94d857aba542648ccc",
     "grade": true,
     "grade_id": "test_A14-Dog",
     "locked": true,
     "points": 8,
     "schema_version": 3,
     "solution": false,
     "task": false
    }
   },
   "outputs": [],
   "source": [
    "# Testing Cell (DO NOT MODIFY THIS CELL)"
   ]
  }
 ],
 "metadata": {
  "hide_input": false,
  "kernelspec": {
   "display_name": "Python 3 (ipykernel)",
   "language": "python",
   "name": "python3"
  },
  "language_info": {
   "codemirror_mode": {
    "name": "ipython",
    "version": 3
   },
   "file_extension": ".py",
   "mimetype": "text/x-python",
   "name": "python",
   "nbconvert_exporter": "python",
   "pygments_lexer": "ipython3",
   "version": "3.12.3"
  },
  "nbTranslate": {
   "displayLangs": [
    "*"
   ],
   "hotkey": "alt-t",
   "langInMainMenu": true,
   "sourceLang": "en",
   "targetLang": "fr",
   "useGoogleTranslate": true
  },
  "toc": {
   "base_numbering": 1,
   "nav_menu": {},
   "number_sections": true,
   "sideBar": true,
   "skip_h1_title": false,
   "title_cell": "Table of Contents",
   "title_sidebar": "Contents",
   "toc_cell": false,
   "toc_position": {},
   "toc_section_display": true,
   "toc_window_display": false
  },
  "varInspector": {
   "cols": {
    "lenName": 16,
    "lenType": 16,
    "lenVar": 40
   },
   "kernels_config": {
    "python": {
     "delete_cmd_postfix": "",
     "delete_cmd_prefix": "del ",
     "library": "var_list.py",
     "varRefreshCmd": "print(var_dic_list())"
    },
    "r": {
     "delete_cmd_postfix": ") ",
     "delete_cmd_prefix": "rm(",
     "library": "var_list.r",
     "varRefreshCmd": "cat(var_dic_list()) "
    }
   },
   "types_to_exclude": [
    "module",
    "function",
    "builtin_function_or_method",
    "instance",
    "_Feature"
   ],
   "window_display": false
  },
  "vscode": {
   "interpreter": {
    "hash": "7df90f234e22c8ff2581d4161e7781168384535e77f9343ea04b5be48da54ae4"
   }
  }
 },
 "nbformat": 4,
 "nbformat_minor": 4
}
