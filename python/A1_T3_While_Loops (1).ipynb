{
 "cells": [
  {
   "cell_type": "markdown",
   "metadata": {},
   "source": [
    "### Instructions:\n",
    "\n",
    "- You can attempt any number of questions and in any order.  \n",
    "  See the assignment page for a description of the hurdle requirement for this assessment.\n",
    "- You may submit your practical for autograding as many times as you like to check on progress, however you will save time by checking and testing your own code before submitting.\n",
    "- Develop and check your answers in the spaces provided.\n",
    "- **Replace** the code `raise NotImplementedError()` with your solution to the question.\n",
    "- Do **NOT** remove any variables other provided markings already provided in the answer spaces.\n",
    "- Do **NOT** make any changes to this notebook outside of the spaces indicated.  \n",
    "  (If you do this, the submission system might not accept your work)\n",
    "\n",
    "### Submitting:\n",
    "\n",
    "1. Before you turn this problem in, make sure everything runs as expected by resetting this notebook.    \n",
    "   (You can do this from the menubar above by selecting `Kernel`&#8594;`Restart Kernel and Run All Cells...`)\n",
    "1. Don't forget to save your notebook after this step.\n",
    "1. Submit your .ipynb file to Gradescope via file upload or GitHub repository.\n",
    "1. You can submit as many times as needed.\n",
    "\n"
   ]
  },
  {
   "cell_type": "markdown",
   "metadata": {},
   "source": [
    "---"
   ]
  },
  {
   "cell_type": "markdown",
   "metadata": {},
   "source": [
    "# [Shubharthak Sangharasha](https://shubharthaksangharsha.github.io)\n",
    "# Student ID: `a1944839`"
   ]
  },
  {
   "cell_type": "markdown",
   "metadata": {
    "deletable": false,
    "editable": false,
    "nbgrader": {
     "cell_type": "markdown",
     "checksum": "21a91eab124cf03d194a20688c067023",
     "grade": false,
     "grade_id": "cell-aa1ec89e34a72341",
     "locked": true,
     "schema_version": 3,
     "solution": false,
     "task": false
    },
    "tags": []
   },
   "source": [
    "# A1 | Week 3: Practice While Loops\n"
   ]
  },
  {
   "cell_type": "markdown",
   "metadata": {
    "deletable": false,
    "editable": false,
    "nbgrader": {
     "cell_type": "markdown",
     "checksum": "fa6d93e0b7cb59e63826a7f386353fcb",
     "grade": false,
     "grade_id": "cell-594f4c85a1717ad3",
     "locked": true,
     "schema_version": 3,
     "solution": false,
     "task": false
    },
    "tags": []
   },
   "source": [
    "#### Example Question\n",
    "Write a Python program to display the first 10 integer numbers starting with 1 using while loops. Create the variable `example_output` and use it inside the while loop to construct the string that you want to display at the end of the program.\n",
    "\n",
    "``` python\n",
    "# This solution is for demonstration purposes ONLY. \n",
    "# There may be other ways of doing this task using while loops that produces the same output.\n",
    "# You have the freedom to use a solution that you prefer as long as it uses a while loop and \n",
    "# produces the expected output using the example_output variable.\n",
    "\n",
    "example_output = \"\"\n",
    "example_count = 1\n",
    "\n",
    "while example_count <= 10:\n",
    "    example_output += str(example_count)\n",
    "    example_output += \"\\n\"\n",
    "    example_count += 1\n",
    "example_output = example_output.strip() #this is to remove the extra new line in 10\n",
    "\n",
    "print(example_output)\n",
    "```\n",
    "***\n",
    "<details>\n",
    "  <summary><span style=\"color:blue\">Showing the representation of a string</span></summary>\n",
    "    \n",
    "* To make the numbers appear on separate lines, we append the newline character `\\n`. This is called an \"escape character\". When printed, the newline character goes to the start of a new line like an old typewriter. If we wish to see the string with all of its escape chatacters, we can ask for the string representation using the built in function `repr(example_output)`. \n",
    "</details>"
   ]
  },
  {
   "cell_type": "markdown",
   "metadata": {
    "tags": []
   },
   "source": [
    "#### Question 1&nbsp;&nbsp;&nbsp;&nbsp;&nbsp;&nbsp;(1 Point)\n",
    "Write a Python program to list integer numbers in the range 190 to 200 (inclusive) using a while loop.\n",
    "\n",
    "Create the variable `output1` and use it inside the while loop to construct the string that you want to display at the end of the program following the example above. When `output1` is *printed* like `print(output1)` the following should be shown:   \n",
    "```\n",
    "190  \n",
    "191  \n",
    "192  \n",
    "193  \n",
    "194  \n",
    "195  \n",
    "196  \n",
    "197  \n",
    "198  \n",
    "199  \n",
    "200\n",
    "```\n",
    "\n",
    "The expected *value* of `output1` will be a string representation containing newline characters (`\\n`) at the end of each line per the example. So if you `print(repr(output1))` you will see `\"190\\n191\\n ... \\n200\"`. See the hint below for more details on printing a string versus printing its representation with `repr()`. \n",
    "\n",
    "Note that there is no newline escape character after the number `200`. And remember that you can build your string by concatenation with the `+` operator like `output1 = output1 + \\n` or `output1 += \\n` for example.\n",
    "\n",
    "***\n",
    "<details>\n",
    "  <summary><span style=\"color:blue\">What is the repr() built-in function?</span></summary>\n",
    "    \n",
    "When you print a string, the Python interpreter gives you a \"human readable\" string where it can. That means, if the string contains newline escape characters, for example `\"25\\n26\"`, it will print:\n",
    "```\n",
    "25\n",
    "26\n",
    "```\n",
    "However, if you print the *representation* with the `repr()` built-in function, you will see a more interpreter friendly (and less readable) version of the string that is a more detailed, machine friendly representation that the interpreter understands.    \n",
    "</details>"
   ]
  },
  {
   "cell_type": "code",
   "execution_count": 68,
   "metadata": {
    "deletable": false,
    "nbgrader": {
     "cell_type": "code",
     "checksum": "5c99c8058ecc8b329f665f2eb4c25e1b",
     "grade": false,
     "grade_id": "question_1",
     "locked": false,
     "schema_version": 3,
     "solution": true,
     "task": false
    },
    "tags": []
   },
   "outputs": [
    {
     "name": "stdout",
     "output_type": "stream",
     "text": [
      "190\n",
      "191\n",
      "192\n",
      "193\n",
      "194\n",
      "195\n",
      "196\n",
      "197\n",
      "198\n",
      "199\n",
      "200\n"
     ]
    }
   ],
   "source": [
    "# Write your solution here\n",
    "output1 = \"\"\n",
    "number = 190\n",
    "\n",
    "while number <= 200:\n",
    "    output1 += str(number)\n",
    "    if number < 200:\n",
    "        output1 += \"\\n\"\n",
    "    number += 1\n",
    "\n",
    "# YOUR CODE HERE\n",
    "print(output1)"
   ]
  },
  {
   "cell_type": "code",
   "execution_count": 2,
   "metadata": {
    "deletable": false,
    "editable": false,
    "nbgrader": {
     "cell_type": "code",
     "checksum": "372f5f6cabd7d95f11d8b25748595d1e",
     "grade": true,
     "grade_id": "q1-1_display_series",
     "locked": true,
     "points": 1,
     "schema_version": 3,
     "solution": false,
     "task": false
    },
    "tags": []
   },
   "outputs": [],
   "source": [
    "# Testing Cell (Do NOT modify this cell)"
   ]
  },
  {
   "cell_type": "markdown",
   "metadata": {},
   "source": [
    "#### Question 2&nbsp;&nbsp;&nbsp;&nbsp;&nbsp;&nbsp;(1 Point)\n",
    "Write a Python program to list the first 10 even numbers starting with 0 using a while loop. Create the variable `output2` and use  it inside the while loop to construct the string that you want to display at the end of the program.\n",
    "\n",
    "*Note: The displayed string should be in the same format as in Q1. For clarity, the expected output is shown below.*\n",
    "\n",
    "When we print `output2` we should expect:\n",
    "```\n",
    "0 \n",
    "2 \n",
    "4 \n",
    "6 \n",
    "8 \n",
    "10 \n",
    "12\n",
    "14 \n",
    "16 \n",
    "18\n",
    "```\n",
    "The expected *value* of `output2` from `print(repr(output2))` is: `\"0\\n2\\n4\\n6\\n8\\n10\\n12\\n14\\n16\\n18\"`. "
   ]
  },
  {
   "cell_type": "code",
   "execution_count": 10,
   "metadata": {
    "deletable": false,
    "nbgrader": {
     "cell_type": "code",
     "checksum": "a55856532a16068b75c7d28b2a33c056",
     "grade": false,
     "grade_id": "question_2",
     "locked": false,
     "schema_version": 3,
     "solution": true,
     "task": false
    },
    "tags": []
   },
   "outputs": [
    {
     "name": "stdout",
     "output_type": "stream",
     "text": [
      "0\n",
      "2\n",
      "4\n",
      "6\n",
      "8\n",
      "10\n",
      "12\n",
      "14\n",
      "16\n",
      "18\n",
      "'0\\n2\\n4\\n6\\n8\\n10\\n12\\n14\\n16\\n18'\n"
     ]
    }
   ],
   "source": [
    "# Write your solution here\n",
    "i = 0 \n",
    "output2 = \"\"\n",
    "count = 0\n",
    "while count <= 10 :\n",
    "    if count == 10:\n",
    "        break\n",
    "    if i % 2 == 0:\n",
    "        output2 += str(i) + \"\\n\"\n",
    "        count += 1\n",
    "    i += 1\n",
    "# YOUR CODE HERE\n",
    "output2 = output2.strip()\n",
    "print(output2)\n",
    "print(repr(output2))"
   ]
  },
  {
   "cell_type": "code",
   "execution_count": 4,
   "metadata": {
    "deletable": false,
    "editable": false,
    "nbgrader": {
     "cell_type": "code",
     "checksum": "31a163aeca7ff415c9412787c6c272d8",
     "grade": true,
     "grade_id": "q2-1_display_series",
     "locked": true,
     "points": 1,
     "schema_version": 3,
     "solution": false,
     "task": false
    },
    "tags": []
   },
   "outputs": [],
   "source": [
    "# Testing Cell (Do NOT modify this cell)"
   ]
  },
  {
   "cell_type": "markdown",
   "metadata": {},
   "source": [
    "#### Question 3&nbsp;&nbsp;&nbsp;&nbsp;&nbsp;&nbsp;(1 Point)\n",
    "Write a Python program to build the following series using a while loop: `30, 40, 50, 60, 70, 80, 90`. Create the variable `output3` and use it inside the while loop to construct the string that you want to display at the end of the program separting each value with a newline.\n",
    "\n",
    "*Note: The displayed string should be in the same format as in Q1. For clarity, the expected output is shown below.*\n",
    "\n",
    "Expected printed output:\n",
    "```\n",
    "30\n",
    "40 \n",
    "50 \n",
    "60 \n",
    "70 \n",
    "80 \n",
    "90 \n",
    "```"
   ]
  },
  {
   "cell_type": "code",
   "execution_count": 17,
   "metadata": {
    "deletable": false,
    "nbgrader": {
     "cell_type": "code",
     "checksum": "3a98484d412d0382960eb95657f3008a",
     "grade": false,
     "grade_id": "question_3",
     "locked": false,
     "schema_version": 3,
     "solution": true,
     "task": false
    },
    "tags": []
   },
   "outputs": [
    {
     "name": "stdout",
     "output_type": "stream",
     "text": [
      "30\n",
      "40\n",
      "50\n",
      "60\n",
      "70\n",
      "80\n",
      "90\n",
      "'30\\n40\\n50\\n60\\n70\\n80\\n90'\n"
     ]
    }
   ],
   "source": [
    "# Write your solution here\n",
    "output3 = \"30\\n\"\n",
    "current = 30\n",
    "i = 0 \n",
    "while i <= 5:\n",
    "    output3 += str(current + 10) + \"\\n\"\n",
    "    current += 10  \n",
    "    i += 1\n",
    "# YOUR CODE HERE\n",
    "output3 = output3.strip()\n",
    "print(output3)\n",
    "print(repr(output3))"
   ]
  },
  {
   "cell_type": "code",
   "execution_count": null,
   "metadata": {
    "deletable": false,
    "editable": false,
    "nbgrader": {
     "cell_type": "code",
     "checksum": "75ad17e430e9864c7e7fb4364bc4e3f3",
     "grade": true,
     "grade_id": "q3-1_display_series",
     "locked": true,
     "points": 1,
     "schema_version": 3,
     "solution": false,
     "task": false
    },
    "tags": []
   },
   "outputs": [],
   "source": [
    "# Testing Cell (Do NOT modify this cell)"
   ]
  },
  {
   "cell_type": "markdown",
   "metadata": {},
   "source": [
    "#### Question 4&nbsp;&nbsp;&nbsp;&nbsp;&nbsp;&nbsp;(1 Point)\n",
    "Given an integer `q4_input`, write a Python program to list the squares of integer numbers divisible by 4 in the range 1 to `q4_input` (inclusive) using a while loop. \n",
    "\n",
    "Create the variable `output4` and use it inside the while loop to construct the string that you want to display at the end of the program. When printed, `output4` should display the squares of the numbers . For example, if `q4_input = 20`, we wish to list the squares of `4, 8, 12, 16, 20` like:\n",
    "```\n",
    "16\n",
    "64\n",
    "144\n",
    "256\n",
    "400\n",
    "```\n",
    "*Note: The displayed string should be in the same format as in Q1.*"
   ]
  },
  {
   "cell_type": "code",
   "execution_count": 19,
   "metadata": {},
   "outputs": [],
   "source": [
    "q4_input = 20"
   ]
  },
  {
   "cell_type": "code",
   "execution_count": 20,
   "metadata": {
    "deletable": false,
    "nbgrader": {
     "cell_type": "code",
     "checksum": "8b5b15560de762f24a031a89fa33de6a",
     "grade": false,
     "grade_id": "question_4",
     "locked": false,
     "schema_version": 3,
     "solution": true,
     "task": false
    },
    "tags": []
   },
   "outputs": [
    {
     "name": "stdout",
     "output_type": "stream",
     "text": [
      "16\n",
      "64\n",
      "144\n",
      "256\n",
      "400\n"
     ]
    }
   ],
   "source": [
    "# Write your solution here\n",
    "i = 4\n",
    "output4 = \"\"\n",
    "while i <= q4_input:\n",
    "    output4 += str(i * i) + \"\\n\"\n",
    "    i += 4  \n",
    "\n",
    "# YOUR CODE HERE\n",
    "output4 = output4.strip()\n",
    "print(output4)"
   ]
  },
  {
   "cell_type": "code",
   "execution_count": null,
   "metadata": {
    "deletable": false,
    "editable": false,
    "nbgrader": {
     "cell_type": "code",
     "checksum": "6cfac5b0eac1ee53ca79b2950e1e5223",
     "grade": true,
     "grade_id": "q4-1_display_squares",
     "locked": true,
     "points": 1,
     "schema_version": 3,
     "solution": false,
     "task": false
    },
    "tags": []
   },
   "outputs": [],
   "source": [
    "# Testing Cell (Do NOT modify this cell)"
   ]
  },
  {
   "cell_type": "markdown",
   "metadata": {},
   "source": [
    "#### Question 5&nbsp;&nbsp;&nbsp;&nbsp;&nbsp;&nbsp;(1 Point)\n",
    "Write a Python program to print the following series using a while loop: `64, 60, 56, ..., 24`. Create the variable `output5` and use it inside the while loop to construct the string that you want to display at the end of the program.\n",
    "\n",
    "*Note: The displayed string should be in the same format as in Q1.*"
   ]
  },
  {
   "cell_type": "code",
   "execution_count": 21,
   "metadata": {
    "deletable": false,
    "nbgrader": {
     "cell_type": "code",
     "checksum": "2ed4973234bbf6aba369baead46201cc",
     "grade": false,
     "grade_id": "question_5",
     "locked": false,
     "schema_version": 3,
     "solution": true,
     "task": false
    },
    "tags": []
   },
   "outputs": [
    {
     "name": "stdout",
     "output_type": "stream",
     "text": [
      "64\n",
      "60\n",
      "56\n",
      "52\n",
      "48\n",
      "44\n",
      "40\n",
      "36\n",
      "32\n",
      "28\n",
      "24\n"
     ]
    }
   ],
   "source": [
    "# Write your solution here\n",
    "i = 64\n",
    "output5 = \"\"\n",
    "\n",
    "while i >= 24:\n",
    "    output5 += str(i) + \"\\n\" \n",
    "    i -= 4 \n",
    "\n",
    "\n",
    "\n",
    "# YOUR CODE HERE\n",
    "output5 = output5.strip()\n",
    "print(output5)"
   ]
  },
  {
   "cell_type": "code",
   "execution_count": null,
   "metadata": {
    "deletable": false,
    "editable": false,
    "nbgrader": {
     "cell_type": "code",
     "checksum": "74ca593eedfb4506dfc5f22771544d48",
     "grade": true,
     "grade_id": "q5-1_display_series",
     "locked": true,
     "points": 1,
     "schema_version": 3,
     "solution": false,
     "task": false
    },
    "tags": []
   },
   "outputs": [],
   "source": [
    "# Testing Cell (Do NOT modify this cell)"
   ]
  },
  {
   "cell_type": "markdown",
   "metadata": {},
   "source": [
    "#### Question 6&nbsp;&nbsp;&nbsp;&nbsp;&nbsp;&nbsp;(3 Points)\n",
    "Given two integers `q6_start` and `q6_stop` where `q6_stop > q6_start`, write a Python program that sums all the odd numbers from `q6_start` until `q6_stop` (inclusive) using a while loop. Create an integer variable `output6` and use it inside the while loop for the calculations needed. Print `output6` at the end of the program to check if it works correctly.\n",
    "\n",
    "For example:\n",
    "``` python\n",
    "q6_start = 3\n",
    "q6_stop = 10\n",
    "```\n",
    "would produce `output6 == 24`."
   ]
  },
  {
   "cell_type": "code",
   "execution_count": 22,
   "metadata": {},
   "outputs": [],
   "source": [
    "q6_start = 3\n",
    "q6_stop = 10"
   ]
  },
  {
   "cell_type": "code",
   "execution_count": 23,
   "metadata": {
    "deletable": false,
    "nbgrader": {
     "cell_type": "code",
     "checksum": "9531f0a0dc087fcf4b1c71ea95920c23",
     "grade": false,
     "grade_id": "question_6",
     "locked": false,
     "schema_version": 3,
     "solution": true,
     "task": false
    },
    "tags": []
   },
   "outputs": [
    {
     "name": "stdout",
     "output_type": "stream",
     "text": [
      "24\n"
     ]
    }
   ],
   "source": [
    "# Write your solution here\n",
    "output6 = 0\n",
    "i = q6_start\n",
    "\n",
    "# While loop to sum odd numbers\n",
    "while i <= q6_stop:\n",
    "    if i % 2 != 0:  # Check if the number is odd\n",
    "        output6 += i  # Add the odd number to output6\n",
    "    i += 1  # Move to the next number\n",
    "\n",
    "\n",
    "# YOUR CODE HERE\n",
    "print(output6)"
   ]
  },
  {
   "cell_type": "code",
   "execution_count": null,
   "metadata": {
    "deletable": false,
    "editable": false,
    "nbgrader": {
     "cell_type": "code",
     "checksum": "3115770c8ea1b5dd6eca743f0969c6a2",
     "grade": true,
     "grade_id": "q6-1_odd_sum",
     "locked": true,
     "points": 3,
     "schema_version": 3,
     "solution": false,
     "task": false
    },
    "tags": []
   },
   "outputs": [],
   "source": [
    "# Testing Cell (Do NOT modify this cell)"
   ]
  },
  {
   "cell_type": "markdown",
   "metadata": {},
   "source": [
    "#### Question 7&nbsp;&nbsp;&nbsp;&nbsp;&nbsp;&nbsp;(3 Points) \n",
    "Given an integer `q7_input`, write a Python program to calculate the sum of the first `q7_input` positive integers using a while loop. Integers that are evenly divisible by 5 should be excluded from the sum. Create the variable `output7` and use it inside the while loop for the calculations needed. \n",
    "\n",
    "For example, if `q7_input = 42`, then `output7 == 723'.\n",
    "***\n",
    "<details>\n",
    "  <summary><span style=\"color:blue\">Click to see Hints</span></summary>\n",
    "    \n",
    "* You will need to use `continue` statement. This statement rejects all the remaining statements in the current iteration of the loop and moves control back to the top of the loop.\n",
    "</details>"
   ]
  },
  {
   "cell_type": "code",
   "execution_count": 24,
   "metadata": {},
   "outputs": [],
   "source": [
    "q7_input = 42"
   ]
  },
  {
   "cell_type": "code",
   "execution_count": 26,
   "metadata": {
    "deletable": false,
    "nbgrader": {
     "cell_type": "code",
     "checksum": "b851b692d6624bb6ad00ac6959fef88f",
     "grade": false,
     "grade_id": "question_7",
     "locked": false,
     "schema_version": 3,
     "solution": true,
     "task": false
    },
    "tags": []
   },
   "outputs": [
    {
     "name": "stdout",
     "output_type": "stream",
     "text": [
      "723\n"
     ]
    }
   ],
   "source": [
    "# Write your solution here\n",
    "i = 1\n",
    "output7 = 0\n",
    "\n",
    "# While loop to calculate the sum\n",
    "while i <= q7_input:\n",
    "    if i % 5 == 0:\n",
    "        i += 1\n",
    "        continue\n",
    "    output7 += i  \n",
    "    i += 1  \n",
    "\n",
    "\n",
    "# YOUR CODE HERE\n",
    "print(output7)"
   ]
  },
  {
   "cell_type": "code",
   "execution_count": null,
   "metadata": {
    "deletable": false,
    "editable": false,
    "nbgrader": {
     "cell_type": "code",
     "checksum": "d81ec7088604b9ad12bdea626c0d83c3",
     "grade": true,
     "grade_id": "q7-1_integer_sum",
     "locked": true,
     "points": 3,
     "schema_version": 3,
     "solution": false,
     "task": false
    },
    "tags": []
   },
   "outputs": [],
   "source": [
    "# Testing Cell (Do NOT modify this cell)"
   ]
  },
  {
   "cell_type": "markdown",
   "metadata": {},
   "source": [
    "#### Question 8&nbsp;&nbsp;&nbsp;&nbsp;&nbsp;&nbsp;(3 Points) \n",
    "Write a Python program to calculate the total of the first 20 integer numbers using a while loop. \n",
    "\n",
    "However, if the program encounters a number that is divisible by 10 between 1 to 20, stop looping at the very moment and  calculate the total value until that point (i.e., excluding the number that is divisible by 10 and the numbers after that are also excluded). Create the variable `output8` and use it in the program for the calculations needed.\n",
    "\n",
    "***\n",
    "<details>\n",
    "  <summary><span style=\"color:blue\">Click to see Hints</span></summary>\n",
    "    \n",
    "* You will need to use `break` statement. This will terminate the current loop.\n",
    "</details>"
   ]
  },
  {
   "cell_type": "code",
   "execution_count": 27,
   "metadata": {
    "deletable": false,
    "nbgrader": {
     "cell_type": "code",
     "checksum": "3c8ebb020cd6b87288c4cb31d3aa3af2",
     "grade": false,
     "grade_id": "question_8",
     "locked": false,
     "schema_version": 3,
     "solution": true,
     "task": false
    },
    "tags": []
   },
   "outputs": [
    {
     "name": "stdout",
     "output_type": "stream",
     "text": [
      "45\n"
     ]
    }
   ],
   "source": [
    "# Write your solution here\n",
    "i = 1\n",
    "output8 = 0\n",
    "\n",
    "while i <= 20:\n",
    "    if i % 10 == 0:\n",
    "        break\n",
    "    output8 += i  \n",
    "    i += 1  \n",
    "\n",
    "\n",
    "# YOUR CODE HERE\n",
    "print(output8)"
   ]
  },
  {
   "cell_type": "code",
   "execution_count": null,
   "metadata": {
    "deletable": false,
    "editable": false,
    "nbgrader": {
     "cell_type": "code",
     "checksum": "c6ce39115bafef6d8b8bcb00a640585d",
     "grade": true,
     "grade_id": "q8-1_integer_sum",
     "locked": true,
     "points": 3,
     "schema_version": 3,
     "solution": false,
     "task": false
    },
    "tags": []
   },
   "outputs": [],
   "source": [
    "# Testing Cell (Do NOT modify this cell)"
   ]
  },
  {
   "cell_type": "markdown",
   "metadata": {},
   "source": [
    "#### Question 9&nbsp;&nbsp;&nbsp;&nbsp;&nbsp;&nbsp;(3 Points)\n",
    "Given two integers, `q9_start` and `q9_stop`, write a Python program using a while loop to calculate the average (rounded to two decimal places) of all the numbers between `q9_start` and `q9_stop` (**exclusive**) which are divisible by 13 but not by 3. Assign the average to `output9`.\n",
    "\n",
    "For example, given `q9_start = 300` and `q9_stop = 600`, there are 15 qualifying numbers in the interval with a total sum of 6877. Hence, `output9` should equal `458.47` (allowing for some small error when calculating with floats).\n",
    "\n",
    "***\n",
    "<details>\n",
    "  <summary><span style=\"color:blue\">The round() function.</span></summary> \n",
    "    \n",
    "* Refer to [the Python docs](https://docs.python.org/3/library/functions.html#round) for details on the round() built-in function including specifiying precision.\n",
    "</details>"
   ]
  },
  {
   "cell_type": "code",
   "execution_count": 29,
   "metadata": {},
   "outputs": [],
   "source": [
    "q9_start = 300\n",
    "q9_stop = 600"
   ]
  },
  {
   "cell_type": "code",
   "execution_count": 30,
   "metadata": {
    "deletable": false,
    "nbgrader": {
     "cell_type": "code",
     "checksum": "03a1202da1ee9a06906945535df6de9e",
     "grade": false,
     "grade_id": "question_9",
     "locked": false,
     "schema_version": 3,
     "solution": true,
     "task": false
    },
    "tags": []
   },
   "outputs": [
    {
     "name": "stdout",
     "output_type": "stream",
     "text": [
      "458.47\n"
     ]
    }
   ],
   "source": [
    "# Write your solution here\n",
    "i = q9_start + 1\n",
    "total_sum = 0\n",
    "count = 0\n",
    "\n",
    "while i < q9_stop:\n",
    "    if i % 13 == 0 and i % 3 != 0:\n",
    "        total_sum += i\n",
    "        count += 1\n",
    "    i += 1\n",
    "\n",
    "if count > 0:\n",
    "    output9 = round(total_sum / count, 2)\n",
    "else:\n",
    "    output9 = 0\n",
    "\n",
    "\n",
    "# YOUR CODE HERE\n",
    "print(output9)"
   ]
  },
  {
   "cell_type": "code",
   "execution_count": null,
   "metadata": {
    "deletable": false,
    "editable": false,
    "nbgrader": {
     "cell_type": "code",
     "checksum": "6fe3019ed1a7acc08bbed8fed2eeea2b",
     "grade": true,
     "grade_id": "q9-1_display_average",
     "locked": true,
     "points": 3,
     "schema_version": 3,
     "solution": false,
     "task": false
    },
    "tags": []
   },
   "outputs": [],
   "source": [
    "# Testing Cell (Do NOT modify this cell)"
   ]
  },
  {
   "cell_type": "markdown",
   "metadata": {},
   "source": [
    "#### Question 10&nbsp;&nbsp;&nbsp;&nbsp;&nbsp;&nbsp;(3 Points)\n",
    "Write a Python program to display the following pattern using while loops. To create the pattern as a string, create the variable `output10` and use it inside the while loop to construct the string that you want to display at the end of the program. You must use newline characters embedded in `output10` to form the pattern. The program can be done simply with a while loop.\n",
    "```\n",
    "*\n",
    "**\n",
    "***\n",
    "****\n",
    "*****\n",
    "```"
   ]
  },
  {
   "cell_type": "code",
   "execution_count": 31,
   "metadata": {
    "deletable": false,
    "nbgrader": {
     "cell_type": "code",
     "checksum": "fdc8dc3fdcd768c5fee081f08ac06316",
     "grade": false,
     "grade_id": "question_10",
     "locked": false,
     "schema_version": 3,
     "solution": true,
     "task": false
    },
    "tags": []
   },
   "outputs": [
    {
     "name": "stdout",
     "output_type": "stream",
     "text": [
      "*\n",
      "**\n",
      "***\n",
      "****\n",
      "*****\n",
      "\n"
     ]
    }
   ],
   "source": [
    "# Write your solution here\n",
    "output10 = \"\"\n",
    "i = 1\n",
    "\n",
    "while i <= 5:\n",
    "    output10 += \"*\" * i + \"\\n\"\n",
    "    i += 1\n",
    "\n",
    "\n",
    "\n",
    "# YOUR CODE HERE\n",
    "print(output10)"
   ]
  },
  {
   "cell_type": "code",
   "execution_count": null,
   "metadata": {
    "deletable": false,
    "editable": false,
    "nbgrader": {
     "cell_type": "code",
     "checksum": "bce501ac630ceec43025018b21252cbc",
     "grade": true,
     "grade_id": "q10-1_display_pattern",
     "locked": true,
     "points": 3,
     "schema_version": 3,
     "solution": false,
     "task": false
    },
    "tags": []
   },
   "outputs": [],
   "source": [
    "# Testing Cell (Do NOT modify this cell)"
   ]
  },
  {
   "cell_type": "markdown",
   "metadata": {},
   "source": [
    "#### Question 11&nbsp;&nbsp;&nbsp;&nbsp;&nbsp;&nbsp;(4 Points)\n",
    "Write a Python program to display the following pattern using one or more while loops. You may use one loop or decide to *nest* one while loop inside the other. Create the variable `output11` to contain the string representation of the pattern below:\n",
    "```\n",
    "1\n",
    "22\n",
    "333\n",
    "4444\n",
    "55555\n",
    "666666\n",
    "7777777\n",
    "88888888\n",
    "999999999\n",
    "```\n",
    "***\n",
    "<details>\n",
    "  <summary><span style=\"color:blue\">How to multiply a string??</span></summary> \n",
    "    \n",
    "* Note that if you use the '*' operator on a sequence like a string, the result is that the sequence is multiplied that many times. Refer to [the Python docs](https://docs.python.org/3/reference/expressions.html#binary-arithmetic-operations) for details. \n",
    "    \n",
    "In this case the docs are not super helpful: \"In the latter case, sequence repetition is performed; a negative repetition factor yields an empty sequence.\" but it is essential that you become familar with reading them. In COMP SCI 7211, we will look in more detail at using Application Programming Interfaces (API) documentation and documentation for [the Python Standard Library](https://docs.python.org/3/library/index.html).\n",
    "</details>"
   ]
  },
  {
   "cell_type": "code",
   "execution_count": 32,
   "metadata": {
    "deletable": false,
    "nbgrader": {
     "cell_type": "code",
     "checksum": "063c30fae744cddeafa7215b9115c4fd",
     "grade": false,
     "grade_id": "question_11",
     "locked": false,
     "schema_version": 3,
     "solution": true,
     "task": false
    },
    "tags": []
   },
   "outputs": [
    {
     "name": "stdout",
     "output_type": "stream",
     "text": [
      "1\n",
      "22\n",
      "333\n",
      "4444\n",
      "55555\n",
      "666666\n",
      "7777777\n",
      "88888888\n",
      "999999999\n",
      "\n"
     ]
    }
   ],
   "source": [
    "# Write your solution here\n",
    "output11 = \"\"\n",
    "i = 1\n",
    "\n",
    "while i <= 9:\n",
    "    output11 += str(i) * i + \"\\n\"\n",
    "    i += 1\n",
    "\n",
    "\n",
    "\n",
    "# YOUR CODE HERE\n",
    "print(output11)"
   ]
  },
  {
   "cell_type": "code",
   "execution_count": null,
   "metadata": {
    "deletable": false,
    "editable": false,
    "nbgrader": {
     "cell_type": "code",
     "checksum": "635217895c45ade0f9e70ddc2b9a5d01",
     "grade": true,
     "grade_id": "q11-1_display_pattern",
     "locked": true,
     "points": 4,
     "schema_version": 3,
     "solution": false,
     "task": false
    },
    "tags": []
   },
   "outputs": [],
   "source": [
    "# Testing Cell (Do NOT modify this cell)"
   ]
  },
  {
   "cell_type": "markdown",
   "metadata": {},
   "source": [
    "#### Question 12&nbsp;&nbsp;&nbsp;&nbsp;&nbsp;&nbsp;(4 Points)\n",
    "Given two integers `q12_start` and `q12_stop`, write a Python program to display numbers that are divisible by 9 and multiples of 5, between `q12_start` and `q12_stop` (inclusive) using a single while loop. Create a variable `output12` and use it inside the while loop to construct the string that you want to display at the end of the program.\n",
    "\n",
    "*Note: The displayed string should be in the same format as in Q1.*"
   ]
  },
  {
   "cell_type": "code",
   "execution_count": 33,
   "metadata": {},
   "outputs": [],
   "source": [
    "q12_start = 1000\n",
    "q12_stop = 1300"
   ]
  },
  {
   "cell_type": "code",
   "execution_count": 35,
   "metadata": {
    "deletable": false,
    "nbgrader": {
     "cell_type": "code",
     "checksum": "18bf1afd02b772bc133f211c5bf6f9ee",
     "grade": false,
     "grade_id": "question_12",
     "locked": false,
     "schema_version": 3,
     "solution": true,
     "task": false
    },
    "tags": []
   },
   "outputs": [
    {
     "name": "stdout",
     "output_type": "stream",
     "text": [
      "1035\n",
      "1080\n",
      "1125\n",
      "1170\n",
      "1215\n",
      "1260\n"
     ]
    }
   ],
   "source": [
    "# Write your solution here\n",
    "\n",
    "output12 = \"\"\n",
    "i = q12_start\n",
    "\n",
    "while i <= q12_stop:\n",
    "    if i % 9 == 0 and i % 5 == 0:\n",
    "        output12 += str(i) + \"\\n\"\n",
    "    i += 1\n",
    "\n",
    "\n",
    "# YOUR CODE HERE\n",
    "output12 = output12.strip()\n",
    "print(output12)"
   ]
  },
  {
   "cell_type": "code",
   "execution_count": null,
   "metadata": {
    "deletable": false,
    "editable": false,
    "nbgrader": {
     "cell_type": "code",
     "checksum": "c46418406aede7f356235986723e259f",
     "grade": true,
     "grade_id": "q12-1_display_list",
     "locked": true,
     "points": 4,
     "schema_version": 3,
     "solution": false,
     "task": false
    },
    "tags": []
   },
   "outputs": [],
   "source": [
    "# Testing Cell (Do NOT modify this cell)"
   ]
  },
  {
   "cell_type": "markdown",
   "metadata": {},
   "source": [
    "#### Question 13&nbsp;&nbsp;&nbsp;&nbsp;&nbsp;&nbsp;(4 Points)\n",
    "Write a Python program that iterates from 200 to 215 (inclusive) using a while loop. Create the variable `output13` and use it inside the while loop to construct the string that you want to display at the end of the program. \n",
    "\n",
    "Build the string `output13` by adding the following text separated by the newline escape character:\n",
    "\n",
    "1. If a number is a multiple of 3, display \"NUMBER is a multiple of 3!\" (*Note: NUMBER should be replaced with the value at that iteration*)\n",
    "2. If a number is a multiple of 5, display \"NUMBER is a multiple of 5!\" (*Note: NUMBER should be replaced with the value at that iteration*)\n",
    "3. If a number satisfies condition 1 & 3, display \"NUMBER is a multiple of both 3 and 5!\" (*Note: NUMBER should be replaced with the value at that iteration*)\n",
    "\n",
    "*Note: The displayed string should be in the same format as in Q1.*"
   ]
  },
  {
   "cell_type": "code",
   "execution_count": 36,
   "metadata": {
    "deletable": false,
    "nbgrader": {
     "cell_type": "code",
     "checksum": "be6688fc5f6f188aecd26ce404713b78",
     "grade": false,
     "grade_id": "question_13",
     "locked": false,
     "schema_version": 3,
     "solution": true,
     "task": false
    },
    "tags": []
   },
   "outputs": [
    {
     "name": "stdout",
     "output_type": "stream",
     "text": [
      "200 is a multiple of 5!\n",
      "201 is a multiple of 3!\n",
      "204 is a multiple of 3!\n",
      "205 is a multiple of 5!\n",
      "207 is a multiple of 3!\n",
      "210 is a multiple of both 3 and 5!\n",
      "213 is a multiple of 3!\n",
      "215 is a multiple of 5!\n"
     ]
    }
   ],
   "source": [
    "# Write your solution here\n",
    "\n",
    "output13 = \"\"\n",
    "i = 200\n",
    "\n",
    "while i <= 215:\n",
    "    if i % 3 == 0 and i % 5 == 0:\n",
    "        output13 += f\"{i} is a multiple of both 3 and 5!\\n\"\n",
    "    elif i % 3 == 0:\n",
    "        output13 += f\"{i} is a multiple of 3!\\n\"\n",
    "    elif i % 5 == 0:\n",
    "        output13 += f\"{i} is a multiple of 5!\\n\"\n",
    "    i += 1\n",
    "\n",
    "\n",
    "\n",
    "\n",
    "# YOUR CODE HERE\n",
    "output13 = output13.strip()\n",
    "print(output13)"
   ]
  },
  {
   "cell_type": "code",
   "execution_count": null,
   "metadata": {
    "deletable": false,
    "editable": false,
    "nbgrader": {
     "cell_type": "code",
     "checksum": "7a1d5eb39473f29c8feb147b7db443db",
     "grade": true,
     "grade_id": "q13-1_display_number",
     "locked": true,
     "points": 4,
     "schema_version": 3,
     "solution": false,
     "task": false
    },
    "tags": []
   },
   "outputs": [],
   "source": [
    "# Testing Cell (Do NOT modify this cell)"
   ]
  },
  {
   "cell_type": "markdown",
   "metadata": {},
   "source": [
    "#### Question 14&nbsp;&nbsp;&nbsp;&nbsp;&nbsp;&nbsp;(4 Points)\n",
    "Create the variable `q14_num` and assign the integer `1912` to it. Write a Python program to reverse the order of digits in `q14_num` using a while loop and arithmetic operations. For example, if `q14_num` is 1912, the reversed number is 2191. \n",
    "\n",
    "Create the variable `output14` and assign the reversed number to it as an integer. "
   ]
  },
  {
   "cell_type": "code",
   "execution_count": 38,
   "metadata": {},
   "outputs": [],
   "source": [
    "q14_num = 1912"
   ]
  },
  {
   "cell_type": "code",
   "execution_count": 39,
   "metadata": {
    "deletable": false,
    "nbgrader": {
     "cell_type": "code",
     "checksum": "501777c74c249eee107a20a9c453f0e0",
     "grade": false,
     "grade_id": "question_14",
     "locked": false,
     "schema_version": 3,
     "solution": true,
     "task": false
    },
    "tags": []
   },
   "outputs": [
    {
     "name": "stdout",
     "output_type": "stream",
     "text": [
      "2191\n"
     ]
    }
   ],
   "source": [
    "# Write your solution here\n",
    "output14 = 0\n",
    "\n",
    "while q14_num > 0:\n",
    "    digit = q14_num % 10\n",
    "    output14 = output14 * 10 + digit\n",
    "    q14_num //= 10\n",
    "\n",
    "\n",
    "# YOUR CODE HERE\n",
    "print(output14)"
   ]
  },
  {
   "cell_type": "code",
   "execution_count": null,
   "metadata": {
    "deletable": false,
    "editable": false,
    "nbgrader": {
     "cell_type": "code",
     "checksum": "05cbf165c8bcabf82284d97cd9613afd",
     "grade": true,
     "grade_id": "q14-1_display_reverse",
     "locked": true,
     "points": 4,
     "schema_version": 3,
     "solution": false,
     "task": false
    },
    "tags": []
   },
   "outputs": [],
   "source": [
    "# Testing Cell (Do NOT modify this cell)"
   ]
  },
  {
   "cell_type": "markdown",
   "metadata": {},
   "source": [
    "#### Question 15 &nbsp;&nbsp;&nbsp;&nbsp;&nbsp;&nbsp;(4 Points) \n",
    "Write a Python program to display the series of `2, 22, 222, 2222, ...` for the first number of terms `q15_n`.\n",
    "\n",
    "For this question, create a `q15_n` variable (that represents `n`, the number of terms in the series) and assign `5` to it. Create the variable `output15` and use it inside the while loop to construct the string that you want to display at the end of the program.\n",
    "\n",
    "For `q15_n = 5` the printed string should display:\n",
    "```\n",
    "2\n",
    "22\n",
    "222\n",
    "2222\n",
    "22222\n",
    "```\n",
    "*Note: The displayed string should be in the same format as in Q1.*"
   ]
  },
  {
   "cell_type": "code",
   "execution_count": 40,
   "metadata": {},
   "outputs": [],
   "source": [
    "q15_n = 5"
   ]
  },
  {
   "cell_type": "code",
   "execution_count": 41,
   "metadata": {
    "deletable": false,
    "nbgrader": {
     "cell_type": "code",
     "checksum": "ce1018fcba2048333fb20aa4b8e30ddd",
     "grade": false,
     "grade_id": "question_15",
     "locked": false,
     "schema_version": 3,
     "solution": true,
     "task": false
    },
    "tags": []
   },
   "outputs": [
    {
     "name": "stdout",
     "output_type": "stream",
     "text": [
      "2\n",
      "22\n",
      "222\n",
      "2222\n",
      "22222\n"
     ]
    }
   ],
   "source": [
    "# Write your solution here\n",
    "output15 = \"\"\n",
    "i = 1\n",
    "current_number = 2\n",
    "\n",
    "while i <= q15_n:\n",
    "    output15 += str(current_number) + \"\\n\"\n",
    "    current_number = current_number * 10 + 2\n",
    "    i += 1\n",
    "\n",
    "\n",
    "# YOUR CODE HERE\n",
    "output15 = output15.strip()\n",
    "print(output15)"
   ]
  },
  {
   "cell_type": "code",
   "execution_count": null,
   "metadata": {
    "deletable": false,
    "editable": false,
    "nbgrader": {
     "cell_type": "code",
     "checksum": "ca8e9d2c10cabb7e717bde8ba7a39286",
     "grade": true,
     "grade_id": "q15-1_display_series",
     "locked": true,
     "points": 4,
     "schema_version": 3,
     "solution": false,
     "task": false
    },
    "tags": []
   },
   "outputs": [],
   "source": [
    "# Testing Cell (Do NOT modify this cell)\n"
   ]
  },
  {
   "cell_type": "markdown",
   "metadata": {},
   "source": [
    "#### Question 16 &nbsp;&nbsp;&nbsp;&nbsp;&nbsp;&nbsp;(4 Points)\n",
    "Write a Python program to find the sum of following series of squares: 1 + 4 – 9 + 16 – 25 + 36 – … … n terms.\n",
    "\n",
    "For this question, create `q16_n` variable (that represents `n` in the series) and assign 20 to it. Create the variable `output16` and assign the sum of the series for the given `n` to it."
   ]
  },
  {
   "cell_type": "code",
   "execution_count": 43,
   "metadata": {},
   "outputs": [],
   "source": [
    "q16_n = 20"
   ]
  },
  {
   "cell_type": "code",
   "execution_count": 71,
   "metadata": {
    "deletable": false,
    "nbgrader": {
     "cell_type": "code",
     "checksum": "d8bd7bbc324df1032f04122540af5960",
     "grade": false,
     "grade_id": "question_16",
     "locked": false,
     "schema_version": 3,
     "solution": true,
     "task": false
    },
    "tags": []
   },
   "outputs": [
    {
     "name": "stdout",
     "output_type": "stream",
     "text": [
      "-210\n"
     ]
    }
   ],
   "source": [
    "# Write your solution here\n",
    "output16 = 0\n",
    "i = 1\n",
    "\n",
    "while i <= q16_n:\n",
    "    square = i * i\n",
    "    if i % 2 == 0:\n",
    "        output16 -= square  \n",
    "    else:\n",
    "        output16 += square  \n",
    "    i += 1\n",
    "\n",
    "# YOUR CODE HERE\n",
    "print(output16)"
   ]
  },
  {
   "cell_type": "code",
   "execution_count": null,
   "metadata": {
    "deletable": false,
    "editable": false,
    "nbgrader": {
     "cell_type": "code",
     "checksum": "237b583811fbe5cace53e233fbd2d0a5",
     "grade": true,
     "grade_id": "q16-1_calculate_sum",
     "locked": true,
     "points": 4,
     "schema_version": 3,
     "solution": false,
     "task": false
    },
    "tags": []
   },
   "outputs": [],
   "source": [
    "# Testing Cell (Do NOT modify this cell)"
   ]
  },
  {
   "cell_type": "markdown",
   "metadata": {},
   "source": [
    "#### Question 17 &nbsp;&nbsp;&nbsp;&nbsp;&nbsp;&nbsp;(6 Points)\n",
    "For a given integer, `input17`, calculate `output17` in the formula `output17 == input17!` using a while loop.\n",
    "\n",
    "Please follow these instructions:\n",
    "\n",
    "* `q17_input = 10`,\n",
    "* The factorial of a number `n` is represented by `n!` and it is equal to `1 * 2 * 3 *....* (n-1) * n`. \n",
    "* Note that 1! = 1 and 0! = 1, and\n",
    "* Assign `n` to a variable `output17` for testing.\n",
    "\n",
    "For example, if:\n",
    "* input17 = 4\n",
    "* then output17 == 24 since 1 * 2 * 3 * 4 == 24 (ie: 4! = 24)."
   ]
  },
  {
   "cell_type": "code",
   "execution_count": 45,
   "metadata": {},
   "outputs": [],
   "source": [
    "q17_input = 10"
   ]
  },
  {
   "cell_type": "code",
   "execution_count": 46,
   "metadata": {
    "deletable": false,
    "nbgrader": {
     "cell_type": "code",
     "checksum": "3043c8924c274c827355a8fed873e561",
     "grade": false,
     "grade_id": "question_17",
     "locked": false,
     "schema_version": 3,
     "solution": true,
     "task": false
    },
    "tags": []
   },
   "outputs": [
    {
     "name": "stdout",
     "output_type": "stream",
     "text": [
      "3628800\n"
     ]
    }
   ],
   "source": [
    "# Write your solution here\n",
    "output17 = 1\n",
    "i = 1\n",
    "\n",
    "while i <= q17_input:\n",
    "    output17 *= i\n",
    "    i += 1\n",
    "\n",
    "\n",
    "# YOUR CODE HERE\n",
    "print(output17)"
   ]
  },
  {
   "cell_type": "code",
   "execution_count": null,
   "metadata": {
    "deletable": false,
    "editable": false,
    "nbgrader": {
     "cell_type": "code",
     "checksum": "ee4805b2a7e86757d6d666332af4e296",
     "grade": true,
     "grade_id": "q17-1_calculate_factorial",
     "locked": true,
     "points": 6,
     "schema_version": 3,
     "solution": false,
     "task": false
    },
    "tags": []
   },
   "outputs": [],
   "source": [
    "# Testing Cell (Do NOT modify this cell)"
   ]
  },
  {
   "cell_type": "markdown",
   "metadata": {},
   "source": [
    "#### Question 18 &nbsp;&nbsp;&nbsp;&nbsp;&nbsp;&nbsp;(6 Points)\n",
    "Write a Python program to display the following pattern using while loops. Create the variable `output18` and use it inside the while loop to construct the string that you want to display at the end of the program. Representation of the string is as per question 1.\n",
    "```\n",
    "    *\n",
    "   ***\n",
    "  *****\n",
    " *******\n",
    "*********\n",
    " *******\n",
    "  *****\n",
    "   ***\n",
    "    *\n",
    "```\n",
    "***\n",
    "<details>00\n",
    "  <summary><span style=\"color:blue\">Click to see Hints</span></summary>\n",
    "    \n",
    "* You may need to use two while loops to print the first half and second half of the pattern.\n",
    "* You may need to use `break` statement as practiced in Question 8.\n",
    "</details>"
   ]
  },
  {
   "cell_type": "code",
   "execution_count": 52,
   "metadata": {
    "deletable": false,
    "nbgrader": {
     "cell_type": "code",
     "checksum": "130740754b916fb52de28e08cddc1c36",
     "grade": false,
     "grade_id": "question_18",
     "locked": false,
     "schema_version": 3,
     "solution": true,
     "task": false
    },
    "tags": []
   },
   "outputs": [
    {
     "name": "stdout",
     "output_type": "stream",
     "text": [
      "    *\n",
      "   ***\n",
      "  *****\n",
      " *******\n",
      "*********\n",
      " *******\n",
      "  *****\n",
      "   ***\n",
      "    *\n",
      "\n"
     ]
    }
   ],
   "source": [
    "# Write your solution here\n",
    "output18 = \"\"\n",
    "n = 5\n",
    "\n",
    "i = 1\n",
    "while i <= n:\n",
    "    spaces = n - i\n",
    "    stars = 2 * i - 1\n",
    "    output18 += ' ' * spaces + '*' * stars + \"\\n\"\n",
    "    i += 1\n",
    "\n",
    "i = n - 1\n",
    "while i >= 1:\n",
    "    spaces = n - i\n",
    "    stars = 2 * i - 1\n",
    "    output18 += ' ' * spaces + '*' * stars + \"\\n\"\n",
    "    i -= 1\n",
    "\n",
    "# YOUR CODE HERE\n",
    "print(output18)"
   ]
  },
  {
   "cell_type": "code",
   "execution_count": 53,
   "metadata": {
    "deletable": false,
    "editable": false,
    "nbgrader": {
     "cell_type": "code",
     "checksum": "c210427910662a06054bf68062d1ec55",
     "grade": true,
     "grade_id": "q18-1_display_pattern",
     "locked": true,
     "points": 6,
     "schema_version": 3,
     "solution": false,
     "task": false
    },
    "tags": []
   },
   "outputs": [],
   "source": [
    "# Testing Cell (Do NOT modify this cell)"
   ]
  },
  {
   "cell_type": "markdown",
   "metadata": {},
   "source": [
    "#### Question 19 &nbsp;&nbsp;&nbsp;&nbsp;&nbsp;&nbsp;(6 Points)\n",
    "Write a Python program to reverse the representation of a given number using a while loop. Create a variable `q19_input` and assign the number 121019200109 to it. Use the variable `output19` and assign the solution to it. You may reuse code from earlier questions."
   ]
  },
  {
   "cell_type": "code",
   "execution_count": 54,
   "metadata": {},
   "outputs": [],
   "source": [
    "q19_input = 121019200109"
   ]
  },
  {
   "cell_type": "code",
   "execution_count": 55,
   "metadata": {
    "deletable": false,
    "nbgrader": {
     "cell_type": "code",
     "checksum": "82a5452b67bd90f2935b84a4cc031336",
     "grade": false,
     "grade_id": "question_19",
     "locked": false,
     "schema_version": 3,
     "solution": true,
     "task": false
    },
    "tags": []
   },
   "outputs": [
    {
     "name": "stdout",
     "output_type": "stream",
     "text": [
      "901002910121\n"
     ]
    }
   ],
   "source": [
    "# Write your solution here\n",
    "output19 = 0\n",
    "\n",
    "while q19_input > 0:\n",
    "    digit = q19_input % 10\n",
    "    output19 = output19 * 10 + digit\n",
    "    q19_input //= 10\n",
    "\n",
    "\n",
    "# YOUR CODE HERE\n",
    "print(output19)"
   ]
  },
  {
   "cell_type": "code",
   "execution_count": null,
   "metadata": {
    "deletable": false,
    "editable": false,
    "nbgrader": {
     "cell_type": "code",
     "checksum": "a540db7cff76774e39553d41143215d5",
     "grade": true,
     "grade_id": "q17-1_reverse_number",
     "locked": true,
     "points": 6,
     "schema_version": 3,
     "solution": false,
     "task": false
    },
    "tags": []
   },
   "outputs": [],
   "source": [
    "# Testing Cell (Do NOT modify this cell)"
   ]
  },
  {
   "cell_type": "markdown",
   "metadata": {},
   "source": [
    "#### Question 20 &nbsp;&nbsp;&nbsp;&nbsp;&nbsp;&nbsp;(6 Points)\n",
    "Write a Python program to find the sum of the following series using a while loop.  \n",
    "&nbsp;&nbsp;&nbsp;&nbsp;$1 +\\frac{y}{1!} + \\frac{y^2}{2!} + ... + \\frac{y^n}{n!}$\n",
    "\n",
    "Use the following guidelines when developing the program:\n",
    "\n",
    "* Create two variables `q20_y` and `q20_n` and assign the values 6 and 26 (Note that `q20_y` and `q20_n` represent `y` and `n` in the above-mentioned series).\n",
    "* The sum should be rounded down to the nearest integer value. \n",
    "* Create the variable `output20` and assign the solution to it."
   ]
  },
  {
   "cell_type": "code",
   "execution_count": 56,
   "metadata": {},
   "outputs": [],
   "source": [
    "# In Python, you may assign several variables with several values like this:\n",
    "import math\n",
    "q20_y, q20_n = 6, 26"
   ]
  },
  {
   "cell_type": "code",
   "execution_count": 57,
   "metadata": {
    "deletable": false,
    "nbgrader": {
     "cell_type": "code",
     "checksum": "6403809106edcbad9dd0d8bfd07d88c8",
     "grade": false,
     "grade_id": "question_20",
     "locked": false,
     "schema_version": 3,
     "solution": true,
     "task": false
    },
    "tags": []
   },
   "outputs": [
    {
     "name": "stdout",
     "output_type": "stream",
     "text": [
      "403\n"
     ]
    }
   ],
   "source": [
    "# Write your solution here\n",
    "output20 = 0\n",
    "i = 0\n",
    "\n",
    "while i <= q20_n:\n",
    "    output20 += (q20_y ** i) / math.factorial(i)\n",
    "    i += 1\n",
    "\n",
    "\n",
    "# YOUR CODE HERE\n",
    "output20 = int(output20)\n",
    "print(output20)"
   ]
  },
  {
   "cell_type": "code",
   "execution_count": null,
   "metadata": {
    "deletable": false,
    "editable": false,
    "nbgrader": {
     "cell_type": "code",
     "checksum": "bdc4878868f83a916b016a3bd0906110",
     "grade": true,
     "grade_id": "q20-1_calculate_sum",
     "locked": true,
     "points": 6,
     "schema_version": 3,
     "solution": false,
     "task": false
    },
    "tags": []
   },
   "outputs": [],
   "source": [
    "# Testing Cell (Do NOT modify this cell)"
   ]
  },
  {
   "cell_type": "markdown",
   "metadata": {},
   "source": [
    "#### Question 21 &nbsp;&nbsp;&nbsp;&nbsp;&nbsp;&nbsp;(6 Points)\n",
    "Write a Python program to check whether the digits of a number form a palindrome (or not) using a while loop.\n",
    "A palindrome is a sequence which reads the same backward as forward. Examples of numeric palindromes are:\n",
    "* 12344321\n",
    "* 2002\n",
    "* 19191\n",
    "\n",
    "Create the variable `q21_input` and assign `123454321` to it. If `q21_input` is a palindrome, assign the string `\"This is a palindrome\"` to `output21`. Otherwise, `output21` should be `\"This is not a palindrome\"`. Test your code for both palindromes and non palindromes. Ensure that `q21_input = 123454321` before submitting."
   ]
  },
  {
   "cell_type": "code",
   "execution_count": 58,
   "metadata": {},
   "outputs": [],
   "source": [
    "q21_input = 123454321"
   ]
  },
  {
   "cell_type": "code",
   "execution_count": 59,
   "metadata": {
    "deletable": false,
    "nbgrader": {
     "cell_type": "code",
     "checksum": "37762c7c032209d4d7be836de3a728a7",
     "grade": false,
     "grade_id": "question_21",
     "locked": false,
     "schema_version": 3,
     "solution": true,
     "task": false
    },
    "tags": []
   },
   "outputs": [
    {
     "name": "stdout",
     "output_type": "stream",
     "text": [
      "This is a palindrome\n"
     ]
    }
   ],
   "source": [
    "# Write your solution here\n",
    "original_number = q21_input\n",
    "reversed_number = 0\n",
    "\n",
    "while q21_input > 0:\n",
    "    digit = q21_input % 10\n",
    "    reversed_number = reversed_number * 10 + digit\n",
    "    q21_input //= 10\n",
    "\n",
    "if original_number == reversed_number:\n",
    "    output21 = \"This is a palindrome\"\n",
    "else:\n",
    "    output21 = \"This is not a palindrome\"\n",
    "# YOUR CODE HERE\n",
    "print(output21)"
   ]
  },
  {
   "cell_type": "code",
   "execution_count": null,
   "metadata": {
    "deletable": false,
    "editable": false,
    "nbgrader": {
     "cell_type": "code",
     "checksum": "3f9cd8d69aead3fed418426aaf93fb78",
     "grade": true,
     "grade_id": "q21-1_palindrome",
     "locked": true,
     "points": 6,
     "schema_version": 3,
     "solution": false,
     "task": false
    },
    "tags": []
   },
   "outputs": [],
   "source": [
    "# Testing Cell (Do NOT modify this cell)"
   ]
  },
  {
   "cell_type": "markdown",
   "metadata": {},
   "source": [
    "#### Question 22 &nbsp;&nbsp;&nbsp;&nbsp;&nbsp;&nbsp;(6 Points)\n",
    "Write a Python program that uses one or more `while` loops to calculate:\n",
    "* the sum of odd numbers as `output22_odd`, and\n",
    "* the sum of even numbers as `output22_even` \n",
    "in the interval between two given numbers `q22_start` and `q22_stop` (inclusive). \n",
    "\n",
    "Use the following guidelines to develop this program.\n",
    "* For this question, assign the values 21 and 9 to the two variables `q22_start` and `q22_stop`, respectively.\n",
    "* Use the two variables `output22_odd` and `output22_even` to assign the sum of odd numbers and the sum of even numbers, respectively.\n",
    "* You should handle both the cases `q22_start > q22_stop` and `q22_stop >= q22_start`.\n",
    "\n",
    "Once you have completed your solution, if you have used *two* while loops, consider how your approach might be optimised to use a single while loop and still handle the guidelines outlined above."
   ]
  },
  {
   "cell_type": "code",
   "execution_count": 60,
   "metadata": {
    "deletable": false,
    "nbgrader": {
     "cell_type": "code",
     "checksum": "bb48714d3e3abac1790cd883b396af94",
     "grade": false,
     "grade_id": "question_22",
     "locked": false,
     "schema_version": 3,
     "solution": true,
     "task": false
    },
    "tags": []
   },
   "outputs": [
    {
     "name": "stdout",
     "output_type": "stream",
     "text": [
      "105\n",
      "90\n"
     ]
    }
   ],
   "source": [
    "q22_start = 9\n",
    "q22_stop = 21\n",
    "\n",
    "# Write your solution here\n",
    "output22_odd = 0\n",
    "output22_even = 0\n",
    "\n",
    "if q22_start > q22_stop:\n",
    "    q22_start, q22_stop = q22_stop, q22_start\n",
    "\n",
    "current_number = q22_start\n",
    "\n",
    "while current_number <= q22_stop:\n",
    "    if current_number % 2 == 0:\n",
    "        output22_even += current_number\n",
    "    else:\n",
    "        output22_odd += current_number\n",
    "    current_number += 1\n",
    "\n",
    "\n",
    "# YOUR CODE HERE\n",
    "print(output22_odd)\n",
    "print(output22_even)"
   ]
  },
  {
   "cell_type": "code",
   "execution_count": null,
   "metadata": {
    "deletable": false,
    "editable": false,
    "nbgrader": {
     "cell_type": "code",
     "checksum": "26c73ac1ad4d03fdd967236b3ee2888c",
     "grade": true,
     "grade_id": "q22-1_calculate_sum",
     "locked": true,
     "points": 6,
     "schema_version": 3,
     "solution": false,
     "task": false
    },
    "tags": []
   },
   "outputs": [],
   "source": [
    "# Testing Cell (Do NOT modify this cell)"
   ]
  },
  {
   "cell_type": "markdown",
   "metadata": {},
   "source": [
    "#### Question 23 &nbsp;&nbsp;&nbsp;&nbsp;&nbsp;&nbsp;(10 Points)\n",
    "Write a Python program to display the following pattern using **two, nested** while loops:\n",
    "```\n",
    " ***\n",
    "*   *\n",
    "*   *\n",
    "*   *\n",
    "*   *\n",
    "*   *\n",
    " ***\n",
    "```\n",
    "Create the variable `output23` and use it inside the while loop to construct the string that you want to display at the end of the program. The pattern is 5 characters wide by 7 characters tall (not including newlines). \n",
    "\n",
    "You might consider a solution where two nested while loops control which horizontal line you are creating with an interior, nested loop that considers which vertical column you are addressing like:\n",
    "```python\n",
    "row = 0\n",
    "column = 0\n",
    "\n",
    "while row < 7:\n",
    "    while column < 5:\n",
    "        # do something to output23 for this (row, column)...\n",
    "        column += 1\n",
    "    # add a newline then...    \n",
    "    column = 0\n",
    "    row += 1\n",
    "```    "
   ]
  },
  {
   "cell_type": "code",
   "execution_count": 72,
   "metadata": {
    "deletable": false,
    "nbgrader": {
     "cell_type": "code",
     "checksum": "5d8433b85b119ec04b2eb6b4a0aedbec",
     "grade": false,
     "grade_id": "question_23",
     "locked": false,
     "schema_version": 3,
     "solution": true,
     "task": false
    },
    "tags": []
   },
   "outputs": [
    {
     "name": "stdout",
     "output_type": "stream",
     "text": [
      "  ***\n",
      "*   *\n",
      "*   *\n",
      "*   *\n",
      "*   *\n",
      "*   *\n",
      "  ***\n",
      "\n"
     ]
    }
   ],
   "source": [
    "# Write your solution here\n",
    "output23 = \"\"\n",
    "row = 0\n",
    "\n",
    "while row < 7:\n",
    "    column = 0\n",
    "    while column < 5:\n",
    "        if row == 0 or row == 6:\n",
    "            if column == 0:\n",
    "                output23 += \"  ***\"\n",
    "                break\n",
    "        elif column == 0 or column == 4:\n",
    "            output23 += \"*\"\n",
    "        else:\n",
    "            output23 += \" \"\n",
    "        column += 1\n",
    "    output23 += \"\\n\"\n",
    "    row += 1\n",
    "\n",
    "# YOUR CODE HERE\n",
    "print(output23)"
   ]
  },
  {
   "cell_type": "code",
   "execution_count": null,
   "metadata": {
    "deletable": false,
    "editable": false,
    "nbgrader": {
     "cell_type": "code",
     "checksum": "47f7a54523066fa058471208b0f47f51",
     "grade": true,
     "grade_id": "q23-1_box_pattern",
     "locked": true,
     "points": 10,
     "schema_version": 3,
     "solution": false,
     "task": false
    },
    "tags": []
   },
   "outputs": [],
   "source": [
    "# Testing Cell (Do NOT modify this cell)"
   ]
  },
  {
   "cell_type": "markdown",
   "metadata": {},
   "source": [
    "#### Question 24 &nbsp;&nbsp;&nbsp;&nbsp;&nbsp;&nbsp;(10 Points)\n",
    "We wish to construct a flexible \"hourglass\" pattern along the lines of previous questions. Examples of the patterns are:\n",
    "```\n",
    "* * * * *\n",
    " * * * * \n",
    "  * * * \n",
    "   * * \n",
    "    * \n",
    "    * \n",
    "   * * \n",
    "  * * * \n",
    " * * * * \n",
    "* * * * *\n",
    "```\n",
    "and:\n",
    "```\n",
    "#_#_#_#_#\n",
    " #_#_#_# \n",
    "  #_#_# \n",
    "   #_# \n",
    "    # \n",
    "    # \n",
    "   #_# \n",
    "  #_#_# \n",
    " #_#_#_# \n",
    "#_#_#_#_#\n",
    "```\n",
    "where the *fill* character is defined by a variable like `fill = \"*\"` or `fill = \"#\"` and the space between fills is defined by a variable `blank = \" \"` or any other character.\n",
    "\n",
    "Write a Python program to display the following pattern using one or more while loops. Create the variable `output24` and use it inside the while loop to construct the string that you want to display at the end of the program.\n"
   ]
  },
  {
   "cell_type": "code",
   "execution_count": 63,
   "metadata": {},
   "outputs": [],
   "source": [
    "fill = \"*\"\n",
    "blank = \" \""
   ]
  },
  {
   "cell_type": "code",
   "execution_count": 65,
   "metadata": {
    "deletable": false,
    "nbgrader": {
     "cell_type": "code",
     "checksum": "b5bbdea805326161a4b1841de62858ad",
     "grade": false,
     "grade_id": "question_24",
     "locked": false,
     "schema_version": 3,
     "solution": true,
     "task": false
    },
    "tags": []
   },
   "outputs": [
    {
     "name": "stdout",
     "output_type": "stream",
     "text": [
      "* * * * * * * \n",
      " * * * * * \n",
      "  * * * \n",
      "   * \n",
      "  * * * \n",
      " * * * * * \n",
      "* * * * * * * \n",
      "\n"
     ]
    }
   ],
   "source": [
    "# Write your solution here\n",
    "output24 = \"\"\n",
    "rows = 7\n",
    "\n",
    "row = 0\n",
    "while row < rows // 2 + 1:\n",
    "    output24 += blank * row + (fill + blank) * (rows - 2 * row) + \"\\n\"\n",
    "    row += 1\n",
    "\n",
    "row = rows // 2 - 1\n",
    "while row >= 0:\n",
    "    output24 += blank * row + (fill + blank) * (rows - 2 * row) + \"\\n\"\n",
    "    row -= 1\n",
    "\n",
    "# YOUR CODE HERE\n",
    "print(output24)"
   ]
  },
  {
   "cell_type": "code",
   "execution_count": null,
   "metadata": {
    "deletable": false,
    "editable": false,
    "nbgrader": {
     "cell_type": "code",
     "checksum": "bd268ecf7c78f243a9a3ec0da9f5da5b",
     "grade": true,
     "grade_id": "q24-1_display_pattern",
     "locked": true,
     "points": 10,
     "schema_version": 3,
     "solution": false,
     "task": false
    },
    "tags": []
   },
   "outputs": [],
   "source": [
    "# Testing Cell (Do NOT modify this cell)"
   ]
  }
 ],
 "metadata": {
  "kernelspec": {
   "display_name": "Python 3 (ipykernel)",
   "language": "python",
   "name": "python3"
  },
  "language_info": {
   "codemirror_mode": {
    "name": "ipython",
    "version": 3
   },
   "file_extension": ".py",
   "mimetype": "text/x-python",
   "name": "python",
   "nbconvert_exporter": "python",
   "pygments_lexer": "ipython3",
   "version": "3.12.3"
  },
  "varInspector": {
   "cols": {
    "lenName": 16,
    "lenType": 16,
    "lenVar": 40
   },
   "kernels_config": {
    "python": {
     "delete_cmd_postfix": "",
     "delete_cmd_prefix": "del ",
     "library": "var_list.py",
     "varRefreshCmd": "print(var_dic_list())"
    },
    "r": {
     "delete_cmd_postfix": ") ",
     "delete_cmd_prefix": "rm(",
     "library": "var_list.r",
     "varRefreshCmd": "cat(var_dic_list()) "
    }
   },
   "types_to_exclude": [
    "module",
    "function",
    "builtin_function_or_method",
    "instance",
    "_Feature"
   ],
   "window_display": false
  }
 },
 "nbformat": 4,
 "nbformat_minor": 4
}
