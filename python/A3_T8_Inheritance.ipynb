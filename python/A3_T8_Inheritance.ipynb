{
 "cells": [
  {
   "cell_type": "markdown",
   "metadata": {},
   "source": [
    "### Instructions:\n",
    "\n",
    "- You can attempt any number of questions and in any order.  \n",
    "  See the assignment page for a description of the hurdle requirement for this assessment.\n",
    "- You may submit your practical for autograding as many times as you like to check on progress, however you will save time by checking and testing your own code before submitting.\n",
    "- Develop and check your answers in the spaces provided.\n",
    "- **Replace** the code `raise NotImplementedError()` with your solution to the question.\n",
    "- Do **NOT** remove any variables other provided markings already provided in the answer spaces.\n",
    "- Do **NOT** make any changes to this notebook outside of the spaces indicated.  \n",
    "  (If you do this, the submission system might not accept your work)\n",
    "\n",
    "### Submitting:\n",
    "\n",
    "1. Before you turn this problem in, make sure everything runs as expected by resetting this notebook.    \n",
    "   (You can do this from the menubar above by selecting `Kernel`&#8594;`Restart Kernel and Run All Cells...`)\n",
    "1. Don't forget to save your notebook after this step.\n",
    "1. Submit your .ipynb file to Gradescope via file upload or GitHub repository.\n",
    "1. You can submit as many times as needed.\n",
    "1. You **must** give your submitted file the **identical** filename to that which you downloaded without changing **any** aspects - spaces, underscores, capitalisation etc. If your operating system has changed the filename because you downloaded the file twice or more you **must** also fix this.  \n",
    "\n"
   ]
  },
  {
   "cell_type": "markdown",
   "metadata": {},
   "source": [
    "# [Shubharthak Sangharasha](https://shubharthaksangharsha.github.io)\n",
    "# Student ID: `a1944839`"
   ]
  },
  {
   "cell_type": "markdown",
   "metadata": {},
   "source": [
    "---"
   ]
  },
  {
   "cell_type": "markdown",
   "metadata": {},
   "source": [
    "# <mark style=\"background: #917fa9; color: #ffffff;\" >&nbsp;A3&nbsp;</mark> Topic 8:  Inheritance, Composition & Aggregation"
   ]
  },
  {
   "cell_type": "markdown",
   "metadata": {},
   "source": [
    "#### Question 1&nbsp;&nbsp;&nbsp;&nbsp;&nbsp;&nbsp;(5 Points)\n",
    "\n",
    "1. Create a class `Speaker` with the following ***instance variables*** and methods.<br />\n",
    "\n",
    "**Attributes**:\n",
    "```\n",
    "public\n",
    "\n",
    "  jack (float)   # this is the audio jack type: e.g. 2.5 or 3.5 mm\n",
    "  tweeters (int) # the number of tweeters (high frequencey speakers)\n",
    "  woofers (int)  #  the number of woofers (low frequencey speakers)\n",
    "\n",
    "```\n",
    "**Methods**: <br />\n",
    "```\n",
    "public\n",
    "\n",
    "  __init__(self, jack, tweeters, woofers)\n",
    "  play_music(self) # returns the string \"Playing Music\"\n",
    "\n",
    "```\n",
    "Instantiate an object of the class as follows:\n",
    "```python\n",
    "q1_o1 = Speaker(2.5, 2, 2)\n",
    "```\n",
    "\n",
    "---\n",
    "<details>\n",
    "  <summary><span style=\"color:blue\">Is the __init__ method public?</span></summary>\n",
    "  Strictly speaking, the initializer method __init__() is not public but is called by the Python constructor for the class to initialize values in the instance after instantiation with __new__(). There is a good explanation of the sequence here <a href=\"https://realpython.com/python-class-constructor/\">Python Class Constuctors</a> (registration may be required to view).\n",
    "</details>"
   ]
  },
  {
   "cell_type": "code",
   "execution_count": 1,
   "metadata": {
    "deletable": false,
    "nbgrader": {
     "cell_type": "code",
     "checksum": "2a1162b78c84760286492ae1f15fd7d9",
     "grade": false,
     "grade_id": "A1a",
     "locked": false,
     "schema_version": 3,
     "solution": true,
     "task": false
    }
   },
   "outputs": [
    {
     "name": "stdout",
     "output_type": "stream",
     "text": [
      "Playing Music\n"
     ]
    }
   ],
   "source": [
    "# Write your solution here\n",
    "class Speaker:\n",
    "    def __init__(self, jack, tweeters, woofers):\n",
    "        self.jack = jack\n",
    "        self.tweeters = tweeters\n",
    "        self.woofers = woofers\n",
    "        \n",
    "    def play_music(self):\n",
    "        return \"Playing Music\"\n",
    "        \n",
    "q1_o1 = Speaker(2.5, 2, 2)\n",
    "# YOUR CODE HERE\n",
    "print(q1_o1.play_music())"
   ]
  },
  {
   "cell_type": "code",
   "execution_count": null,
   "metadata": {
    "deletable": false,
    "editable": false,
    "nbgrader": {
     "cell_type": "code",
     "checksum": "d0178105a31f5fa15fc7b3b6e98c7a03",
     "grade": true,
     "grade_id": "test_A1a-speaker",
     "locked": true,
     "points": 5,
     "schema_version": 3,
     "solution": false,
     "task": false
    }
   },
   "outputs": [],
   "source": [
    "# Testing Cell (DO NOT MODIFY THIS CELL)"
   ]
  },
  {
   "cell_type": "markdown",
   "metadata": {},
   "source": [
    "#### Question 1b&nbsp;&nbsp;&nbsp;&nbsp;&nbsp;&nbsp;(10 Points)\n",
    "\n",
    "Create another class `BluetoothSpeaker` which inherits from `Speaker` and has following additional instance variable and methods.<br />\n",
    "\n",
    "**Attributes**:\n",
    "```\n",
    "public\n",
    "\n",
    "  battery = (int) # % of battery remaining with default value `100`\n",
    "\n",
    "protected\n",
    "\n",
    "  connected_to (string) # name of a connected device type\n",
    "\n",
    "```\n",
    "**Methods**:\n",
    "```\n",
    "public \n",
    "\n",
    "  __init__(self, jack, tweeters, woofers, connected_to)\n",
    "  play_music (self)               # returns \"Playing music from <self._connected_to>\"\n",
    "  set_connected_to (self, device) # sets value of connected_to = device\n",
    "  get_connected_to (self)         # returns connected_to\n",
    "\n",
    "```\n",
    "\n",
    "Instantiate an object as follows:\n",
    "```python\n",
    "q1_o2 = BluetoothSpeaker (3.5, 2, 2, \"mobile\")\n",
    "\n",
    "```"
   ]
  },
  {
   "cell_type": "code",
   "execution_count": 2,
   "metadata": {
    "deletable": false,
    "nbgrader": {
     "cell_type": "code",
     "checksum": "255dac026768ea6a5475ecec06e2ba4c",
     "grade": false,
     "grade_id": "A1b",
     "locked": false,
     "schema_version": 3,
     "solution": true,
     "task": false
    }
   },
   "outputs": [
    {
     "name": "stdout",
     "output_type": "stream",
     "text": [
      "Playing music from mobile\n"
     ]
    }
   ],
   "source": [
    "# Write your solution here\n",
    "class BluetoothSpeaker(Speaker):\n",
    "    def __init__(self, jack, tweeters, woofers, connected_to):\n",
    "        super().__init__(jack, tweeters, woofers)\n",
    "        self._connected_to = connected_to\n",
    "        self.battery = 100\n",
    "        \n",
    "    def play_music(self):\n",
    "        return f\"Playing music from {self._connected_to}\"\n",
    "        \n",
    "    def set_connected_to(self, device):\n",
    "        self._connected_to = device\n",
    "        \n",
    "    def get_connected_to(self):\n",
    "        return self._connected_to\n",
    "\n",
    "q1_o2 = BluetoothSpeaker(3.5, 2, 2, \"mobile\")\n",
    "\n",
    "# YOUR CODE HERE\n",
    "print(q1_o2.play_music())"
   ]
  },
  {
   "cell_type": "code",
   "execution_count": null,
   "metadata": {
    "deletable": false,
    "editable": false,
    "nbgrader": {
     "cell_type": "code",
     "checksum": "0544099e723ffadd1d225cef2d523641",
     "grade": true,
     "grade_id": "test_A1b-bluetoothSpeaker",
     "locked": true,
     "points": 10,
     "schema_version": 3,
     "solution": false,
     "task": false
    }
   },
   "outputs": [],
   "source": [
    "# Testing Cell (DO NOT MODIFY THIS CELL)"
   ]
  },
  {
   "cell_type": "markdown",
   "metadata": {},
   "source": [
    "#### Question 2&nbsp;&nbsp;&nbsp;&nbsp;&nbsp;&nbsp;(10 Points)\n",
    "\n",
    "Create a new class `SmartSpeakerInherited` that inherits from `BluetoothSpeaker` and has an additional **instance variable** `skills`. \n",
    "\n",
    "**Attributes**:\n",
    "```\n",
    "public\n",
    "\n",
    "  skills # set by default to None \n",
    "```\n",
    "**Methods**:\n",
    "```\n",
    "public \n",
    "\n",
    "   __init__(self, jack, tweeters, woofers, connected, skills)\n",
    "```\n",
    "Inititalize an object `q2_o` of type `SmartSpeakerInherited` as follows:\n",
    "\n",
    "```python\n",
    "q2_ob = (SmartSpeakerInherited) SmartSpeakerInherited(3.5,2,2,\"mobile\",None)\n",
    "\n",
    "```"
   ]
  },
  {
   "cell_type": "code",
   "execution_count": 3,
   "metadata": {
    "deletable": false,
    "nbgrader": {
     "cell_type": "code",
     "checksum": "df9f898c558b312abb63cc8d26fd83e7",
     "grade": false,
     "grade_id": "A2",
     "locked": false,
     "schema_version": 3,
     "solution": true,
     "task": false
    }
   },
   "outputs": [
    {
     "name": "stdout",
     "output_type": "stream",
     "text": [
      "Playing music from mobile\n"
     ]
    }
   ],
   "source": [
    "# Write your solution here\n",
    "class SmartSpeakerInherited(BluetoothSpeaker):\n",
    "    def __init__(self, jack, tweeters, woofers, connected, skills):\n",
    "        super().__init__(jack, tweeters, woofers, connected)\n",
    "        self.skills = skills\n",
    "\n",
    "# YOUR CODE HERE\n",
    "q2_ob = SmartSpeakerInherited(3.5,2,2,\"mobile\",None)\n",
    "print(q2_ob.play_music())"
   ]
  },
  {
   "cell_type": "code",
   "execution_count": null,
   "metadata": {
    "deletable": false,
    "editable": false,
    "nbgrader": {
     "cell_type": "code",
     "checksum": "53b3114fd5200198131376810ca07448",
     "grade": true,
     "grade_id": "test_A2-SmartInherit",
     "locked": true,
     "points": 10,
     "schema_version": 3,
     "solution": false,
     "task": false
    }
   },
   "outputs": [],
   "source": [
    "# Testing Cell (DO NOT MODIFY THIS CELL)"
   ]
  },
  {
   "cell_type": "markdown",
   "metadata": {},
   "source": [
    "#### Question 3&nbsp;&nbsp;&nbsp;&nbsp;&nbsp;&nbsp;(10 Points)\n",
    "Create a new class `SmartSpeakerComposition` that composes two ***instance variables***:\n",
    "- an attribute `speaker` of the class `BluetoothSpeaker`, and\n",
    "- an attribute `skills` of type string. \n",
    "\n",
    "**Attributes**:\n",
    "```\n",
    "public\n",
    "\n",
    "    speaker = instance of BluetoothSpeaker(jack, tweeters, woofers, connected_to)\n",
    "    skills = None # initial value\n",
    "```\n",
    "**Methods**:\n",
    "```\n",
    "public \n",
    "\n",
    "    __init__(self, jack, tweeters, woofers, connected_to, skills)\n",
    "```\n",
    "Inititalize an object `q3_ob` of type `SmartSpeakerInherited` as follows -\n",
    "\n",
    "```python\n",
    "q3_ob = SmartSpeakerComposition(6.35, 4, 2, \"playstation\", None)\n",
    "\n",
    "```"
   ]
  },
  {
   "cell_type": "code",
   "execution_count": 4,
   "metadata": {
    "deletable": false,
    "nbgrader": {
     "cell_type": "code",
     "checksum": "d2f404b7adcf3e7148bf7976f69eaa00",
     "grade": false,
     "grade_id": "A3",
     "locked": false,
     "schema_version": 3,
     "solution": true,
     "task": false
    }
   },
   "outputs": [
    {
     "name": "stdout",
     "output_type": "stream",
     "text": [
      "Playing music from playstation\n"
     ]
    }
   ],
   "source": [
    "# Write your solution here\n",
    "class SmartSpeakerComposition:\n",
    "    def __init__(self, jack, tweeters, woofers, connected_to, skills):\n",
    "        self.speaker = BluetoothSpeaker(jack, tweeters, woofers, connected_to)\n",
    "        self.skills = skills\n",
    "\n",
    "q3_ob = SmartSpeakerComposition(6.35, 4, 2, \"playstation\", None)\n",
    "\n",
    "# YOUR CODE HERE\n",
    "print(q3_ob.speaker.play_music())"
   ]
  },
  {
   "cell_type": "code",
   "execution_count": null,
   "metadata": {
    "deletable": false,
    "editable": false,
    "nbgrader": {
     "cell_type": "code",
     "checksum": "291d4e5bd8846654f049ad53d4a7aba1",
     "grade": true,
     "grade_id": "test-A3_smartComposition",
     "locked": true,
     "points": 10,
     "schema_version": 3,
     "solution": false,
     "task": false
    }
   },
   "outputs": [],
   "source": [
    "# Testing Cell (DO NOT MODIFY THIS CELL)"
   ]
  },
  {
   "cell_type": "markdown",
   "metadata": {},
   "source": [
    "#### Question 4&nbsp;&nbsp;&nbsp;&nbsp;&nbsp;&nbsp;(10 Points)\n",
    "Create a new class `SmartSpeakerAggregation` that has two instance variables to form the aggregation of an object of class `Speaker` and an attribute `skills`. Both the speaker and skills can exist independent of the aggregation and are passed during construction of an instance of `SmartSpeakerAggregation`.\n",
    "\n",
    "**Attributes**:\n",
    "```\n",
    "public\n",
    "\n",
    "  speaker = instance of the Speaker class\n",
    "  skills = None \n",
    "\n",
    "```\n",
    "**Methods**:\n",
    "```python\n",
    "public \n",
    "\n",
    "  def __init__(self, speaker, skills)\n",
    "```  \n",
    "<br />\n",
    "Inititalize two objects `speaker` of type `Speaker` and `q4_ob` of type `SmartSpeakerAggregation` as follows:\n",
    "<br />\n",
    "\n",
    "```python\n",
    "speaker = Speaker (3.5, 6, 2)\n",
    "q4_ob = SmartSpeakerAggregation (speaker, None)\n",
    "\n",
    "```\n",
    "<br>\n",
    "\n",
    "Think about how you would access the `play_music()` method of `speaker` aggregated by the parent object."
   ]
  },
  {
   "cell_type": "code",
   "execution_count": 5,
   "metadata": {
    "deletable": false,
    "nbgrader": {
     "cell_type": "code",
     "checksum": "d82e740d0c6a82c04f5b73a2a8b57cd4",
     "grade": false,
     "grade_id": "A4",
     "locked": false,
     "schema_version": 3,
     "solution": true,
     "task": false
    }
   },
   "outputs": [
    {
     "name": "stdout",
     "output_type": "stream",
     "text": [
      "Playing Music\n"
     ]
    }
   ],
   "source": [
    "# Write your solution here\n",
    "class SmartSpeakerAggregation:\n",
    "    def __init__(self, speaker, skills):\n",
    "        self.speaker = speaker\n",
    "        self.skills = skills\n",
    "    \n",
    "speaker = Speaker(3.5, 6, 2)\n",
    "q4_ob = SmartSpeakerAggregation(speaker, None)\n",
    "# YOUR CODE HERE\n",
    "print(q4_ob.speaker.play_music())"
   ]
  },
  {
   "cell_type": "code",
   "execution_count": null,
   "metadata": {
    "deletable": false,
    "editable": false,
    "nbgrader": {
     "cell_type": "code",
     "checksum": "ef0d915ea8fdad9496a41816c80ace82",
     "grade": true,
     "grade_id": "test-A4_smartAggregation",
     "locked": true,
     "points": 10,
     "schema_version": 3,
     "solution": false,
     "task": false
    }
   },
   "outputs": [],
   "source": [
    "# Testing Cell (DO NOT MODIFY THIS CELL)"
   ]
  },
  {
   "cell_type": "markdown",
   "metadata": {},
   "source": [
    "#### Question 5&nbsp;&nbsp;&nbsp;&nbsp;&nbsp;&nbsp;(15 Points)\n",
    "Create a new class `Skills` that has one instance variable, `name`, and one method `voice_input(value)`.\n",
    "\n",
    "**Attributes**:\n",
    "```\n",
    "public\n",
    "\n",
    "  name = (string) \n",
    "```\n",
    "\n",
    "**Methods**: \n",
    "```\n",
    "public\n",
    "\n",
    "  __init__(self, name)\n",
    "  \n",
    "  voice_input(self, command) \n",
    "  # if command == self.name, prints out 'Hi, I am <self.name>. How can I help?'\n",
    "\n",
    "  __repr__(self)\n",
    "  # returns the string \"I am a Skill\"\n",
    "```\n",
    "\n",
    "Secondly, create a new class, `MusicSkill`, that inherits from `Skills` and has the following: <br>\n",
    "\n",
    "**Attributes**:\n",
    "```\n",
    "public\n",
    "\n",
    "  music = (string) # defaults to: \"\"\n",
    "  volume = (int)   # defaults to: 0\n",
    "  play = (boolean) # defaults to False\n",
    "```\n",
    "\n",
    "**Methods**: \n",
    "```\n",
    "public\n",
    "\n",
    "  what_is_playing(self)   # returns self.music\n",
    "  set_volume(self, value) # sets self.volume = value\n",
    "  toggle_play(self  )     # sets self.play = not self.play\n",
    "  __repr__(self)          # returns the string \"I am a Music Skill \" + self.name\n",
    "  \n",
    "```\n",
    "\n",
    "Inititalize an object `q5_ob` of type `MusicSkills` as follows:\n",
    "```python\n",
    "q5_ob = MusicSkill(\"Alexa\")\n",
    "```\n",
    "\n",
    "<details>\n",
    "  <summary><span style=\"color:blue\">What is the __repr__ method?</span></summary>\n",
    "    The <a href=\"https://docs.python.org/3/library/functions.html#repr\">__repr__()</a> method returns a string containing a printable representation of an object. A class can control what this function returns for its instances by defining a __repr__() method allowing an object when evaluated to return a \"human friendly\" and readable string.\n",
    "</details>"
   ]
  },
  {
   "cell_type": "code",
   "execution_count": 6,
   "metadata": {
    "deletable": false,
    "nbgrader": {
     "cell_type": "code",
     "checksum": "d3aabab2e6ed4dbe982becb28a849a8d",
     "grade": false,
     "grade_id": "A5",
     "locked": false,
     "schema_version": 3,
     "solution": true,
     "task": false
    }
   },
   "outputs": [
    {
     "name": "stdout",
     "output_type": "stream",
     "text": [
      "Hi, I am Alexa. How can I help?\n"
     ]
    }
   ],
   "source": [
    "# Write your solution here\n",
    "class Skills:\n",
    "    def __init__(self, name):\n",
    "        self.name = name\n",
    "    \n",
    "    def voice_input(self, command):\n",
    "        if command == self.name:\n",
    "            print(f'Hi, I am {self.name}. How can I help?')\n",
    "    \n",
    "    def __repr__(self):\n",
    "        return \"I am a Skill\"\n",
    "\n",
    "class MusicSkill(Skills):\n",
    "    def __init__(self, name):\n",
    "        super().__init__(name)\n",
    "        self.music = \"\"\n",
    "        self.volume = 0\n",
    "        self.play = False\n",
    "    \n",
    "    def what_is_playing(self):\n",
    "        return self.music\n",
    "    \n",
    "    def set_volume(self, value):\n",
    "        self.volume = value\n",
    "    \n",
    "    def toggle_play(self):\n",
    "        self.play = not self.play\n",
    "    \n",
    "    def __repr__(self):\n",
    "        return f\"I am a Music Skill {self.name}\"\n",
    "\n",
    "q5_ob = MusicSkill(\"Alexa\")\n",
    "\n",
    "# YOUR CODE HERE\n",
    "q5_ob.voice_input(\"Alexa\")"
   ]
  },
  {
   "cell_type": "code",
   "execution_count": null,
   "metadata": {
    "deletable": false,
    "editable": false,
    "nbgrader": {
     "cell_type": "code",
     "checksum": "00ea5bdd0fb30e195a5ff0e1ccdbcd4b",
     "grade": true,
     "grade_id": "test_A5-skillsRepr",
     "locked": true,
     "points": 15,
     "schema_version": 3,
     "solution": false,
     "task": false
    }
   },
   "outputs": [],
   "source": [
    "# Testing Cell (DO NOT MODIFY THIS CELL)"
   ]
  },
  {
   "cell_type": "markdown",
   "metadata": {},
   "source": [
    "#### Question 6&nbsp;&nbsp;&nbsp;&nbsp;&nbsp;&nbsp;(10 Points)\n",
    "Now that we have our speakers and skills ready, create a new class `AlexaDevice`  which inherits from `BluetoothSpeaker` and `MusicSkill`: \n",
    "\n",
    "The initializer method will have the signature:<br />\n",
    "**Methods**:\n",
    "```\n",
    "public \n",
    "\n",
    "    __init__(self, jack, tweeters, woofers, connected_to, name)\n",
    "```\n",
    "and pass on these parameters during construction.\n",
    "\n",
    "Instantiate an object `q6_ob` of class `AlexaDevice` as follows: \n",
    "```\n",
    "q6_ob = AlexaDevice(3.5, 2, 2, \"mobile\", \"Kumars_Alexa\")\n",
    "```\n",
    "and run the following commands and observe the outputs:\n",
    "\n",
    "```python\n",
    "print(q6_ob.name)\n",
    "str(type(q6_ob))\n",
    "print(q6_ob.what_is_playing())\n",
    "q6_ob.set_volume(5)\n",
    "q6_ob.volume\n",
    "q6_ob.toggle_play() \n",
    "print(q6_ob.play)\n",
    "```"
   ]
  },
  {
   "cell_type": "code",
   "execution_count": 18,
   "metadata": {
    "deletable": false,
    "nbgrader": {
     "cell_type": "code",
     "checksum": "29f3b447662101cecbee510ae16a0061",
     "grade": false,
     "grade_id": "A6",
     "locked": false,
     "schema_version": 3,
     "solution": true,
     "task": false
    }
   },
   "outputs": [
    {
     "name": "stdout",
     "output_type": "stream",
     "text": [
      "Kumars_Alexa\n",
      "<class '__main__.AlexaDevice'>\n",
      "Volume: 5\n"
     ]
    }
   ],
   "source": [
    "# Write your solution here\n",
    "class AlexaDevice(BluetoothSpeaker, MusicSkill):\n",
    "    def __init__(self, jack, tweeters, woofers, connected_to, name):\n",
    "        BluetoothSpeaker.__init__(self, jack, tweeters, woofers, connected_to)\n",
    "        MusicSkill.__init__(self, name)\n",
    "\n",
    "q6_ob = AlexaDevice(3.5, 2, 2, \"mobile\", \"Kumars_Alexa\")\n",
    "\n",
    "\n",
    "print(q6_ob.name)\n",
    "print(str(type(q6_ob)))\n",
    "q6_ob.set_volume(5)\n",
    "print('Volume:', q6_ob.volume)"
   ]
  },
  {
   "cell_type": "code",
   "execution_count": null,
   "metadata": {
    "deletable": false,
    "editable": false,
    "nbgrader": {
     "cell_type": "code",
     "checksum": "11d0c6ee4f5178d0e7be988bc214a1bc",
     "grade": true,
     "grade_id": "test-A6_alexaDevice",
     "locked": true,
     "points": 10,
     "schema_version": 3,
     "solution": false,
     "task": false
    }
   },
   "outputs": [],
   "source": [
    "# Testing Cell (DO NOT MODIFY THIS CELL)"
   ]
  },
  {
   "cell_type": "markdown",
   "metadata": {},
   "source": [
    "#### Question 7&nbsp;&nbsp;&nbsp;&nbsp;&nbsp;&nbsp;(10 Points) \n",
    "Create a class `Vertex` that represents the location of a point on a two dimensional Cartesian plane. The class should have the following attributes and methods:\n",
    "\n",
    "**Attributes**:\n",
    "```\n",
    "protected\n",
    "\n",
    "  x, y : coordinates of the vertex on the plane such as 0, 1.2.\n",
    "```\n",
    "\n",
    "**Methods**: \n",
    "```\n",
    "public\n",
    "\n",
    "  __init__(self, x, y)    # initialize the object\n",
    "\n",
    "  get(self)               # return the tuple x, y\n",
    "  \n",
    "  set(self, x, y)         # set coords\n",
    "  \n",
    "  def __eq__(self, other) # test equality between vertices (same x and y)\n",
    "  \n",
    "  def __repr__(self)      # returns a string representation like \"(x, y)\" eg: \"(0, 1.2)\"\n",
    "```"
   ]
  },
  {
   "cell_type": "code",
   "execution_count": 17,
   "metadata": {
    "deletable": false,
    "nbgrader": {
     "cell_type": "code",
     "checksum": "6c982ae16fa4067368385fa2bb9fb2fe",
     "grade": false,
     "grade_id": "A7",
     "locked": false,
     "schema_version": 3,
     "solution": true,
     "task": false
    }
   },
   "outputs": [
    {
     "name": "stdout",
     "output_type": "stream",
     "text": [
      "(0, 1.2)\n",
      "(0, 1.2)\n",
      "(2, 3.4)\n",
      "False\n",
      "True\n"
     ]
    }
   ],
   "source": [
    "# Write your solution here\n",
    "class Vertex:\n",
    "    def __init__(self, x, y):\n",
    "        self._x = x\n",
    "        self._y = y\n",
    "    \n",
    "    def get(self):\n",
    "        return (self._x, self._y)\n",
    "    \n",
    "    def set(self, x, y):\n",
    "        self._x = x\n",
    "        self._y = y\n",
    "    \n",
    "    def __eq__(self, other):\n",
    "        if not isinstance(other, Vertex):\n",
    "            return False\n",
    "        return self._x == other._x and self._y == other._y\n",
    "    \n",
    "    def __repr__(self):\n",
    "        return f\"({self._x}, {self._y})\"\n",
    "\n",
    "v1 = Vertex(0, 1.2)\n",
    "v2 = Vertex(0, 1.2)\n",
    "v3 = Vertex(1, 2.3)\n",
    "\n",
    "print(v1)\n",
    "print(v1.get())\n",
    "v1.set(2, 3.4)\n",
    "print(v1)\n",
    "print(v1 == v2)  \n",
    "print(v2 == Vertex(0, 1.2)) "
   ]
  },
  {
   "cell_type": "code",
   "execution_count": null,
   "metadata": {
    "deletable": false,
    "editable": false,
    "nbgrader": {
     "cell_type": "code",
     "checksum": "981275d2ec7416290382f975c95273f2",
     "grade": true,
     "grade_id": "test-A7_Vertex",
     "locked": true,
     "points": 10,
     "schema_version": 3,
     "solution": false,
     "task": false
    }
   },
   "outputs": [],
   "source": [
    "# Testing Cell (DO NOT MODIFY THIS CELL)"
   ]
  },
  {
   "cell_type": "markdown",
   "metadata": {},
   "source": [
    "#### Question 8&nbsp;&nbsp;&nbsp;&nbsp;&nbsp;&nbsp;(10 Points) \n",
    "\n",
    "Let's look at an example of aggregation. Create a class `Shape` that is passed a list of vertices and stores these as a protected attribute. \n",
    "\n",
    "This new class is an example of aggregation because vertices can exist independent of the shape - it can be said that a Shape 'has some' Vertices. When an object of a class is initialized with objects of another class, it is a strong indication of an aggregate since a composition relationship would require the Shape to create its own vertices. \n",
    "\n",
    "Implement the class with the following features:\n",
    "\n",
    "**Attributes**:\n",
    "```\n",
    "protected\n",
    "\n",
    "  vertices : a protected list of Vertex objects that define the shape\n",
    "```\n",
    "\n",
    "**Methods**: \n",
    "```\n",
    "public\n",
    "\n",
    "  def __init__(self, vertices):    # initialise the Shape\n",
    "    \n",
    "  def get_vertices(self)           # return the list of vertices\n",
    "\n",
    "  def set_vertices(self, vertices) # set a new list of vertices\n",
    "\n",
    "  def __eq__(self, other) # returns True when the vertices of the shape are\n",
    "                          # identical - REGARDLESS OF ORDER.\n",
    "```\n",
    "---\n",
    "<details>\n",
    "  <summary><span style=\"color:blue\">How to ignore the order of verticies?</span></summary>\n",
    "  In determining equality, we wish to compare the vertices regardless of order. One useful way to do this is to transform the list of 'self' and 'other' vertices into Python sets and then compare. But to create a Vertex set from a list requires that you implement the dunder method __hash__(self) on the class Vertex. You can investigate this yourself or implement your own algorithm to assess equality of the vertices. :-)\n",
    "</details>"
   ]
  },
  {
   "cell_type": "code",
   "execution_count": 16,
   "metadata": {
    "deletable": false,
    "nbgrader": {
     "cell_type": "code",
     "checksum": "00effc46552ba19d164720dc6c7b25cb",
     "grade": false,
     "grade_id": "A8",
     "locked": false,
     "schema_version": 3,
     "solution": true,
     "task": false
    }
   },
   "outputs": [
    {
     "name": "stdout",
     "output_type": "stream",
     "text": [
      "All tests passed.\n"
     ]
    }
   ],
   "source": [
    "# Write your solution here\n",
    "class Shape:\n",
    "    def __init__(self, vertices):\n",
    "        self._vertices = vertices\n",
    "    \n",
    "    def get_vertices(self):\n",
    "        return self._vertices\n",
    "    \n",
    "    def set_vertices(self, vertices):\n",
    "        self._vertices = vertices\n",
    "    \n",
    "    def __eq__(self, other):\n",
    "        if not isinstance(other, Shape):\n",
    "            return False\n",
    "        if len(self._vertices) != len(other._vertices):\n",
    "            return False\n",
    "        self_coords = {v.get() for v in self._vertices}\n",
    "        other_coords = {v.get() for v in other._vertices}\n",
    "        return self_coords == other_coords\n",
    "\n",
    "v1 = Vertex(0, 0)\n",
    "v2 = Vertex(1, 0)\n",
    "v3 = Vertex(1, 1)\n",
    "v4 = Vertex(0, 1)\n",
    "\n",
    "shape1 = Shape([v1, v2, v3, v4])\n",
    "shape2 = Shape([v1, v2, v3, v4])\n",
    "assert shape1 == shape2\n",
    "\n",
    "print(\"All tests passed.\")\n",
    "\n"
   ]
  },
  {
   "cell_type": "code",
   "execution_count": null,
   "metadata": {
    "deletable": false,
    "editable": false,
    "nbgrader": {
     "cell_type": "code",
     "checksum": "07412ba1c48e51879cf6895446ecc7b0",
     "grade": true,
     "grade_id": "test-A8_Shape",
     "locked": true,
     "points": 10,
     "schema_version": 3,
     "solution": false,
     "task": false
    }
   },
   "outputs": [],
   "source": [
    "# Testing Cell (DO NOT MODIFY THIS CELL)\n"
   ]
  },
  {
   "cell_type": "markdown",
   "metadata": {},
   "source": [
    "#### Question 9&nbsp;&nbsp;&nbsp;&nbsp;&nbsp;&nbsp;(10 Points)\n",
    "\n",
    "Let's now examine an example of composition. Create a class `Square` that accepts an origin and the length of the side of the square and creates it's own protected list of vertices by calculating the corners of the square and storing each in a list as an instance of the class `Vertex`. \n",
    "\n",
    "Deciding between aggregation and composition is a slightly grey area in many cases. However, in this case, we can say that the corners are *part of* the `Square`, are created by the `Square` and are not part of any other shape since protected. Thus the square is composed of the corners. \n",
    "\n",
    "Create our `Square` as follows:\n",
    "\n",
    "**Attributes**:\n",
    "```\n",
    "protected\n",
    "\n",
    "  corners : a protected list of Vertex objects that define the shape\n",
    "```\n",
    "\n",
    "**Methods**: \n",
    "```\n",
    "public\n",
    "\n",
    "  __init__(self, origin, side_length) # a Vertex origin of the square and the\n",
    "                                      # length of the sides\n",
    "    \n",
    "  get_corners(self) # return the list of vertices defining the shape\n",
    "\n",
    "  __eq__(self, other) # returns True when the square has the same size and origin\n",
    "  \n",
    "  __repr__(self) # returns a comma separated list of the corners like:\n",
    "                 # '(1, 1), (1, 3), (3, 3), (3, 1)'\n",
    "```                  "
   ]
  },
  {
   "cell_type": "code",
   "execution_count": 19,
   "metadata": {
    "deletable": false,
    "nbgrader": {
     "cell_type": "code",
     "checksum": "b8c51bfc1d20e9070e56a9d0da9f8c52",
     "grade": false,
     "grade_id": "A9",
     "locked": false,
     "schema_version": 3,
     "solution": true,
     "task": false
    }
   },
   "outputs": [
    {
     "name": "stdout",
     "output_type": "stream",
     "text": [
      "Corners of the square: [(1, 1), (1, 3), (3, 3), (3, 1)]\n",
      "Square representation: (1, 1), (1, 3), (3, 3), (3, 1)\n"
     ]
    }
   ],
   "source": [
    "# Write your solution here\n",
    "class Square:\n",
    "    def __init__(self, origin, side_length):\n",
    "        self._corners = []\n",
    "        x, y = origin.get()\n",
    "        \n",
    "        # Create vertices for all corners\n",
    "        self._corners.append(origin)  # Bottom-left\n",
    "        self._corners.append(Vertex(x, y + side_length))  # Top-left\n",
    "        self._corners.append(Vertex(x + side_length, y + side_length))  # Top-right\n",
    "        self._corners.append(Vertex(x + side_length, y))  # Bottom-right\n",
    "    \n",
    "    def get_corners(self):\n",
    "        return self._corners\n",
    "    \n",
    "    def __eq__(self, other):\n",
    "        if not isinstance(other, Square):\n",
    "            return False\n",
    "        return self._corners == other._corners\n",
    "    \n",
    "    def __repr__(self):\n",
    "        return ', '.join(str(corner) for corner in self._corners)\n",
    "\n",
    "# YOUR CODE HERE\n",
    "origin = Vertex(1, 1)\n",
    "side_length = 2\n",
    "square = Square(origin, side_length)\n",
    "print(\"Corners of the square:\", square.get_corners())\n",
    "print(\"Square representation:\", repr(square))\n",
    "\n"
   ]
  },
  {
   "cell_type": "code",
   "execution_count": null,
   "metadata": {
    "deletable": false,
    "editable": false,
    "nbgrader": {
     "cell_type": "code",
     "checksum": "0ebdadc3c11da01575d866a6cef406f0",
     "grade": true,
     "grade_id": "test-A9_Square",
     "locked": true,
     "points": 10,
     "schema_version": 3,
     "solution": false,
     "task": false
    }
   },
   "outputs": [],
   "source": [
    "# Testing Cell (DO NOT MODIFY THIS CELL)\n"
   ]
  }
 ],
 "metadata": {
  "hide_input": false,
  "kernelspec": {
   "display_name": "Python 3 (ipykernel)",
   "language": "python",
   "name": "python3"
  },
  "language_info": {
   "codemirror_mode": {
    "name": "ipython",
    "version": 3
   },
   "file_extension": ".py",
   "mimetype": "text/x-python",
   "name": "python",
   "nbconvert_exporter": "python",
   "pygments_lexer": "ipython3",
   "version": "3.12.2"
  },
  "nbTranslate": {
   "displayLangs": [
    "*"
   ],
   "hotkey": "alt-t",
   "langInMainMenu": true,
   "sourceLang": "en",
   "targetLang": "fr",
   "useGoogleTranslate": true
  },
  "toc": {
   "base_numbering": 1,
   "nav_menu": {},
   "number_sections": true,
   "sideBar": true,
   "skip_h1_title": false,
   "title_cell": "Table of Contents",
   "title_sidebar": "Contents",
   "toc_cell": false,
   "toc_position": {},
   "toc_section_display": true,
   "toc_window_display": false
  },
  "varInspector": {
   "cols": {
    "lenName": 16,
    "lenType": 16,
    "lenVar": 40
   },
   "kernels_config": {
    "python": {
     "delete_cmd_postfix": "",
     "delete_cmd_prefix": "del ",
     "library": "var_list.py",
     "varRefreshCmd": "print(var_dic_list())"
    },
    "r": {
     "delete_cmd_postfix": ") ",
     "delete_cmd_prefix": "rm(",
     "library": "var_list.r",
     "varRefreshCmd": "cat(var_dic_list()) "
    }
   },
   "types_to_exclude": [
    "module",
    "function",
    "builtin_function_or_method",
    "instance",
    "_Feature"
   ],
   "window_display": false
  }
 },
 "nbformat": 4,
 "nbformat_minor": 4
}
