{
 "cells": [
  {
   "cell_type": "markdown",
   "metadata": {},
   "source": [
    "### Instructions:\n",
    "\n",
    "- You can attempt any number of questions and in any order.  \n",
    "  See the assignment page for a description of the hurdle requirement for this assessment.\n",
    "- You may submit your practical for autograding as many times as you like to check on progress, however you will save time by checking and testing your own code before submitting.\n",
    "- Develop and check your answers in the spaces provided.\n",
    "- **Replace** the code `raise NotImplementedError()` with your solution to the question.\n",
    "- Do **NOT** remove any variables other provided markings already provided in the answer spaces.\n",
    "- Do **NOT** make any changes to this notebook outside of the spaces indicated.  \n",
    "  (If you do this, the submission system might not accept your work)\n",
    "\n",
    "### Submitting:\n",
    "\n",
    "1. Before you turn this problem in, make sure everything runs as expected by resetting this notebook.    \n",
    "   (You can do this from the menubar above by selecting `Kernel`&#8594;`Restart Kernel and Run All Cells...`)\n",
    "1. Don't forget to save your notebook after this step.\n",
    "1. Submit your .ipynb file to Gradescope via file upload or GitHub repository.\n",
    "1. You can submit as many times as needed.\n",
    "1. You **must** give your submitted file the **identical** filename to that which you downloaded without changing **any** aspects - spaces, underscores, capitalisation etc. If your operating system has changed the filename because you downloaded the file twice or more you **must** also fix this.  \n",
    "\n"
   ]
  },
  {
   "cell_type": "markdown",
   "metadata": {},
   "source": [
    "---"
   ]
  },
  {
   "cell_type": "markdown",
   "metadata": {},
   "source": [
    "# <mark style=\"background: #917fa9; color: #ffffff;\" >&nbsp;A3&nbsp;</mark> Topic 9: Consolidation & Review"
   ]
  },
  {
   "cell_type": "markdown",
   "metadata": {},
   "source": [
    "#### Question 1&nbsp;&nbsp;&nbsp;&nbsp;&nbsp;&nbsp;(10 Points)\n",
    "Study the 2 classes: `Member` and `PremiumMember`. We wish to transform these classes so that:\n",
    "- `PremiumMember` inherits from the class `Member`,\n",
    "- accessors (getters) and mutators (setters) are added for each attribute of both classes (inheriting from the base class where possible), and\n",
    "- private attributes of class `Member` are converted to protected attributes to support inheritance (while `premium_ref_id` of class `PremiumMember` is private).\n",
    "\n",
    "Make the necessary changes to both classes. \n",
    "\n",
    "```python\n",
    "class Member:\n",
    "    def __init__(self, fname, lname, memberid):\n",
    "        self.__fname=fname\n",
    "        self.__lname=lname\n",
    "        self.__memberid=memberid\n",
    "    \n",
    "class PremiumMember:\n",
    "    def __init__(self, fname, lname, memberid, premium_ref_id):\n",
    "        self.__fname=fname\n",
    "        self.__lname=lname\n",
    "        self.__memberid=memberid\n",
    "        self.__premium_ref_id=premium_ref_id\n",
    "```"
   ]
  },
  {
   "cell_type": "code",
   "execution_count": 2,
   "metadata": {
    "ExecuteTime": {
     "end_time": "2022-03-28T08:13:13.775211Z",
     "start_time": "2022-03-28T08:13:13.754711Z"
    },
    "deletable": false,
    "nbgrader": {
     "cell_type": "code",
     "checksum": "811891f82086cfdb69f74626b817fbe1",
     "grade": false,
     "grade_id": "A1",
     "locked": false,
     "schema_version": 3,
     "solution": true,
     "task": false
    }
   },
   "outputs": [
    {
     "name": "stdout",
     "output_type": "stream",
     "text": [
      "Member name: John Doe\n",
      "Premium member ID: 456\n",
      "Premium ref ID: P789\n"
     ]
    }
   ],
   "source": [
    "class Member:\n",
    "    def __init__(self, fname, lname, memberid):\n",
    "        self._fname = fname\n",
    "        self._lname = lname\n",
    "        self._memberid = memberid\n",
    "        \n",
    "    def get_fname(self):\n",
    "        return self._fname\n",
    "    \n",
    "    def get_lname(self):\n",
    "        return self._lname\n",
    "    \n",
    "    def get_memberid(self):\n",
    "        return self._memberid\n",
    "    \n",
    "    def set_fname(self, fname):\n",
    "        self._fname = fname\n",
    "        \n",
    "    def set_lname(self, lname):\n",
    "        self._lname = lname\n",
    "        \n",
    "    def set_memberid(self, memberid):\n",
    "        self._memberid = memberid\n",
    "\n",
    "class PremiumMember(Member):\n",
    "    def __init__(self, fname, lname, memberid, premium_ref_id):\n",
    "        super().__init__(fname, lname, memberid)\n",
    "        self.__premium_ref_id = premium_ref_id\n",
    "        \n",
    "    def get_premium_ref_id(self):\n",
    "        return self.__premium_ref_id\n",
    "    \n",
    "    def set_premium_ref_id(self, premium_ref_id):\n",
    "        self.__premium_ref_id = premium_ref_id\n",
    "# YOUR CODE HERE\n",
    "member = Member(\"John\", \"Doe\", \"123\")\n",
    "premium = PremiumMember(\"Jane\", \"Smith\", \"456\", \"P789\")\n",
    "print(f\"Member name: {member.get_fname()} {member.get_lname()}\")\n",
    "print(f\"Premium member ID: {premium.get_memberid()}\")\n",
    "print(f\"Premium ref ID: {premium.get_premium_ref_id()}\")"
   ]
  },
  {
   "cell_type": "code",
   "execution_count": null,
   "metadata": {
    "ExecuteTime": {
     "end_time": "2022-03-28T08:18:53.367624Z",
     "start_time": "2022-03-28T08:18:53.356749Z"
    },
    "deletable": false,
    "editable": false,
    "nbgrader": {
     "cell_type": "code",
     "checksum": "75a2643287baf05503ce1fc91a12ba88",
     "grade": true,
     "grade_id": "test-A1_Member",
     "locked": true,
     "points": 10,
     "schema_version": 3,
     "solution": false,
     "task": false
    }
   },
   "outputs": [],
   "source": [
    "# Testing Cell (DO NOT MODIFY THIS CELL)"
   ]
  },
  {
   "cell_type": "markdown",
   "metadata": {},
   "source": [
    "#### Question 2&nbsp;&nbsp;&nbsp;&nbsp;&nbsp;&nbsp;(10 Points)\n",
    "\n",
    "The class `TwoDShape` is given to you below. The methods `calculate_area` and `calculate_perimeter` calculate these values and store them as attributes of the shape made available by accessors `get_area` and `get_perimeter`.\n",
    "\n",
    "```python \n",
    "class TwoDShape:\n",
    "    def __init__(self, name = __name__):\n",
    "        # name is the name of the shape - eg: 'Rectangle'\n",
    "        self.name = name\n",
    "        self._area = 0\n",
    "        self._perimeter = 0\n",
    "    \n",
    "    def get_area (self):\n",
    "        return self._area\n",
    "\n",
    "    def get_perimeter (self):\n",
    "        return self._perimeter\n",
    "    \n",
    "    def calculate_area (self):\n",
    "        '''\n",
    "        Calculates the area and updates self._area. \n",
    "        No return value.\n",
    "        '''\n",
    "        pass\n",
    "    \n",
    "    def calculate_perimeter (self):\n",
    "        '''\n",
    "        Calculates the perimeter and updates self._perimeter. \n",
    "        No return value.\n",
    "        '''\n",
    "\n",
    "        pass\n",
    "```\n",
    "Create two subclasses `Circle` and `Square` which inherit from `TwoDShape`. \n",
    "`Circle` must have the property `radius` and `Square` must have the property `side`.\n",
    "\n",
    "Override the 2 methods `calculate_area` and `calculate_perimeter` with the correct formula for each of the 2 shapes and set `self._area` and `self._perimeter` inside these two functions to make these values available from `get_area` and `get_perimeter`. "
   ]
  },
  {
   "cell_type": "code",
   "execution_count": 3,
   "metadata": {
    "ExecuteTime": {
     "end_time": "2022-03-28T23:24:01.886602Z",
     "start_time": "2022-03-28T23:24:01.865661Z"
    },
    "deletable": false,
    "nbgrader": {
     "cell_type": "code",
     "checksum": "93a47e65b28387e5dee323bd2242211d",
     "grade": false,
     "grade_id": "A2",
     "locked": false,
     "schema_version": 3,
     "solution": true,
     "task": false
    }
   },
   "outputs": [
    {
     "name": "stdout",
     "output_type": "stream",
     "text": [
      "Circle area: 78.54\n",
      "Circle perimeter: 31.42\n",
      "Square area: 16\n",
      "Square perimeter: 16\n"
     ]
    }
   ],
   "source": [
    "from math import pi \n",
    "\n",
    "class TwoDShape:\n",
    "    def __init__(self, name = __name__):\n",
    "        self.name = name\n",
    "        self._area = 0\n",
    "        self._perimeter = 0\n",
    "\n",
    "    def get_area(self):\n",
    "        return self._area\n",
    "\n",
    "    def get_perimeter(self):\n",
    "        return self._perimeter\n",
    "\n",
    "    def calculate_area(self):\n",
    "        pass\n",
    "\n",
    "    def calculate_perimeter(self):\n",
    "        pass\n",
    "\n",
    "\n",
    "class Circle(TwoDShape):\n",
    "    def __init__(self, radius):\n",
    "        super().__init__('Circle')\n",
    "        self.radius = radius\n",
    "        \n",
    "    def calculate_area(self):\n",
    "        self._area = pi * self.radius ** 2\n",
    "        \n",
    "    def calculate_perimeter(self):\n",
    "        self._perimeter = 2 * pi * self.radius\n",
    "\n",
    "class Square(TwoDShape):\n",
    "    def __init__(self, side):\n",
    "        super().__init__('Square')\n",
    "        self.side = side\n",
    "        \n",
    "    def calculate_area(self):\n",
    "        self._area = self.side ** 2\n",
    "        \n",
    "    def calculate_perimeter(self):\n",
    "        self._perimeter = 4 * self.side\n",
    "\n",
    "\n",
    "# YOUR CODE HERE\n",
    "circle = Circle(5)\n",
    "square = Square(4)\n",
    "\n",
    "circle.calculate_area()\n",
    "circle.calculate_perimeter()\n",
    "print(f\"Circle area: {circle.get_area():.2f}\")\n",
    "print(f\"Circle perimeter: {circle.get_perimeter():.2f}\")\n",
    "\n",
    "square.calculate_area()\n",
    "square.calculate_perimeter()\n",
    "print(f\"Square area: {square.get_area()}\")\n",
    "print(f\"Square perimeter: {square.get_perimeter()}\")"
   ]
  },
  {
   "cell_type": "code",
   "execution_count": null,
   "metadata": {
    "ExecuteTime": {
     "end_time": "2022-03-28T23:06:47.614853Z",
     "start_time": "2022-03-28T23:06:47.601888Z"
    },
    "deletable": false,
    "editable": false,
    "nbgrader": {
     "cell_type": "code",
     "checksum": "3d8a972973a8598503358a5eeee4c803",
     "grade": true,
     "grade_id": "test-A2_2dShapes",
     "locked": true,
     "points": 10,
     "schema_version": 3,
     "solution": false,
     "task": false
    }
   },
   "outputs": [],
   "source": [
    "# Testing Cell (DO NOT MODIFY THIS CELL)"
   ]
  },
  {
   "attachments": {
    "161446f6-e5a4-464b-b3c3-3e5af8862fcc.png": {
     "image/png": "[encoded data removed]"
    }
   },
   "cell_type": "markdown",
   "metadata": {},
   "source": [
    "#### Question 3&nbsp;&nbsp;&nbsp;&nbsp;&nbsp;&nbsp;(10 Points)\n",
    "Let's consider a 3D shape: a rectangular pyramid:<br />\n",
    "![rectangular-pyramid.png](attachment:161446f6-e5a4-464b-b3c3-3e5af8862fcc.png)<br />\n",
    "Expand the `Pyramid` class provided below by using dunder (magic) methods to return the following statement when the object is represemted as a string (`__repr__`):\n",
    "```python\n",
    "\"The height of the pyramid is xx units and it's base has the width of xx units and length of xx units. The total volume is xx cubic units.\"\n",
    "```\n",
    "Add the functionality to compare Pyramid objects based on their volume by overriding the methods: `__eq__`, `__lt__` and `__ge__`.\n",
    "```python\n",
    "class Pyramid:\n",
    "    def __init__(self, height, base_length, base_width):\n",
    "        self.__height = height\n",
    "        self.__base_length = base_length\n",
    "        self.__base_width = base_width\n",
    "        self.__volume = height*base_length*base_width/3\n",
    "```\n",
    "Given a list of pyramids, you should be able to sort them based on volume. For example:\n",
    "```python\n",
    "pyramids = [Pyramid(2, 3, 3), Pyramid(3, 1, 4), Pyramid(5, 2, 3)]\n",
    "pyramids.sort()\n",
    "```"
   ]
  },
  {
   "cell_type": "code",
   "execution_count": 4,
   "metadata": {
    "ExecuteTime": {
     "end_time": "2022-03-28T23:25:21.296007Z",
     "start_time": "2022-03-28T23:25:21.281020Z"
    },
    "deletable": false,
    "nbgrader": {
     "cell_type": "code",
     "checksum": "13869869ab8e5e9f7ea1063b90c6ffe6",
     "grade": false,
     "grade_id": "A3",
     "locked": false,
     "schema_version": 3,
     "solution": true,
     "task": false
    }
   },
   "outputs": [
    {
     "name": "stdout",
     "output_type": "stream",
     "text": [
      "Before sorting:\n",
      "The height of the pyramid is 2 units and it's base has the width of 3 units and length of 3 units. The total volume is 6.0 cubic units.\n",
      "The height of the pyramid is 3 units and it's base has the width of 4 units and length of 1 units. The total volume is 4.0 cubic units.\n",
      "The height of the pyramid is 5 units and it's base has the width of 3 units and length of 2 units. The total volume is 10.0 cubic units.\n",
      "\n",
      "After sorting:\n",
      "The height of the pyramid is 3 units and it's base has the width of 4 units and length of 1 units. The total volume is 4.0 cubic units.\n",
      "The height of the pyramid is 2 units and it's base has the width of 3 units and length of 3 units. The total volume is 6.0 cubic units.\n",
      "The height of the pyramid is 5 units and it's base has the width of 3 units and length of 2 units. The total volume is 10.0 cubic units.\n"
     ]
    }
   ],
   "source": [
    "class Pyramid:\n",
    "    def __init__(self, height, base_length, base_width):\n",
    "        self.__height = height\n",
    "        self.__base_length = base_length\n",
    "        self.__base_width = base_width\n",
    "        self.__volume = height * base_length * base_width / 3\n",
    "        \n",
    "    def __repr__(self):\n",
    "        return f\"The height of the pyramid is {self.__height} units and it's base has the width of {self.__base_width} units and length of {self.__base_length} units. The total volume is {self.__volume} cubic units.\"\n",
    "    \n",
    "    def __eq__(self, other):\n",
    "        return self.__volume == other.__volume\n",
    "    \n",
    "    def __lt__(self, other):\n",
    "        return self.__volume < other.__volume\n",
    "    \n",
    "    def __ge__(self, other):\n",
    "        return self.__volume >= other.__volume\n",
    "    \n",
    "# YOUR CODE HERE\n",
    "pyramids = [Pyramid(2, 3, 3), Pyramid(3, 1, 4), Pyramid(5, 2, 3)]\n",
    "print(\"Before sorting:\")\n",
    "for p in pyramids:\n",
    "    print(p)\n",
    "    \n",
    "pyramids.sort()\n",
    "print(\"\\nAfter sorting:\")\n",
    "for p in pyramids:\n",
    "    print(p)"
   ]
  },
  {
   "cell_type": "code",
   "execution_count": null,
   "metadata": {
    "ExecuteTime": {
     "end_time": "2022-03-28T23:28:14.565766Z",
     "start_time": "2022-03-28T23:28:14.562767Z"
    },
    "deletable": false,
    "editable": false,
    "nbgrader": {
     "cell_type": "code",
     "checksum": "a670c59cbd858499d0f619cf58ff10ff",
     "grade": true,
     "grade_id": "test-A3_pyramid",
     "locked": true,
     "points": 10,
     "schema_version": 3,
     "solution": false,
     "task": false
    }
   },
   "outputs": [],
   "source": [
    "# Testing Cell (DO NOT MODIFY THIS CELL)"
   ]
  },
  {
   "cell_type": "markdown",
   "metadata": {},
   "source": [
    "#### Question 4&nbsp;&nbsp;&nbsp;&nbsp;&nbsp;&nbsp;(10 Points)\n",
    "Given a class `Building` with the following attributes:\n",
    "```python\n",
    "class Building:\n",
    "    def __init__(self, building_id, name, location):\n",
    "        self.__building_id = ...\n",
    "        self.__name = ...\n",
    "        self.__location = ...\n",
    "        \n",
    "    def get_building_id (self):    \n",
    "        ...\n",
    "```\n",
    "and a class `Manager`:\n",
    "```python\n",
    "class Manager:\n",
    "    def __init__(self, name, emp_id, contact_no):\n",
    "        self.__name = name\n",
    "        self.__emp_id = emp_id\n",
    "        self.__contact_no = contact_no\n",
    "```\n",
    "Create the relationship \"`Building` has a `Manager` (Aggregation)\" by adding:\n",
    "- a private attribute `manager`,\n",
    "- accessor `get_manager()`, and \n",
    "- mutator `set_manager()`.\n",
    "\n",
    "Create a subclass of `Building` called `ExpensiveBuiling` and a class `BuildingExpense` as follows:\n",
    "```python\n",
    "class ExpensiveBuilding(Building):\n",
    "    def __init__(self, building_id, name, location, amount, authorised_by):\n",
    "        ...\n",
    "\n",
    "    def get_building_expense(self):\n",
    "        ...\n",
    "        \n",
    "    def set_building_expense(self, building_expense):\n",
    "        ...\n",
    "        \n",
    "class BuildingExpense:\n",
    "    def __init__(self, building_id, amount, authorised_by):\n",
    "        self.__amount = ...\n",
    "        self.__authorised_by = ...\n",
    "        self.__building_id = ...\n",
    "        \n",
    "    def get_amount (self):\n",
    "        ...\n",
    "        \n",
    "    def get_authorised_by (self):\n",
    "        ...\n",
    "        \n",
    "    def get_building_id (self):\n",
    "        ...\n",
    "```\n",
    "and create the relationship \"`BuildingExpense` is part of `ExpensiveBuilding` (Composition)\". That is, `ExpensiveBuilding` creates the expense during instantiation using the parameters passed setting the `building_id` and other attributes. This is a composition because the expense does not exist in this case without the building. \n",
    "\n",
    "`BuildingExpense` should be a private attribute of `ExpensiveBuilding` and include a getter (`get_building_expense`) and a setter (`set_building_expense`)."
   ]
  },
  {
   "cell_type": "code",
   "execution_count": 5,
   "metadata": {
    "ExecuteTime": {
     "end_time": "2022-03-28T23:29:22.345970Z",
     "start_time": "2022-03-28T23:29:22.329287Z"
    },
    "deletable": false,
    "nbgrader": {
     "cell_type": "code",
     "checksum": "22934d10971827ba51c180a80750d70e",
     "grade": false,
     "grade_id": "A4",
     "locked": false,
     "schema_version": 3,
     "solution": true,
     "task": false
    }
   },
   "outputs": [
    {
     "name": "stdout",
     "output_type": "stream",
     "text": [
      "Building has manager: True\n",
      "Expense amount: $1,000,000\n"
     ]
    }
   ],
   "source": [
    "class Building:\n",
    "    def __init__(self, building_id, name, location):\n",
    "        self.__building_id = building_id\n",
    "        self.__name = name\n",
    "        self.__location = location\n",
    "        self.__manager = None\n",
    "        \n",
    "    def get_building_id(self):\n",
    "        return self.__building_id\n",
    "    \n",
    "    def get_manager(self):\n",
    "        return self.__manager\n",
    "    \n",
    "    def set_manager(self, manager):\n",
    "        self.__manager = manager\n",
    "\n",
    "class Manager:\n",
    "    def __init__(self, name, emp_id, contact_no):\n",
    "        self.__name = name\n",
    "        self.__emp_id = emp_id\n",
    "        self.__contact_no = contact_no\n",
    "\n",
    "class BuildingExpense:\n",
    "    def __init__(self, building_id, amount, authorised_by):\n",
    "        self.__amount = amount\n",
    "        self.__authorised_by = authorised_by\n",
    "        self.__building_id = building_id\n",
    "        \n",
    "    def get_amount(self):\n",
    "        return self.__amount\n",
    "        \n",
    "    def get_authorised_by(self):\n",
    "        return self.__authorised_by\n",
    "        \n",
    "    def get_building_id(self):\n",
    "        return self.__building_id\n",
    "\n",
    "class ExpensiveBuilding(Building):\n",
    "    def __init__(self, building_id, name, location, amount, authorised_by):\n",
    "        super().__init__(building_id, name, location)\n",
    "        self.__building_expense = BuildingExpense(building_id, amount, authorised_by)\n",
    "\n",
    "    def get_building_expense(self):\n",
    "        return self.__building_expense\n",
    "        \n",
    "    def set_building_expense(self, building_expense):\n",
    "        self.__building_expense = building_expense\n",
    "\n",
    "# YOUR CODE HERE\n",
    "manager = Manager(\"John Manager\", \"M123\", \"555-0123\")\n",
    "building = Building(\"B1\", \"Main Building\", \"Downtown\")\n",
    "building.set_manager(manager)\n",
    "print(f\"Building has manager: {building.get_manager() is not None}\")\n",
    "\n",
    "exp_building = ExpensiveBuilding(\"B2\", \"Luxury Tower\", \"Uptown\", 1000000, \"CFO\")\n",
    "print(f\"Expense amount: ${exp_building.get_building_expense().get_amount():,}\")\n"
   ]
  },
  {
   "cell_type": "code",
   "execution_count": null,
   "metadata": {
    "ExecuteTime": {
     "end_time": "2022-03-28T23:34:33.922015Z",
     "start_time": "2022-03-28T23:34:33.904139Z"
    },
    "deletable": false,
    "editable": false,
    "nbgrader": {
     "cell_type": "code",
     "checksum": "5841b72ea4f2008d3a3f800769250cb3",
     "grade": true,
     "grade_id": "test-A4_manager",
     "locked": true,
     "points": 10,
     "schema_version": 3,
     "solution": false,
     "task": false
    }
   },
   "outputs": [],
   "source": [
    "# Testing Cell (DO NOT MODIFY THIS CELL)"
   ]
  },
  {
   "cell_type": "markdown",
   "metadata": {},
   "source": [
    "#### Question 5&nbsp;&nbsp;&nbsp;&nbsp;&nbsp;&nbsp;(10 Points)\n",
    "Consider the following class definition:\n",
    "```python\n",
    "class Player:\n",
    "    def __init__(self, name, id, location):\n",
    "        self.name = name\n",
    "        self.id = id\n",
    "        self.location = location\n",
    "        self.max_lives = 5\n",
    "``` \n",
    "Modify this class to meet the following requirements using Python properties and the `@property` decorator:\n",
    "- `name` and `id` can be accessed after creation but not mutated (ie: get but not set),\n",
    "- `location` can be updated but, when set, it must be checked to be of type string,\n",
    "- `max_lives` refers to number of retries that players have before game over and is fixed for all players as a class constant `Player.__max_lives`."
   ]
  },
  {
   "cell_type": "code",
   "execution_count": 11,
   "metadata": {
    "ExecuteTime": {
     "end_time": "2022-03-28T23:39:29.623205Z",
     "start_time": "2022-03-28T23:39:29.616253Z"
    },
    "deletable": false,
    "nbgrader": {
     "cell_type": "code",
     "checksum": "73bb457f596a05c9b5ee64d910178c5a",
     "grade": false,
     "grade_id": "A5",
     "locked": false,
     "schema_version": 3,
     "solution": true,
     "task": false
    }
   },
   "outputs": [
    {
     "name": "stdout",
     "output_type": "stream",
     "text": [
      "Player name: Mario\n",
      "Player location: World 1-1\n",
      "New location: World 1-2\n",
      "Error caught: Location must be a string\n"
     ]
    }
   ],
   "source": [
    "class Player:\n",
    "    max_lives = 5\n",
    "    \n",
    "    def __init__(self, name, id, location):\n",
    "        self.__name = name\n",
    "        self.__id = id\n",
    "        self.__location = location\n",
    "        \n",
    "    @property\n",
    "    def name(self):\n",
    "        return self.__name\n",
    "    \n",
    "    @property\n",
    "    def id(self):\n",
    "        return self.__id\n",
    "    \n",
    "    @property\n",
    "    def location(self):\n",
    "        return self.__location\n",
    "    \n",
    "    @location.setter\n",
    "    def location(self, value):\n",
    "        if not isinstance(value, str):\n",
    "            raise TypeError(\"Location must be a string\")\n",
    "        self.__location = value\n",
    "# YOUR CODE HERE\n",
    "player = Player(\"Mario\", \"P1\", \"World 1-1\")\n",
    "print(f\"Player name: {player.name}\")\n",
    "print(f\"Player location: {player.location}\")\n",
    "player.location = \"World 1-2\"\n",
    "print(f\"New location: {player.location}\")\n",
    "try:\n",
    "    player.location = 123  \n",
    "except TypeError as e:\n",
    "    print(f\"Error caught: {e}\")"
   ]
  },
  {
   "cell_type": "code",
   "execution_count": null,
   "metadata": {
    "ExecuteTime": {
     "end_time": "2022-03-28T23:45:31.475364Z",
     "start_time": "2022-03-28T23:45:31.464395Z"
    },
    "deletable": false,
    "editable": false,
    "nbgrader": {
     "cell_type": "code",
     "checksum": "1b7d257899c605b47ac48f0e1c0e5339",
     "grade": true,
     "grade_id": "test-A5_player",
     "locked": true,
     "points": 10,
     "schema_version": 3,
     "solution": false,
     "task": false
    }
   },
   "outputs": [],
   "source": [
    "# Testing Cell (DO NOT MODIFY THIS CELL)"
   ]
  },
  {
   "cell_type": "markdown",
   "metadata": {},
   "source": [
    "#### Question 6&nbsp;&nbsp;&nbsp;&nbsp;&nbsp;&nbsp;(15 Points)\n",
    "\n",
    "Consider two classes `Fruit` and `FruitBasket`:\n",
    "```python\n",
    "class Fruit:\n",
    "    \n",
    "    def __init__(self, name, weight, price):\n",
    "        ...\n",
    "        \n",
    "    @property\n",
    "    def name(self):\n",
    "        ...\n",
    "\n",
    "    @property\n",
    "    def weight(self):\n",
    "        ''' Gets the weight in grams. '''\n",
    "        ...\n",
    "    \n",
    "    @property\n",
    "    def price(self):\n",
    "        ''' Gets the price in dollars as a float rounded to two decimal places.'''\n",
    "        ...\n",
    "    \n",
    "    @price.setter    \n",
    "    def price(self, price):\n",
    "        ''' Price per piece of Fruit in float dollars. Each piece of fruit\n",
    "        must cost less than $20. '''\n",
    "        ...\n",
    "\n",
    "class FruitBasket:\n",
    "    ''' \n",
    "    A FruitBasket contains 0, 1 or many pieces of fruit. Fruit are \n",
    "    added to the basket using the add method. For example:\n",
    "    \n",
    "        basket.add(Fruit('apple', 120.0, 1.20), 2)\n",
    "        basket.add(Fruit('pear', 130.0, 1.50), 1)\n",
    "    \n",
    "    would add 2 apples each weighing 120 grams and costing $1.20 and\n",
    "    a pear weighing 130 greams and costing $1.50.\n",
    "    '''\n",
    "    \n",
    "    def __init__(self):\n",
    "        ...\n",
    "        \n",
    "    @property    \n",
    "    def weight(self):\n",
    "        ''' Weight in grams. '''\n",
    "        ...\n",
    "    \n",
    "    @property\n",
    "    def cost(self):\n",
    "        ''' Gets the price in dollars as a float rounded to two decimal places. '''\n",
    "        ...\n",
    "        \n",
    "    def add(self, fruit, pieces):\n",
    "        ''' \n",
    "        Adds a piece of fruit to the basket. Note that half pieces are\n",
    "        accepted! E.g.: pieces = 0.5 is acceptable. \n",
    "        '''\n",
    "        ...\n",
    "```\n",
    "Identify the relationship between the two classes and populate the variable `relation_fruit_basket` with one of the following values:\n",
    "- `'Inheritance'`,\n",
    "- `'Composition'`, or\n",
    "- `'Aggregation'`.\n",
    "\n",
    "Add the following docstring to the `__init__` method of the `Fruit` class:\n",
    "```python\n",
    "    '''Weight in grams. Price in (float) dollars.''' \n",
    "```\n",
    "Complete the methods of the two classes listed above noting the following:\n",
    "- Price for `Fruit` must be a positive number less than $20 (i.e.: 20.00).\n",
    "- The weight of a `FruitBasket` is the sum of all fruit added to the basket in grams.\n",
    "- The cost of a `FruitBasket` is the sum of the costs of all fruit added returned as a number of float dollars rounded to two decimal places.\n",
    "- Half a piece of fruit may be added!"
   ]
  },
  {
   "cell_type": "code",
   "execution_count": 7,
   "metadata": {
    "ExecuteTime": {
     "end_time": "2022-03-28T23:48:06.994956Z",
     "start_time": "2022-03-28T23:48:06.983971Z"
    },
    "deletable": false,
    "nbgrader": {
     "cell_type": "code",
     "checksum": "f13f3e63d16b47492b174e5276a3c318",
     "grade": false,
     "grade_id": "A6",
     "locked": false,
     "schema_version": 3,
     "solution": true,
     "task": false
    }
   },
   "outputs": [
    {
     "name": "stdout",
     "output_type": "stream",
     "text": [
      "Basket weight: 370.0g\n",
      "Basket cost: $3.9\n"
     ]
    }
   ],
   "source": [
    "relation_fruit_basket = 'Aggregation' # 'Inheritance' or 'Composition' or 'Aggregation'\n",
    "\n",
    "class Fruit:\n",
    "    def __init__(self, name, weight, price):\n",
    "        '''Weight in grams. Price in (float) dollars.'''\n",
    "        self.__name = name\n",
    "        self.__weight = weight\n",
    "        self.__price = price\n",
    "        \n",
    "    @property\n",
    "    def name(self):\n",
    "        return self.__name\n",
    "\n",
    "    @property\n",
    "    def weight(self):\n",
    "        return self.__weight\n",
    "    \n",
    "    @property\n",
    "    def price(self):\n",
    "        return round(self.__price, 2)\n",
    "    \n",
    "    @price.setter    \n",
    "    def price(self, price):\n",
    "        if not 0 < price < 20:\n",
    "            raise ValueError(\"Price must be between 0 and 20\")\n",
    "        self.__price = price\n",
    "\n",
    "class FruitBasket:\n",
    "    def __init__(self):\n",
    "        self.__fruits = []\n",
    "        self.__quantities = []\n",
    "        \n",
    "    @property    \n",
    "    def weight(self):\n",
    "        return sum(fruit.weight * qty for fruit, qty in zip(self.__fruits, self.__quantities))\n",
    "    \n",
    "    @property\n",
    "    def cost(self):\n",
    "        return round(sum(fruit.price * qty for fruit, qty in zip(self.__fruits, self.__quantities)), 2)\n",
    "        \n",
    "    def add(self, fruit, pieces):\n",
    "        self.__fruits.append(fruit)\n",
    "        self.__quantities.append(pieces)\n",
    "\n",
    "\n",
    "# YOUR CODE HERE\n",
    "basket = FruitBasket()\n",
    "apple = Fruit('apple', 120.0, 1.20)\n",
    "pear = Fruit('pear', 130.0, 1.50)\n",
    "\n",
    "basket.add(apple, 2)\n",
    "basket.add(pear, 1)\n",
    "\n",
    "print(f\"Basket weight: {basket.weight}g\")\n",
    "print(f\"Basket cost: ${basket.cost}\")\n",
    "\n",
    "try:\n",
    "    expensive_fruit = Fruit('golden_apple', 200.0, 25.0)  # Should raise ValueError\n",
    "except ValueError as e:\n",
    "    print(f\"Error caught: Price validation works\")\n"
   ]
  },
  {
   "cell_type": "code",
   "execution_count": null,
   "metadata": {
    "deletable": false,
    "editable": false,
    "nbgrader": {
     "cell_type": "code",
     "checksum": "29a13df51b8df2e473d0a9d0cc8d0636",
     "grade": true,
     "grade_id": "test-A6_fruits",
     "locked": true,
     "points": 15,
     "schema_version": 3,
     "solution": false,
     "task": false
    }
   },
   "outputs": [],
   "source": [
    "# Testing Cell (DO NOT MODIFY THIS CELL)"
   ]
  },
  {
   "cell_type": "markdown",
   "metadata": {},
   "source": [
    "#### Question 7&nbsp;&nbsp;&nbsp;&nbsp;&nbsp;&nbsp;(15 Points) \n",
    "The library of Ikmich is developing software to automate book borrowing features for its users. \n",
    "\n",
    "The librarians of Ikmich have investigated the [Python module \"datetime\"](https://docs.python.org/3/library/datetime.html) to keep track of their borrowers. You will need to investigatge it too in order to workout:\n",
    "- today: `datetime.date.today()`\n",
    "- a week from today: `datetime.date.today() + timedelta(weeks = 1)`\n",
    "\n",
    "Implement the following classes as per the requirements:\n",
    "```python\n",
    "class Author:\n",
    "    \n",
    "    # attributes:\n",
    "    #\n",
    "    # first_name (string)\n",
    "    # last_name (string)\n",
    "    # date_of_birth (datetime.date)\n",
    "    # description = None (string) \n",
    "    \n",
    "    # methods:\n",
    "    #\n",
    "    def __init__(self, first_name, last_name, date_of_birth):\n",
    "\n",
    "    def get_name(self): \n",
    "        ''' returns first_name'+ ' ' + \"last_name\". '''\n",
    "        \n",
    "    def get_date_of_birth(self) \n",
    "        ''' returned in datetime.date format'''\n",
    "        \n",
    "    def set_description(self, description):\n",
    "        \n",
    "    def get_description(self):\n",
    "\n",
    "class Book:\n",
    "\n",
    "    # attributes:\n",
    "    #\n",
    "    # name (string)\n",
    "    # author (Author)\n",
    "    # borrowed_date (datetime) = None\n",
    "    # due_date (datetime) = None\n",
    "    \n",
    "    # methods\n",
    "    #\n",
    "    def __init__(self, name, author):\n",
    "        \n",
    "    def get_name(self):\n",
    "        \n",
    "    def get_author(self):\n",
    "        \n",
    "    def get_borrowed_date(self):\n",
    "        ''' Returns datetime.date. '''\n",
    "        \n",
    "    def get_due_date(self):\n",
    "        ''' Returns datetime.date. '''\n",
    "        \n",
    "    def borrow (self, no_of_days):\n",
    "        ''' \n",
    "        Sets borrowed_date to datetime.date.today() and sets\n",
    "        due date to borrowed_date + timedelta(days = no_of_days)\n",
    "        '''\n",
    "```\n",
    "Identify the relationship between Author and Book and populate the variable `relation_auth_book` with one of the following values: \n",
    "- `'Inheritance'`,\n",
    "- `'Composition'`, or\n",
    "- `'Aggregation'`."
   ]
  },
  {
   "cell_type": "code",
   "execution_count": 8,
   "metadata": {
    "ExecuteTime": {
     "end_time": "2022-03-29T00:40:03.117011Z",
     "start_time": "2022-03-29T00:40:03.102599Z"
    },
    "deletable": false,
    "nbgrader": {
     "cell_type": "code",
     "checksum": "2b1c59e33e41c0436098149c671554f7",
     "grade": false,
     "grade_id": "A7",
     "locked": false,
     "schema_version": 3,
     "solution": true,
     "task": false
    }
   },
   "outputs": [
    {
     "name": "stdout",
     "output_type": "stream",
     "text": [
      "Author: J.K. Rowling\n",
      "Book: Harry Potter\n",
      "Borrowed date: 2024-11-03\n",
      "Due date: 2024-11-17\n"
     ]
    }
   ],
   "source": [
    "from datetime import date, timedelta\n",
    "\n",
    "relation_auth_book = 'Aggregation' # assign this variable a value \n",
    "\n",
    "# YOUR CODE HERE\n",
    "class Author:\n",
    "    def __init__(self, first_name, last_name, date_of_birth):\n",
    "        self.__first_name = first_name\n",
    "        self.__last_name = last_name\n",
    "        self.__date_of_birth = date_of_birth\n",
    "        self.__description = None\n",
    "    \n",
    "    def get_name(self):\n",
    "        return f\"{self.__first_name} {self.__last_name}\"\n",
    "        \n",
    "    def get_date_of_birth(self):\n",
    "        return self.__date_of_birth\n",
    "        \n",
    "    def set_description(self, description):\n",
    "        self.__description = description\n",
    "        \n",
    "    def get_description(self):\n",
    "        return self.__description\n",
    "\n",
    "class Book:\n",
    "    def __init__(self, name, author):\n",
    "        self.__name = name\n",
    "        self.__author = author\n",
    "        self.__borrowed_date = None\n",
    "        self.__due_date = None\n",
    "        \n",
    "    def get_name(self):\n",
    "        return self.__name\n",
    "        \n",
    "    def get_author(self):\n",
    "        return self.__author\n",
    "        \n",
    "    def get_borrowed_date(self):\n",
    "        return self.__borrowed_date\n",
    "        \n",
    "    def get_due_date(self):\n",
    "        return self.__due_date\n",
    "        \n",
    "    def borrow(self, no_of_days):\n",
    "        self.__borrowed_date = date.today()\n",
    "        self.__due_date = self.__borrowed_date + timedelta(days=no_of_days)\n",
    "\n",
    "author = Author(\"J.K.\", \"Rowling\", date(1965, 7, 31))\n",
    "book = Book(\"Harry Potter\", author)\n",
    "\n",
    "print(f\"Author: {author.get_name()}\")\n",
    "print(f\"Book: {book.get_name()}\")\n",
    "\n",
    "book.borrow(14)\n",
    "print(f\"Borrowed date: {book.get_borrowed_date()}\")\n",
    "print(f\"Due date: {book.get_due_date()}\")\n",
    "\n"
   ]
  },
  {
   "cell_type": "code",
   "execution_count": null,
   "metadata": {
    "ExecuteTime": {
     "end_time": "2022-03-29T00:14:59.668116Z",
     "start_time": "2022-03-29T00:14:59.654644Z"
    },
    "deletable": false,
    "editable": false,
    "nbgrader": {
     "cell_type": "code",
     "checksum": "3ab430ce93461d61febf2e79db7a6064",
     "grade": true,
     "grade_id": "test-A7_author",
     "locked": true,
     "points": 15,
     "schema_version": 3,
     "solution": false,
     "task": false
    }
   },
   "outputs": [],
   "source": [
    "# Testing Cell (Do NOT modify this cell)"
   ]
  },
  {
   "attachments": {
    "c0a2bdbd-ddc1-4097-8c85-3bf2a768004f.png": {
     "image/png": "[encoded data removed]"
    }
   },
   "cell_type": "markdown",
   "metadata": {},
   "source": [
    "#### Question 8&nbsp;&nbsp;&nbsp;&nbsp;&nbsp;&nbsp;(10 Points)\n",
    "\n",
    "Use the following class diagram to create this hierarchy of inheritance:<br />\n",
    "![class.png](attachment:c0a2bdbd-ddc1-4097-8c85-3bf2a768004f.png)<br/><br/>\n",
    "For each class, the method `get_info()` should be a class method that returns the name of the class itself preceded by the string `\"name: \"`. For example, `Animal.get_info()` returns the string `\"name: Animal\"`.\n",
    "\n",
    "Finally, create a new class for `Dolphin` which inherits `MarineMammal` and `FlightlessMammal` (in that order). "
   ]
  },
  {
   "cell_type": "code",
   "execution_count": 9,
   "metadata": {
    "ExecuteTime": {
     "end_time": "2022-03-29T01:18:35.258063Z",
     "start_time": "2022-03-29T01:18:35.236899Z"
    },
    "deletable": false,
    "nbgrader": {
     "cell_type": "code",
     "checksum": "139242b73b42140af56579fa821abd42",
     "grade": false,
     "grade_id": "A8",
     "locked": false,
     "schema_version": 3,
     "solution": true,
     "task": false
    }
   },
   "outputs": [
    {
     "name": "stdout",
     "output_type": "stream",
     "text": [
      "name: Animal\n",
      "name: Mammal\n",
      "name: Bird\n",
      "name: MarineMammal\n",
      "name: FlightlessMammal\n",
      "name: FlyingBird\n",
      "name: Dolphin\n",
      "Is dolphin a MarineMammal? True\n",
      "Is dolphin a FlightlessMammal? True\n",
      "Is dolphin a Mammal? True\n",
      "Is dolphin an Animal? True\n"
     ]
    }
   ],
   "source": [
    "class Animal:\n",
    "    @classmethod\n",
    "    def get_info(cls):\n",
    "        return f\"name: {cls.__name__}\"\n",
    "\n",
    "class Mammal(Animal):\n",
    "    @classmethod\n",
    "    def get_info(cls):\n",
    "        return f\"name: {cls.__name__}\"\n",
    "\n",
    "class Bird(Animal):\n",
    "    @classmethod\n",
    "    def get_info(cls):\n",
    "        return f\"name: {cls.__name__}\"\n",
    "\n",
    "class MarineMammal(Mammal):\n",
    "    @classmethod\n",
    "    def get_info(cls):\n",
    "        return f\"name: {cls.__name__}\"\n",
    "\n",
    "class FlightlessMammal(Mammal):\n",
    "    @classmethod\n",
    "    def get_info(cls):\n",
    "        return f\"name: {cls.__name__}\"\n",
    "\n",
    "class FlyingBird(Bird):\n",
    "    @classmethod\n",
    "    def get_info(cls):\n",
    "        return f\"name: {cls.__name__}\"\n",
    "\n",
    "class Dolphin(MarineMammal, FlightlessMammal):\n",
    "    @classmethod\n",
    "    def get_info(cls):\n",
    "        return f\"name: {cls.__name__}\"\n",
    "\n",
    "# YOUR CODE HERE\n",
    "print(Animal.get_info())\n",
    "print(Mammal.get_info())\n",
    "print(Bird.get_info())\n",
    "print(MarineMammal.get_info())\n",
    "print(FlightlessMammal.get_info())\n",
    "print(FlyingBird.get_info())\n",
    "print(Dolphin.get_info())\n",
    "dolphin = Dolphin()\n",
    "print(f\"Is dolphin a MarineMammal? {isinstance(dolphin, MarineMammal)}\")\n",
    "print(f\"Is dolphin a FlightlessMammal? {isinstance(dolphin, FlightlessMammal)}\")\n",
    "print(f\"Is dolphin a Mammal? {isinstance(dolphin, Mammal)}\")\n",
    "print(f\"Is dolphin an Animal? {isinstance(dolphin, Animal)}\")"
   ]
  },
  {
   "cell_type": "code",
   "execution_count": null,
   "metadata": {
    "deletable": false,
    "editable": false,
    "nbgrader": {
     "cell_type": "code",
     "checksum": "2b9dd3cb2479c668143eea8a6ed384c1",
     "grade": true,
     "grade_id": "test-A8_animal",
     "locked": true,
     "points": 10,
     "schema_version": 3,
     "solution": false,
     "task": false
    }
   },
   "outputs": [],
   "source": [
    "# Testing Cell (Do NOT modify this cell)"
   ]
  },
  {
   "cell_type": "markdown",
   "metadata": {},
   "source": [
    "#### Question 9&nbsp;&nbsp;&nbsp;&nbsp;&nbsp;&nbsp;(10 Points)\n",
    "\n",
    "Define a class:\n",
    "```python\n",
    "class Employee:\n",
    "    \n",
    "    def __init__(self, name, hours_per_week):\n",
    "        ...\n",
    "        \n",
    "    def get_hours_per_week (self):\n",
    "        ...\n",
    "```\n",
    "with a **static method** for the class `is_full_time(hours)` that accepts a number of hours per week and returns `True` if the number of hours is greater than or equal to 40 (otherwise `False`)."
   ]
  },
  {
   "cell_type": "code",
   "execution_count": 10,
   "metadata": {
    "ExecuteTime": {
     "end_time": "2022-03-29T01:18:35.258063Z",
     "start_time": "2022-03-29T01:18:35.236899Z"
    },
    "deletable": false,
    "nbgrader": {
     "cell_type": "code",
     "checksum": "17d3b703196de372ef582b40b7e077b5",
     "grade": false,
     "grade_id": "A9",
     "locked": false,
     "schema_version": 3,
     "solution": true,
     "task": false
    }
   },
   "outputs": [
    {
     "name": "stdout",
     "output_type": "stream",
     "text": [
      "Full-time employee hours: 40\n",
      "Part-time employee hours: 20\n"
     ]
    }
   ],
   "source": [
    "class Employee:\n",
    "    def __init__(self, name, hours_per_week):\n",
    "        self.__name = name\n",
    "        self.__hours_per_week = hours_per_week\n",
    "        \n",
    "    def get_hours_per_week(self):\n",
    "        return self.__hours_per_week\n",
    "    \n",
    "    @staticmethod\n",
    "    def is_full_time(hours):\n",
    "        return hours >= 40\n",
    "# YOUR CODE HERE\n",
    "full_time_emp = Employee(\"John Doe\", 40)\n",
    "part_time_emp = Employee(\"Jane Smith\", 20)\n",
    "print(f\"Full-time employee hours: {full_time_emp.get_hours_per_week()}\")\n",
    "print(f\"Part-time employee hours: {part_time_emp.get_hours_per_week()}\")\n"
   ]
  },
  {
   "cell_type": "code",
   "execution_count": null,
   "metadata": {
    "ExecuteTime": {
     "end_time": "2022-03-29T01:18:47.115291Z",
     "start_time": "2022-03-29T01:18:47.100301Z"
    },
    "deletable": false,
    "editable": false,
    "nbgrader": {
     "cell_type": "code",
     "checksum": "68aced6554a3fb9b85d51b829f8e64dd",
     "grade": true,
     "grade_id": "test_A9-Employee",
     "locked": true,
     "points": 10,
     "schema_version": 3,
     "solution": false,
     "task": false
    }
   },
   "outputs": [],
   "source": [
    "# Testing Cell (Do NOT modify this cell)"
   ]
  }
 ],
 "metadata": {
  "hide_input": false,
  "kernelspec": {
   "display_name": "Python 3 (ipykernel)",
   "language": "python",
   "name": "python3"
  },
  "language_info": {
   "codemirror_mode": {
    "name": "ipython",
    "version": 3
   },
   "file_extension": ".py",
   "mimetype": "text/x-python",
   "name": "python",
   "nbconvert_exporter": "python",
   "pygments_lexer": "ipython3",
   "version": "3.12.2"
  },
  "nbTranslate": {
   "displayLangs": [
    "*"
   ],
   "hotkey": "alt-t",
   "langInMainMenu": true,
   "sourceLang": "en",
   "targetLang": "fr",
   "useGoogleTranslate": true
  },
  "toc": {
   "base_numbering": 1,
   "nav_menu": {},
   "number_sections": true,
   "sideBar": true,
   "skip_h1_title": false,
   "title_cell": "Table of Contents",
   "title_sidebar": "Contents",
   "toc_cell": false,
   "toc_position": {},
   "toc_section_display": true,
   "toc_window_display": false
  },
  "varInspector": {
   "cols": {
    "lenName": 16,
    "lenType": 16,
    "lenVar": 40
   },
   "kernels_config": {
    "python": {
     "delete_cmd_postfix": "",
     "delete_cmd_prefix": "del ",
     "library": "var_list.py",
     "varRefreshCmd": "print(var_dic_list())"
    },
    "r": {
     "delete_cmd_postfix": ") ",
     "delete_cmd_prefix": "rm(",
     "library": "var_list.r",
     "varRefreshCmd": "cat(var_dic_list()) "
    }
   },
   "types_to_exclude": [
    "module",
    "function",
    "builtin_function_or_method",
    "instance",
    "_Feature"
   ],
   "window_display": false
  }
 },
 "nbformat": 4,
 "nbformat_minor": 4
}
