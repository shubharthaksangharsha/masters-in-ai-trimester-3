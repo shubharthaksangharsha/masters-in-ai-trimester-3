{
 "cells": [
  {
   "cell_type": "markdown",
   "id": "578d2f82-6326-41ee-8ddd-c532ae17b4af",
   "metadata": {},
   "source": [
    "## Assignment #2\n",
    "\n",
    "This assignment has three parts. \n",
    "\n",
    "In the first part, you will implement Principle Components Analysis (from scratch) and use it to reduce the dimensionality of a dataset from 500 different measures, down to two.\n",
    "\n",
    "In the second part, you will implement K-Means (from scratch) and use it to perform clustering on the dataset dividing the data into a series of clusters.\n",
    "\n",
    "\n",
    "In the second part you will implement a mulitclass classification system to classify the data in the provided dataset into seven classes. \n",
    "\n",
    "### Mark-scheme\n",
    "- Part 1 = 15 marks\n",
    "- Part 2 = 35 marks\n",
    "- Part 3 = 50 marks\n",
    "\n",
    "-------------------------------------------------------------------------------------------------------------"
   ]
  },
  {
   "cell_type": "markdown",
   "id": "6e3a9269",
   "metadata": {},
   "source": [
    "# [Shubharthak Sangharasha](https://shubharthaksangharsha.github.io)\n",
    "# StudentID: `a1944839`"
   ]
  },
  {
   "cell_type": "code",
   "execution_count": 15,
   "id": "69dc589b",
   "metadata": {},
   "outputs": [],
   "source": [
    "#first I'm appending my path variable so that I can import packages from miniconda (IGNORE THIS CELL)\n",
    "import sys\n",
    "sys.path.append('/home/shubharthak/miniconda3/lib/python3.12/site-packages') \n",
    "\n",
    "#Importing important packages for this assingment \n",
    "import numpy as np \n",
    "import matplotlib.pyplot as plt \n",
    "import pandas as pd "
   ]
  },
  {
   "cell_type": "markdown",
   "id": "e2e5d57a",
   "metadata": {},
   "source": [
    "## Part 1: Principle Components Analysis (PCA)\n",
    "Here you will use the data provided in the \"Dataset1.csv\" file. \n",
    "\n",
    "Before clustering the data, you will implement PCA to reduce the dimensionality from 500 to 2. This way, we can see the results of the clustering on an easy to understand 2-dimensional graph."
   ]
  },
  {
   "cell_type": "markdown",
   "id": "17abdade",
   "metadata": {},
   "source": [
    "#### 1.1 Load the Data\n",
    "Populate the function below to load the data from the requested file."
   ]
  },
  {
   "cell_type": "code",
   "execution_count": 16,
   "id": "a13e4d33",
   "metadata": {},
   "outputs": [],
   "source": [
    "# Load \"Dataset1.csv\" file\n",
    "# Returns X where X is a 1000 by 500 (m=1000 and d=500. d is the number of features) \n",
    "def load_data(file_name):\n",
    "    X = np.loadtxt(file_name, delimiter=',', skiprows=0)\n",
    "    return X"
   ]
  },
  {
   "cell_type": "markdown",
   "id": "70e16dd8",
   "metadata": {},
   "source": [
    "Loading the dataset as per your function."
   ]
  },
  {
   "cell_type": "code",
   "execution_count": 20,
   "id": "e36ccbdc",
   "metadata": {},
   "outputs": [
    {
     "name": "stdout",
     "output_type": "stream",
     "text": [
      "(1000, 500)\n",
      "               0            1            2            3            4    \\\n",
      "count  1000.000000  1000.000000  1000.000000  1000.000000  1000.000000   \n",
      "mean     57.343325    54.404705    55.273064    54.765455    54.677658   \n",
      "std      49.347609    48.818790    49.390251    48.900508    50.476966   \n",
      "min     -87.790493   -89.656865  -101.543336   -86.526431  -101.995383   \n",
      "25%      22.363384    22.004696    21.067367    19.413326    18.412369   \n",
      "50%      57.572379    53.864865    56.020958    55.044021    53.328156   \n",
      "75%      91.063156    88.000007    88.187065    89.335599    91.498358   \n",
      "max     214.821537   209.107562   206.483928   197.649315   234.685503   \n",
      "\n",
      "               5            6            7            8            9    ...  \\\n",
      "count  1000.000000  1000.000000  1000.000000  1000.000000  1000.000000  ...   \n",
      "mean     54.613399    55.842342    53.285894    55.613881    57.032157  ...   \n",
      "std      48.135587    51.253610    49.434101    49.481440    50.032493  ...   \n",
      "min     -80.755213  -132.145731  -113.740365  -153.381746   -91.033934  ...   \n",
      "25%      21.967965    20.338125    18.996077    19.552878    23.092223  ...   \n",
      "50%      53.980556    57.849058    55.390816    53.684250    56.481612  ...   \n",
      "75%      88.056782    90.439987    85.088723    89.109184    93.259124  ...   \n",
      "max     191.160529   199.204173   211.594395   200.752699   188.545304  ...   \n",
      "\n",
      "               490          491          492          493          494  \\\n",
      "count  1000.000000  1000.000000  1000.000000  1000.000000  1000.000000   \n",
      "mean     56.233467    56.834159    55.382531    53.515295    57.419614   \n",
      "std      49.364105    49.064886    49.395414    49.437177    49.340516   \n",
      "min    -108.916817   -84.861703   -99.975498  -103.527578  -103.042546   \n",
      "25%      22.044393    20.308724    23.223910    19.515579    25.046120   \n",
      "50%      56.955757    55.406208    55.189569    53.043825    59.599663   \n",
      "75%      91.252506    91.455761    89.544457    84.939264    91.502417   \n",
      "max     209.324438   240.450866   195.052777   210.634315   188.068337   \n",
      "\n",
      "               495          496          497          498          499  \n",
      "count  1000.000000  1000.000000  1000.000000  1000.000000  1000.000000  \n",
      "mean     54.196756    56.048431    55.724044    56.216869    55.478192  \n",
      "std      48.191757    49.745789    49.879807    49.695260    47.917110  \n",
      "min     -93.439547   -93.421680   -84.783608   -94.588890  -103.283346  \n",
      "25%      22.348287    22.992965    21.248601    21.610768    23.108317  \n",
      "50%      53.673545    56.941882    55.659998    53.730326    55.572391  \n",
      "75%      87.587486    89.632002    92.046999    91.252975    89.012317  \n",
      "max     204.994089   213.050226   214.961831   211.253222   188.995292  \n",
      "\n",
      "[8 rows x 500 columns]\n"
     ]
    },
    {
     "data": {
      "text/html": [
       "<div>\n",
       "<style scoped>\n",
       "    .dataframe tbody tr th:only-of-type {\n",
       "        vertical-align: middle;\n",
       "    }\n",
       "\n",
       "    .dataframe tbody tr th {\n",
       "        vertical-align: top;\n",
       "    }\n",
       "\n",
       "    .dataframe thead th {\n",
       "        text-align: right;\n",
       "    }\n",
       "</style>\n",
       "<table border=\"1\" class=\"dataframe\">\n",
       "  <thead>\n",
       "    <tr style=\"text-align: right;\">\n",
       "      <th></th>\n",
       "      <th>0</th>\n",
       "      <th>1</th>\n",
       "      <th>2</th>\n",
       "      <th>3</th>\n",
       "      <th>4</th>\n",
       "      <th>5</th>\n",
       "      <th>6</th>\n",
       "      <th>7</th>\n",
       "      <th>8</th>\n",
       "      <th>9</th>\n",
       "      <th>...</th>\n",
       "      <th>490</th>\n",
       "      <th>491</th>\n",
       "      <th>492</th>\n",
       "      <th>493</th>\n",
       "      <th>494</th>\n",
       "      <th>495</th>\n",
       "      <th>496</th>\n",
       "      <th>497</th>\n",
       "      <th>498</th>\n",
       "      <th>499</th>\n",
       "    </tr>\n",
       "  </thead>\n",
       "  <tbody>\n",
       "    <tr>\n",
       "      <th>0</th>\n",
       "      <td>-8.076851</td>\n",
       "      <td>-33.586313</td>\n",
       "      <td>-15.279391</td>\n",
       "      <td>-28.877191</td>\n",
       "      <td>22.369651</td>\n",
       "      <td>-9.253667</td>\n",
       "      <td>0.290760</td>\n",
       "      <td>-37.284054</td>\n",
       "      <td>-23.923452</td>\n",
       "      <td>39.616180</td>\n",
       "      <td>...</td>\n",
       "      <td>75.201827</td>\n",
       "      <td>-12.734796</td>\n",
       "      <td>-9.921866</td>\n",
       "      <td>-30.191807</td>\n",
       "      <td>18.462009</td>\n",
       "      <td>80.808136</td>\n",
       "      <td>63.432810</td>\n",
       "      <td>-53.038641</td>\n",
       "      <td>-52.273725</td>\n",
       "      <td>-103.283346</td>\n",
       "    </tr>\n",
       "    <tr>\n",
       "      <th>1</th>\n",
       "      <td>8.183049</td>\n",
       "      <td>29.536241</td>\n",
       "      <td>17.634937</td>\n",
       "      <td>15.112621</td>\n",
       "      <td>18.858490</td>\n",
       "      <td>-58.441909</td>\n",
       "      <td>0.057827</td>\n",
       "      <td>-38.334411</td>\n",
       "      <td>15.142878</td>\n",
       "      <td>-31.067226</td>\n",
       "      <td>...</td>\n",
       "      <td>8.988342</td>\n",
       "      <td>-10.465687</td>\n",
       "      <td>-29.251560</td>\n",
       "      <td>29.183381</td>\n",
       "      <td>21.355763</td>\n",
       "      <td>-12.081727</td>\n",
       "      <td>23.263021</td>\n",
       "      <td>29.973054</td>\n",
       "      <td>-17.663338</td>\n",
       "      <td>-30.663408</td>\n",
       "    </tr>\n",
       "    <tr>\n",
       "      <th>2</th>\n",
       "      <td>73.248426</td>\n",
       "      <td>38.155514</td>\n",
       "      <td>-29.067712</td>\n",
       "      <td>-4.294567</td>\n",
       "      <td>-1.166015</td>\n",
       "      <td>-19.692671</td>\n",
       "      <td>38.679622</td>\n",
       "      <td>-39.620538</td>\n",
       "      <td>-9.149759</td>\n",
       "      <td>35.166845</td>\n",
       "      <td>...</td>\n",
       "      <td>-38.971476</td>\n",
       "      <td>68.167054</td>\n",
       "      <td>47.589543</td>\n",
       "      <td>24.004535</td>\n",
       "      <td>19.947927</td>\n",
       "      <td>-2.601181</td>\n",
       "      <td>-59.482800</td>\n",
       "      <td>22.285336</td>\n",
       "      <td>11.005355</td>\n",
       "      <td>58.804316</td>\n",
       "    </tr>\n",
       "    <tr>\n",
       "      <th>3</th>\n",
       "      <td>36.731343</td>\n",
       "      <td>46.489158</td>\n",
       "      <td>-66.683139</td>\n",
       "      <td>49.424797</td>\n",
       "      <td>80.819279</td>\n",
       "      <td>28.972385</td>\n",
       "      <td>-14.629573</td>\n",
       "      <td>-6.660141</td>\n",
       "      <td>-20.271478</td>\n",
       "      <td>-20.791206</td>\n",
       "      <td>...</td>\n",
       "      <td>-24.112281</td>\n",
       "      <td>14.033930</td>\n",
       "      <td>37.653844</td>\n",
       "      <td>26.898199</td>\n",
       "      <td>13.005369</td>\n",
       "      <td>27.684696</td>\n",
       "      <td>0.649896</td>\n",
       "      <td>-65.452867</td>\n",
       "      <td>34.167896</td>\n",
       "      <td>-10.706108</td>\n",
       "    </tr>\n",
       "    <tr>\n",
       "      <th>4</th>\n",
       "      <td>-20.058246</td>\n",
       "      <td>27.351323</td>\n",
       "      <td>76.937187</td>\n",
       "      <td>20.045053</td>\n",
       "      <td>-33.929355</td>\n",
       "      <td>-11.551736</td>\n",
       "      <td>-62.039224</td>\n",
       "      <td>76.521950</td>\n",
       "      <td>-36.403436</td>\n",
       "      <td>31.951611</td>\n",
       "      <td>...</td>\n",
       "      <td>31.484902</td>\n",
       "      <td>11.088770</td>\n",
       "      <td>18.684980</td>\n",
       "      <td>42.392688</td>\n",
       "      <td>17.648974</td>\n",
       "      <td>21.734755</td>\n",
       "      <td>36.352880</td>\n",
       "      <td>6.369480</td>\n",
       "      <td>-7.449487</td>\n",
       "      <td>32.155420</td>\n",
       "    </tr>\n",
       "  </tbody>\n",
       "</table>\n",
       "<p>5 rows × 500 columns</p>\n",
       "</div>"
      ],
      "text/plain": [
       "         0          1          2          3          4          5    \\\n",
       "0  -8.076851 -33.586313 -15.279391 -28.877191  22.369651  -9.253667   \n",
       "1   8.183049  29.536241  17.634937  15.112621  18.858490 -58.441909   \n",
       "2  73.248426  38.155514 -29.067712  -4.294567  -1.166015 -19.692671   \n",
       "3  36.731343  46.489158 -66.683139  49.424797  80.819279  28.972385   \n",
       "4 -20.058246  27.351323  76.937187  20.045053 -33.929355 -11.551736   \n",
       "\n",
       "         6          7          8          9    ...        490        491  \\\n",
       "0   0.290760 -37.284054 -23.923452  39.616180  ...  75.201827 -12.734796   \n",
       "1   0.057827 -38.334411  15.142878 -31.067226  ...   8.988342 -10.465687   \n",
       "2  38.679622 -39.620538  -9.149759  35.166845  ... -38.971476  68.167054   \n",
       "3 -14.629573  -6.660141 -20.271478 -20.791206  ... -24.112281  14.033930   \n",
       "4 -62.039224  76.521950 -36.403436  31.951611  ...  31.484902  11.088770   \n",
       "\n",
       "         492        493        494        495        496        497  \\\n",
       "0  -9.921866 -30.191807  18.462009  80.808136  63.432810 -53.038641   \n",
       "1 -29.251560  29.183381  21.355763 -12.081727  23.263021  29.973054   \n",
       "2  47.589543  24.004535  19.947927  -2.601181 -59.482800  22.285336   \n",
       "3  37.653844  26.898199  13.005369  27.684696   0.649896 -65.452867   \n",
       "4  18.684980  42.392688  17.648974  21.734755  36.352880   6.369480   \n",
       "\n",
       "         498         499  \n",
       "0 -52.273725 -103.283346  \n",
       "1 -17.663338  -30.663408  \n",
       "2  11.005355   58.804316  \n",
       "3  34.167896  -10.706108  \n",
       "4  -7.449487   32.155420  \n",
       "\n",
       "[5 rows x 500 columns]"
      ]
     },
     "execution_count": 20,
     "metadata": {},
     "output_type": "execute_result"
    }
   ],
   "source": [
    "# ## DO NOT MODIFY ##\n",
    "# Instruction to load the dataset\n",
    "X = load_data(\"./dataset/Dataset1.csv\")\n",
    "#also converting the dataset to X_df so that I can easily understand it better. \n",
    "X_df = pd.DataFrame(X)\n",
    "print(X_df.shape)\n",
    "print(X_df.describe())\n",
    "X_df.head()"
   ]
  },
  {
   "cell_type": "markdown",
   "id": "999cb2fd-5795-4857-a7b6-3dfdd2b9dd6d",
   "metadata": {
    "tags": []
   },
   "source": [
    "#### 1.2 Preprocess the data (5 marks)\n",
    "Answer the following question:\n",
    "\n",
    "**1.a)** Question: What pre-processing method will you use and why?"
   ]
  },
  {
   "cell_type": "markdown",
   "id": "8cd04796",
   "metadata": {},
   "source": [
    "<font color='yellow'>Write your answer here:</font>"
   ]
  },
  {
   "cell_type": "markdown",
   "id": "613e9627",
   "metadata": {},
   "source": []
  },
  {
   "cell_type": "markdown",
   "id": "31b38f8c",
   "metadata": {},
   "source": [
    "Populate the function below to perform any pre-processing needed to perform PCA (successfully)."
   ]
  },
  {
   "cell_type": "code",
   "execution_count": null,
   "id": "45e4c98f",
   "metadata": {},
   "outputs": [],
   "source": [
    "def pre_process(X):\n",
    "    # write your code here\n",
    "    \n",
    "    return X"
   ]
  },
  {
   "cell_type": "markdown",
   "id": "3adba28f-2bc6-49a8-a03f-72d963860f45",
   "metadata": {
    "tags": []
   },
   "source": [
    "#### 1.3 PCA Implementation (10 marks)\n",
    "Implement PCA to reduce the dimensionality of the input matrix X from its original dimensions to 2.\n",
    "- 10 marks for a correct manual implementation (you may use numpy functions - except PCA of course)\n",
    "- 5 marks for a library call"
   ]
  },
  {
   "cell_type": "code",
   "execution_count": 213,
   "id": "820bca5c-d00a-47bc-adbe-63b6673f3fcd",
   "metadata": {
    "tags": []
   },
   "outputs": [],
   "source": [
    "# Perform Principle components analysis on X, returning a 2-dimension output\n",
    "# input:  \n",
    "# - X:    High dimensional dataset\n",
    "# output: \n",
    "# - X_2d: Two dimensional dataset\n",
    "def my_PCA(X):\n",
    "    # write your code here\n",
    "    \n",
    "    return X_2d    "
   ]
  },
  {
   "cell_type": "code",
   "execution_count": 214,
   "id": "4e65de13-1d9d-4810-b187-ccf3f108312a",
   "metadata": {
    "tags": []
   },
   "outputs": [],
   "source": [
    "# ## DO NOT MODIFY ##\n",
    "# Calling all of the created functions and plotting a 2D graph of the new 'data points'\n",
    "X = pre_process(X)\n",
    "X_2d = my_PCA(X)\n",
    "# check out the shape and scatter plot the points\n",
    "print(X_2d.shape)\n",
    "plt.scatter(X_2d[:,0], X_2d[:,1])"
   ]
  },
  {
   "cell_type": "markdown",
   "id": "b8ab5ee7-586f-47e8-a2ce-17ee8dcfc299",
   "metadata": {
    "tags": []
   },
   "source": [
    "## Part 2: K-means"
   ]
  },
  {
   "cell_type": "markdown",
   "id": "d646b13d-e0d9-422a-a637-618d86032677",
   "metadata": {
    "tags": []
   },
   "source": [
    "#### 2.1 Initialisation (5 marks)\n",
    "Implement a function which randomly initialises centroids. Please note, the data is one of the input variables for a reason."
   ]
  },
  {
   "cell_type": "code",
   "execution_count": 215,
   "id": "770e8b56-9191-4be6-9138-cc721f0116ff",
   "metadata": {
    "tags": []
   },
   "outputs": [],
   "source": [
    "# input:\n",
    "# - k: number of centers\n",
    "# - X: the data\n",
    "# output:\n",
    "# - centroids is a k by 2 \n",
    "def initialise_centroids(X,k):    \n",
    "    # Write your code here\n",
    "    \n",
    "    return centroids"
   ]
  },
  {
   "cell_type": "markdown",
   "id": "bf862a98",
   "metadata": {},
   "source": [
    "Code to call and display ten randomly created centroids. If you get ten rainbow dots, you are on the right track."
   ]
  },
  {
   "cell_type": "code",
   "execution_count": 216,
   "id": "f94a717d-1c0e-406c-beae-43e0cbd4f74b",
   "metadata": {
    "tags": []
   },
   "outputs": [],
   "source": [
    "# ## DO NOT MODIFY ##\n",
    "centroids = initialise_centroids(X_2d, 10)\n",
    "\n",
    "# the code below will plot the centroids\n",
    "colors = iter(plt.cm.rainbow(np.linspace(0, 1, len(centroids))))\n",
    "for c in centroids:\n",
    "    plt.scatter(c[0], c[1], color=next(colors))"
   ]
  },
  {
   "cell_type": "markdown",
   "id": "bdb754b0-0611-4a81-929a-a9035160bee1",
   "metadata": {
    "tags": []
   },
   "source": [
    "#### 2.2 Assigning Points to Centroids (5 marks)\n",
    "Implement a function that takes the matrix X and a set of centroids and assigns each point in X to one of the provided centroids."
   ]
  },
  {
   "cell_type": "code",
   "execution_count": 217,
   "id": "eea9fc0a-b793-44cf-8d35-7de14b375b29",
   "metadata": {
    "tags": []
   },
   "outputs": [],
   "source": [
    "from scipy.spatial.distance import cdist\n",
    "# input:\n",
    "# - X is a m by 2 point \n",
    "# - centroids is a k by 2 , the center of k clusters.\n",
    "# output:\n",
    "# - cluster_assignments is an m by 1 vector. the id of the cluster for each point in X\n",
    "def assign(X,centroids):\n",
    "    # Write your code here\n",
    "    \n",
    "    return cluster_assignments"
   ]
  },
  {
   "cell_type": "markdown",
   "id": "542b051d",
   "metadata": {},
   "source": [
    "Code to assign each of the points from the post-PCA data a relevant centroid."
   ]
  },
  {
   "cell_type": "code",
   "execution_count": 3,
   "id": "972c2ee8-d3a6-4207-a885-063251857609",
   "metadata": {
    "tags": []
   },
   "outputs": [],
   "source": [
    "# ## DO NOT MODIFY ##\n",
    "cluster_assignments = assign(X_2d, centroids)\n",
    "\n",
    "# the code below will plot the points color-coded according to their cluster\n",
    "colors = iter(plt.cm.rainbow(np.linspace(0, 1, len(centroids))))\n",
    "for k in np.unique(cluster_assignments):\n",
    "    plt.scatter(X_2d[cluster_assignments==k,0], X_2d[cluster_assignments==k,1], color=next(colors))"
   ]
  },
  {
   "cell_type": "markdown",
   "id": "26be3b91-9b0e-44d7-8d88-18545d25d1ac",
   "metadata": {
    "tags": []
   },
   "source": [
    "#### 2.3 K-Means Cost Function (5 marks)\n",
    "Implement a function to compute the value of a cost function given a set of centroids and assignments "
   ]
  },
  {
   "cell_type": "code",
   "execution_count": 219,
   "id": "55981b60-b5aa-4fe9-aa0d-9aa1a3abb4bd",
   "metadata": {
    "tags": []
   },
   "outputs": [],
   "source": [
    "# input:\n",
    "# - X is a m by 2 point \n",
    "# - centroids is a k by 2 , the center of k clusters.\n",
    "# - cluster_assignments is an m by 1 vector. the id of the cluster for each point in X\n",
    "# output:\n",
    "# - cost is the overall 'cost' of the current assignments\n",
    "\n",
    "def cost(X, cluster_assignments, centroids):\n",
    "    # Write your code here\n",
    "    return cost"
   ]
  },
  {
   "cell_type": "markdown",
   "id": "bc26aee3",
   "metadata": {},
   "source": [
    "Code (assuming 10 centroids) which assigns each cluster and generates the equivalent cost."
   ]
  },
  {
   "cell_type": "code",
   "execution_count": 4,
   "id": "6a45e8a2-2db5-46a5-8174-5c597c0c446a",
   "metadata": {
    "tags": []
   },
   "outputs": [],
   "source": [
    "# ## DO NOT MODIFY\n",
    "k=10\n",
    "centroids = initialise_centroids(X_2d, k)\n",
    "cluster_assignments = assign(X_2d, centroids)\n",
    "c = cost(X_2d,cluster_assignments,centroids)\n",
    "print(c)"
   ]
  },
  {
   "cell_type": "markdown",
   "id": "71d92b62-ef0e-474b-8b2a-718faadbbefe",
   "metadata": {
    "tags": []
   },
   "source": [
    "#### 2.4 Putting it all together (20 marks)\n",
    "Implement a function to perform the k-means algorithm using the functions you implemented above.\n",
    "\n",
    "- 20 marks for a correct manual implementation (you may use numpy functions - except PCA of course)\n",
    "- 5 marks for a library call"
   ]
  },
  {
   "cell_type": "code",
   "execution_count": 221,
   "id": "95ae9c2d-869d-4fa5-81ae-7ca6fa1dc318",
   "metadata": {},
   "outputs": [],
   "source": [
    "# input:\n",
    "# - X is a m by 2 list of points \n",
    "# - k is the required number of centroids\n",
    "# - num_of_iterations is the number of times the k-means algorithm will run before 'giving up'\n",
    "# output:\n",
    "# - cluster_assignments is a m x 1 for each point in X, which cluster it belongs to\n",
    "# - centroids is a k x 2 matrix detailing the centroids of each cluster\n",
    "def My_Kmeans(X,k,num_of_iterations):\n",
    "    # Write your code here\n",
    "\n",
    "    return cluster_assignments, centroids\n",
    " "
   ]
  },
  {
   "cell_type": "markdown",
   "id": "3a8eb5d3",
   "metadata": {},
   "source": [
    "Code to run and test the final algorithm with 10 clusters, 1000 iterations. If you get ten blobs each of which is a different colour, you are on the right track."
   ]
  },
  {
   "cell_type": "code",
   "execution_count": 222,
   "id": "373ccd19-39b9-4f4a-95dd-e1dfb3e0020e",
   "metadata": {},
   "outputs": [],
   "source": [
    "k = 10\n",
    "centroids = []\n",
    "cluster_assignments , centroids = My_Kmeans(X_2d,k,1000)\n",
    "\n",
    "# the code below will plot the points color-coded according to their cluster\n",
    "colors = iter(plt.cm.rainbow(np.linspace(0, 1, k)))\n",
    "for k in np.unique(cluster_assignments):\n",
    "    plt.scatter(X_2d[cluster_assignments==k,0], X_2d[cluster_assignments==k,1], color=next(colors))\n",
    "    plt.scatter(centroids[k][0],centroids[k][1],marker=\"x\",s=100,c='k')"
   ]
  },
  {
   "cell_type": "markdown",
   "id": "9f000c99",
   "metadata": {},
   "source": [
    "Clustering according to the data's true clusters."
   ]
  },
  {
   "cell_type": "code",
   "execution_count": 224,
   "id": "7ab4be29-795a-41c4-959c-25301def089f",
   "metadata": {},
   "outputs": [],
   "source": [
    "k = 10\n",
    "cluster_assignments = load_data(\"True_clusters_IDs.csv\")\n",
    "centroids = []\n",
    "for idx in range(k):            \n",
    "    temp_cent = X_2d[cluster_assignments==idx].mean(axis=0)             \n",
    "    centroids.append(temp_cent)\n",
    "            \n",
    "# the code below will plot the points color-coded according to their cluster\n",
    "colors = iter(plt.cm.rainbow(np.linspace(0, 1, k)))\n",
    "for k in range(k):\n",
    "    plt.scatter(X_2d[cluster_assignments==k,0], X_2d[cluster_assignments==k,1], color=next(colors))\n",
    "    plt.scatter(centroids[k][0],centroids[k][1],marker=\"x\",s=100,c='k')"
   ]
  },
  {
   "cell_type": "markdown",
   "id": "c91cfe6a",
   "metadata": {},
   "source": [
    "# Part 3 (50 Marks)\n",
    "\n",
    "You will use the data provided in the **\"Dataset2.xlxs\"** file in Part 3 of the assignment. The dataset consists of 13611 samples belonging to seven different classes. Each sample has 16 features. \n",
    "\n",
    "* Objective: Using the provided dataset, develop a seven class classification method.\n",
    "\n",
    "* Evaluation Criteria: Your points will be based on the final **average accuracy** achieved by your method in a **10-fold cross validation** framework.\n",
    "\n",
    "    * 25 marks for achieving a classification accuracy above 82% and upto 87.92%         \n",
    "    * 40 marks for achieving a classification accuracy above 87.92% and up to 90.0%  \n",
    "    * 45 marks for achieving a classification accuracy above 90.0% and upto 93.13% \n",
    "    * 50 marks for achieving a classification accuracy above 93.13%.     \n",
    "\n",
    "* You have the freedom to employ any pre-processing, classifiers, and \n",
    "post-processing pipeline that you find applicable. Feel free to experiment with \n",
    "a wide range of machine learning methods to improve the performance of your system. \n",
    "\n",
    "* Your claims and results must be reproducable. \n",
    "\n",
    "* To ensure the reproducibility of your results and claims, it is essential that you save both your trained models, hyperparameter specifications,  and the random seeds used throughout your experiments. Saving your models will allow reproducing the achieved accuracy, and recording the random seeds will help validate any randomness in your processes."
   ]
  },
  {
   "cell_type": "code",
   "execution_count": null,
   "id": "29ad6797",
   "metadata": {},
   "outputs": [],
   "source": []
  }
 ],
 "metadata": {
  "kernelspec": {
   "display_name": "Python 3 (ipykernel)",
   "language": "python",
   "name": "python3"
  },
  "language_info": {
   "codemirror_mode": {
    "name": "ipython",
    "version": 3
   },
   "file_extension": ".py",
   "mimetype": "text/x-python",
   "name": "python",
   "nbconvert_exporter": "python",
   "pygments_lexer": "ipython3",
   "version": "3.12.3"
  }
 },
 "nbformat": 4,
 "nbformat_minor": 5
}
